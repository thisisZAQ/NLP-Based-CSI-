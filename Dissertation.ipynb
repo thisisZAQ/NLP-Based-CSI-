{
  "cells": [
    {
      "cell_type": "markdown",
      "metadata": {
        "id": "view-in-github",
        "colab_type": "text"
      },
      "source": [
        "<a href=\"https://colab.research.google.com/github/thisisZAQ/NLP-Based-CSI-/blob/main/Dissertation.ipynb\" target=\"_parent\"><img src=\"https://colab.research.google.com/assets/colab-badge.svg\" alt=\"Open In Colab\"/></a>"
      ]
    },
    {
      "cell_type": "code",
      "execution_count": null,
      "metadata": {
        "collapsed": true,
        "id": "mgZvVZvqM4po"
      },
      "outputs": [],
      "source": [
        "!pip install transformers datasets torch scikit-learn"
      ]
    },
    {
      "cell_type": "code",
      "execution_count": null,
      "metadata": {
        "id": "6UD8pAcPNdy4"
      },
      "outputs": [],
      "source": [
        "import pandas as pd\n",
        "import seaborn as sns\n",
        "import numpy as np"
      ]
    },
    {
      "cell_type": "code",
      "execution_count": null,
      "metadata": {
        "id": "Ft4YGmrpkktE"
      },
      "outputs": [],
      "source": [
        "#import torch\n",
        "from transformers import AutoTokenizer, AutoModelForSequenceClassification, Trainer, TrainingArguments\n",
        "#from datasets import Dataset\n",
        "from sklearn.model_selection import train_test_split"
      ]
    },
    {
      "cell_type": "code",
      "execution_count": null,
      "metadata": {
        "id": "0z5QXq3z2_mo"
      },
      "outputs": [],
      "source": [
        "df = pd.read_csv('/content/drive/MyDrive/News/NewsData.io_Indian_Economy.csv')"
      ]
    },
    {
      "cell_type": "code",
      "execution_count": null,
      "metadata": {
        "collapsed": true,
        "id": "fRzwoJOE_N4R"
      },
      "outputs": [],
      "source": [
        "#df.info()\n",
        "df.head(10)\n",
        "df.columns"
      ]
    },
    {
      "cell_type": "code",
      "execution_count": null,
      "metadata": {
        "id": "zC52vxygPQtA"
      },
      "outputs": [],
      "source": [
        "#checking the keywords distribution\n",
        "df['keywords'].value_counts().tail(20)"
      ]
    },
    {
      "cell_type": "code",
      "execution_count": null,
      "metadata": {
        "id": "hJovqB5RlnCA"
      },
      "outputs": [],
      "source": [
        "df['pubDate'] = df['pubDate'].str.strip('\"')"
      ]
    },
    {
      "cell_type": "code",
      "execution_count": null,
      "metadata": {
        "id": "uomZ3BHLihex"
      },
      "outputs": [],
      "source": [
        "#converting the date published column into datetime format\n",
        "\n",
        "df['pubDate'] = pd.to_datetime(df['pubDate'], format='mixed',utc=True)"
      ]
    },
    {
      "cell_type": "code",
      "execution_count": null,
      "metadata": {
        "id": "Zdb3db7xjZ24"
      },
      "outputs": [],
      "source": [
        "df.info()\n",
        "df['pubDate']"
      ]
    },
    {
      "cell_type": "code",
      "execution_count": null,
      "metadata": {
        "id": "FSvv63FwmBi-"
      },
      "outputs": [],
      "source": [
        "#filtering articles from 2022-24\n",
        "start_date = '2024-01-01'\n",
        "end_date = '2024-12-31'\n",
        "\n",
        "filtered_df = df[(df['pubDate'] >= start_date) & (df['pubDate'] <= end_date)]\n",
        "filtered_df.shape\n",
        "filtered_df.to_csv('filtered_df.csv', index=False)\n",
        "filtered_df.shape\n"
      ]
    },
    {
      "cell_type": "code",
      "execution_count": null,
      "metadata": {
        "id": "lusdXAh7k-G6"
      },
      "outputs": [],
      "source": [
        "df['pubDate'].max()"
      ]
    },
    {
      "cell_type": "code",
      "execution_count": null,
      "metadata": {
        "id": "4YEiTyFAeEhb"
      },
      "outputs": [],
      "source": [
        "unlabeled_df = df[df['sentiment'].isna()]\n",
        "unlabeled_df[['title','sentiment']].tail(20)\n",
        "unlabeled_df.to_csv('unlabeled_df.csv', index=False)\n",
        "unlabeled_df.head(20)\n",
        "unlabeled_df.shape\n",
        "\n",
        "unlabeled_df_1000=unlabeled_df.head(100).to_csv('unlabeled_df.csv', index=False)"
      ]
    },
    {
      "cell_type": "code",
      "source": [
        "unlabeled_df_1000.head(1000).to_csv('unlabeled_df.csv', index=False)"
      ],
      "metadata": {
        "id": "tfsyYqa4YXDV"
      },
      "execution_count": null,
      "outputs": []
    },
    {
      "cell_type": "code",
      "execution_count": null,
      "metadata": {
        "id": "6qEIL4AveoJg"
      },
      "outputs": [],
      "source": [
        "unlabeled_df['keywords'].value_counts().head(20)"
      ]
    },
    {
      "cell_type": "code",
      "source": [
        "#filtering articles from 2022-24\n",
        "start_date = '2023-12-31'\n",
        "end_date = '2024-12-31'\n",
        "\n",
        "unlabeled_df = unlabeled_df[(unlabeled_df['pubDate'] >= start_date) & (unlabeled_df['pubDate'] <= end_date)]\n",
        "unlabeled_df.shape"
      ],
      "metadata": {
        "id": "qTbYudLvGQyX"
      },
      "execution_count": null,
      "outputs": []
    },
    {
      "cell_type": "code",
      "execution_count": null,
      "metadata": {
        "id": "eaO8D8yloj0z"
      },
      "outputs": [],
      "source": [
        "labeled_df = df[df['sentiment'].notna()]\n",
        "labeled_df[['title','sentiment']].tail(20)\n",
        "labeled_df.to_csv('labeled_df.csv', index=False)\n",
        "labeled_df.shape\n",
        "labeled_df['sentiment'].value_counts()"
      ]
    },
    {
      "cell_type": "code",
      "source": [
        "start_date = '2023-12-31'\n",
        "end_date = '2024-12-31'\n",
        "\n",
        "labeled_df = labeled_df[(labeled_df['pubDate'] >= start_date) & (labeled_df['pubDate'] <= end_date)]\n",
        "labeled_df.shape"
      ],
      "metadata": {
        "id": "8PI30WIqGmiX"
      },
      "execution_count": null,
      "outputs": []
    },
    {
      "cell_type": "code",
      "execution_count": null,
      "metadata": {
        "cellView": "form",
        "id": "-GpZvBpvqwDU"
      },
      "outputs": [],
      "source": [
        "# @title Default title text\n",
        "#labeled sentiment df for consumer news\n",
        "def search_string(s, search):\n",
        "    return search in str(s).lower()\n",
        "\n",
        "# Searching for the string 'consumer' in all columns\n",
        "mask = labeled_df.apply(lambda x: x.map(lambda s: search_string(s, 'consumer')))\n",
        "\n",
        "# Filter the DataFrame based on the mask\n",
        "labeled_df_1 = labeled_df.loc[mask.any(axis=1)]\n",
        "labeled_df_1\n",
        "\n",
        "labeled_df_1['sentiment'].value_counts()\n",
        "#labeled_df_1.to_csv('labeled_df_1.csv', index=False)\n",
        "labeled_df_1.tail(15)\n"
      ]
    },
    {
      "cell_type": "code",
      "execution_count": null,
      "metadata": {
        "cellView": "form",
        "id": "etVp8sl6rqfU"
      },
      "outputs": [],
      "source": [
        "# @title Default title text\n",
        "#labeled sentiment df for business news\n",
        "def search_string(s, search):\n",
        "    return search in str(s).lower()\n",
        "\n",
        "# Searching for the string 'business' in all columns\n",
        "mask = labeled_df.apply(lambda x: x.map(lambda s: search_string(s, 'business')))\n",
        "\n",
        "# Filter the DataFrame based on the mask\n",
        "labeled_df_2 = labeled_df.loc[mask.any(axis=1)]\n",
        "labeled_df_2\n",
        "\n",
        "labeled_df_2.to_csv('labeled_df_2.csv', index=False)\n",
        "\n",
        "labeled_df_2['sentiment'].value_counts()"
      ]
    },
    {
      "cell_type": "code",
      "execution_count": null,
      "metadata": {
        "cellView": "form",
        "id": "_K3AWoHor718"
      },
      "outputs": [],
      "source": [
        "# @title Default title text\n",
        "#labeled sentiment df for investment news\n",
        "def search_string(s, search):\n",
        "    return search in str(s).lower()\n",
        "\n",
        "# Searching for the string 'investment' in all columns\n",
        "mask = labeled_df.apply(lambda x: x.map(lambda s: search_string(s, 'investment')))\n",
        "\n",
        "# Filter the DataFrame based on the mask\n",
        "labeled_df_3 = labeled_df.loc[mask.any(axis=1)]\n",
        "labeled_df_3\n",
        "\n",
        "labeled_df_3['sentiment'].value_counts()\n",
        "\n",
        "labeled_df_3.head(15)"
      ]
    },
    {
      "cell_type": "code",
      "execution_count": null,
      "metadata": {
        "cellView": "form",
        "id": "riiHeMqhsJqn"
      },
      "outputs": [],
      "source": [
        "# @title Default title text\n",
        "#labeled sentiment df for consumer sentiment news\n",
        "def search_string(s, search):\n",
        "    return search in str(s).lower()\n",
        "\n",
        "# Searching for the string 'consumer sentiment' in all columns\n",
        "mask = labeled_df.apply(lambda x: x.map(lambda s: search_string(s, 'consumer sentiment')))\n",
        "\n",
        "# Filter the DataFrame based on the mask\n",
        "labeled_df_4 = labeled_df.loc[mask.any(axis=1)]\n",
        "labeled_df_4\n",
        "\n",
        "labeled_df_4['sentiment'].value_counts()\n",
        "\n",
        "labeled_df_4.to_csv('labeled_df_4.csv', index=False)"
      ]
    },
    {
      "cell_type": "code",
      "execution_count": null,
      "metadata": {
        "cellView": "form",
        "id": "VuhfMJ41sjGV"
      },
      "outputs": [],
      "source": [
        "# @title Default title text\n",
        "#labeled sentiment df for healthcare news\n",
        "def search_string(s, search):\n",
        "    return search in str(s).lower()\n",
        "\n",
        "# Searching for the string 'investment' in all columns\n",
        "mask = labeled_df.apply(lambda x: x.map(lambda s: search_string(s, 'healthcare')))\n",
        "\n",
        "# Filter the DataFrame based on the mask\n",
        "labeled_df_5 = labeled_df.loc[mask.any(axis=1)]\n",
        "labeled_df_5\n",
        "\n",
        "labeled_df_5['sentiment'].value_counts()"
      ]
    },
    {
      "cell_type": "markdown",
      "metadata": {
        "id": "BFgdcKtFoY8X"
      },
      "source": [
        "\n",
        "\n",
        "---\n",
        "\n"
      ]
    },
    {
      "cell_type": "code",
      "execution_count": null,
      "metadata": {
        "id": "0tPbsBI9Fb0_"
      },
      "outputs": [],
      "source": [
        "lab_consumer_data = pd.read_csv('/content/drive/MyDrive/News/Labeled Data/newdata(consumer).csv')\n",
        "\n",
        "lab_consumer_data.head(25)\n",
        "\n",
        "lab_consumer_data['sentiment'].value_counts()\n",
        "#ab_consumer_data.shape\n",
        "lab_consumer_data.head(25)\n",
        "lab_consumer_data.to_csv('lab_consumer_data.csv', index=False)"
      ]
    },
    {
      "cell_type": "code",
      "execution_count": null,
      "metadata": {
        "colab": {
          "base_uri": "https://localhost:8080/",
          "height": 293
        },
        "id": "ncjfLfYaH5b4",
        "outputId": "9227e23b-d926-4ca8-dcbf-356f14682d90"
      },
      "outputs": [
        {
          "output_type": "execute_result",
          "data": {
            "text/plain": [
              "                                               title            keywords  \\\n",
              "0  \"Stocks To Watch: Grasim, Dr Reddy’s, ACC, Tor...  \"markets,business\"   \n",
              "1  \"Gold likely to touch Rs 70,000 in 2024, say e...     \"business-left\"   \n",
              "2  \"India to remain fastest-growing major economy...          \"business\"   \n",
              "3                              \"Ayushman revolution\"        \"editorials\"   \n",
              "4  \"Ola Electric 1st electric vehicle company to ...          \"business\"   \n",
              "\n",
              "                  creator                                            content  \\\n",
              "0  \"NDTV Profit Research\"  \"Grasim Industries Ltd., Dr. Reddy’s Laborator...   \n",
              "1       \"Daily Excelsior\"  \"MUMBAI, Dec 31: Continuing to glitter in 2024...   \n",
              "2       \"Daily Excelsior\"  \"NEW DELHI, Dec 31:India decisively withstood ...   \n",
              "3       \"Daily Excelsior\"  \"Viksit Bharat Sankalap Yatra in 50 days has a...   \n",
              "4               \"KR Desk\"  \"New Delhi: IPO-bound Ola Electric has reporte...   \n",
              "\n",
              "               pubDate   sentiment  \n",
              "0  2023-12-31 23:30:00   \"neutral\"  \n",
              "1  2023-12-31 22:30:35   \"neutral\"  \n",
              "2  2023-12-31 22:29:18  \"positive\"  \n",
              "3  2023-12-31 21:40:36   \"neutral\"  \n",
              "4  2023-12-31 19:58:47  \"positive\"  "
            ],
            "text/html": [
              "\n",
              "  <div id=\"df-70431350-fd3a-4f69-b498-6da9a9d6e71f\" class=\"colab-df-container\">\n",
              "    <div>\n",
              "<style scoped>\n",
              "    .dataframe tbody tr th:only-of-type {\n",
              "        vertical-align: middle;\n",
              "    }\n",
              "\n",
              "    .dataframe tbody tr th {\n",
              "        vertical-align: top;\n",
              "    }\n",
              "\n",
              "    .dataframe thead th {\n",
              "        text-align: right;\n",
              "    }\n",
              "</style>\n",
              "<table border=\"1\" class=\"dataframe\">\n",
              "  <thead>\n",
              "    <tr style=\"text-align: right;\">\n",
              "      <th></th>\n",
              "      <th>title</th>\n",
              "      <th>keywords</th>\n",
              "      <th>creator</th>\n",
              "      <th>content</th>\n",
              "      <th>pubDate</th>\n",
              "      <th>sentiment</th>\n",
              "    </tr>\n",
              "  </thead>\n",
              "  <tbody>\n",
              "    <tr>\n",
              "      <th>0</th>\n",
              "      <td>\"Stocks To Watch: Grasim, Dr Reddy’s, ACC, Tor...</td>\n",
              "      <td>\"markets,business\"</td>\n",
              "      <td>\"NDTV Profit Research\"</td>\n",
              "      <td>\"Grasim Industries Ltd., Dr. Reddy’s Laborator...</td>\n",
              "      <td>2023-12-31 23:30:00</td>\n",
              "      <td>\"neutral\"</td>\n",
              "    </tr>\n",
              "    <tr>\n",
              "      <th>1</th>\n",
              "      <td>\"Gold likely to touch Rs 70,000 in 2024, say e...</td>\n",
              "      <td>\"business-left\"</td>\n",
              "      <td>\"Daily Excelsior\"</td>\n",
              "      <td>\"MUMBAI, Dec 31: Continuing to glitter in 2024...</td>\n",
              "      <td>2023-12-31 22:30:35</td>\n",
              "      <td>\"neutral\"</td>\n",
              "    </tr>\n",
              "    <tr>\n",
              "      <th>2</th>\n",
              "      <td>\"India to remain fastest-growing major economy...</td>\n",
              "      <td>\"business\"</td>\n",
              "      <td>\"Daily Excelsior\"</td>\n",
              "      <td>\"NEW DELHI, Dec 31:India decisively withstood ...</td>\n",
              "      <td>2023-12-31 22:29:18</td>\n",
              "      <td>\"positive\"</td>\n",
              "    </tr>\n",
              "    <tr>\n",
              "      <th>3</th>\n",
              "      <td>\"Ayushman revolution\"</td>\n",
              "      <td>\"editorials\"</td>\n",
              "      <td>\"Daily Excelsior\"</td>\n",
              "      <td>\"Viksit Bharat Sankalap Yatra in 50 days has a...</td>\n",
              "      <td>2023-12-31 21:40:36</td>\n",
              "      <td>\"neutral\"</td>\n",
              "    </tr>\n",
              "    <tr>\n",
              "      <th>4</th>\n",
              "      <td>\"Ola Electric 1st electric vehicle company to ...</td>\n",
              "      <td>\"business\"</td>\n",
              "      <td>\"KR Desk\"</td>\n",
              "      <td>\"New Delhi: IPO-bound Ola Electric has reporte...</td>\n",
              "      <td>2023-12-31 19:58:47</td>\n",
              "      <td>\"positive\"</td>\n",
              "    </tr>\n",
              "  </tbody>\n",
              "</table>\n",
              "</div>\n",
              "    <div class=\"colab-df-buttons\">\n",
              "\n",
              "  <div class=\"colab-df-container\">\n",
              "    <button class=\"colab-df-convert\" onclick=\"convertToInteractive('df-70431350-fd3a-4f69-b498-6da9a9d6e71f')\"\n",
              "            title=\"Convert this dataframe to an interactive table.\"\n",
              "            style=\"display:none;\">\n",
              "\n",
              "  <svg xmlns=\"http://www.w3.org/2000/svg\" height=\"24px\" viewBox=\"0 -960 960 960\">\n",
              "    <path d=\"M120-120v-720h720v720H120Zm60-500h600v-160H180v160Zm220 220h160v-160H400v160Zm0 220h160v-160H400v160ZM180-400h160v-160H180v160Zm440 0h160v-160H620v160ZM180-180h160v-160H180v160Zm440 0h160v-160H620v160Z\"/>\n",
              "  </svg>\n",
              "    </button>\n",
              "\n",
              "  <style>\n",
              "    .colab-df-container {\n",
              "      display:flex;\n",
              "      gap: 12px;\n",
              "    }\n",
              "\n",
              "    .colab-df-convert {\n",
              "      background-color: #E8F0FE;\n",
              "      border: none;\n",
              "      border-radius: 50%;\n",
              "      cursor: pointer;\n",
              "      display: none;\n",
              "      fill: #1967D2;\n",
              "      height: 32px;\n",
              "      padding: 0 0 0 0;\n",
              "      width: 32px;\n",
              "    }\n",
              "\n",
              "    .colab-df-convert:hover {\n",
              "      background-color: #E2EBFA;\n",
              "      box-shadow: 0px 1px 2px rgba(60, 64, 67, 0.3), 0px 1px 3px 1px rgba(60, 64, 67, 0.15);\n",
              "      fill: #174EA6;\n",
              "    }\n",
              "\n",
              "    .colab-df-buttons div {\n",
              "      margin-bottom: 4px;\n",
              "    }\n",
              "\n",
              "    [theme=dark] .colab-df-convert {\n",
              "      background-color: #3B4455;\n",
              "      fill: #D2E3FC;\n",
              "    }\n",
              "\n",
              "    [theme=dark] .colab-df-convert:hover {\n",
              "      background-color: #434B5C;\n",
              "      box-shadow: 0px 1px 3px 1px rgba(0, 0, 0, 0.15);\n",
              "      filter: drop-shadow(0px 1px 2px rgba(0, 0, 0, 0.3));\n",
              "      fill: #FFFFFF;\n",
              "    }\n",
              "  </style>\n",
              "\n",
              "    <script>\n",
              "      const buttonEl =\n",
              "        document.querySelector('#df-70431350-fd3a-4f69-b498-6da9a9d6e71f button.colab-df-convert');\n",
              "      buttonEl.style.display =\n",
              "        google.colab.kernel.accessAllowed ? 'block' : 'none';\n",
              "\n",
              "      async function convertToInteractive(key) {\n",
              "        const element = document.querySelector('#df-70431350-fd3a-4f69-b498-6da9a9d6e71f');\n",
              "        const dataTable =\n",
              "          await google.colab.kernel.invokeFunction('convertToInteractive',\n",
              "                                                    [key], {});\n",
              "        if (!dataTable) return;\n",
              "\n",
              "        const docLinkHtml = 'Like what you see? Visit the ' +\n",
              "          '<a target=\"_blank\" href=https://colab.research.google.com/notebooks/data_table.ipynb>data table notebook</a>'\n",
              "          + ' to learn more about interactive tables.';\n",
              "        element.innerHTML = '';\n",
              "        dataTable['output_type'] = 'display_data';\n",
              "        await google.colab.output.renderOutput(dataTable, element);\n",
              "        const docLink = document.createElement('div');\n",
              "        docLink.innerHTML = docLinkHtml;\n",
              "        element.appendChild(docLink);\n",
              "      }\n",
              "    </script>\n",
              "  </div>\n",
              "\n",
              "\n",
              "<div id=\"df-42bcd0d3-4935-4b3e-88ee-8751d01427de\">\n",
              "  <button class=\"colab-df-quickchart\" onclick=\"quickchart('df-42bcd0d3-4935-4b3e-88ee-8751d01427de')\"\n",
              "            title=\"Suggest charts\"\n",
              "            style=\"display:none;\">\n",
              "\n",
              "<svg xmlns=\"http://www.w3.org/2000/svg\" height=\"24px\"viewBox=\"0 0 24 24\"\n",
              "     width=\"24px\">\n",
              "    <g>\n",
              "        <path d=\"M19 3H5c-1.1 0-2 .9-2 2v14c0 1.1.9 2 2 2h14c1.1 0 2-.9 2-2V5c0-1.1-.9-2-2-2zM9 17H7v-7h2v7zm4 0h-2V7h2v10zm4 0h-2v-4h2v4z\"/>\n",
              "    </g>\n",
              "</svg>\n",
              "  </button>\n",
              "\n",
              "<style>\n",
              "  .colab-df-quickchart {\n",
              "      --bg-color: #E8F0FE;\n",
              "      --fill-color: #1967D2;\n",
              "      --hover-bg-color: #E2EBFA;\n",
              "      --hover-fill-color: #174EA6;\n",
              "      --disabled-fill-color: #AAA;\n",
              "      --disabled-bg-color: #DDD;\n",
              "  }\n",
              "\n",
              "  [theme=dark] .colab-df-quickchart {\n",
              "      --bg-color: #3B4455;\n",
              "      --fill-color: #D2E3FC;\n",
              "      --hover-bg-color: #434B5C;\n",
              "      --hover-fill-color: #FFFFFF;\n",
              "      --disabled-bg-color: #3B4455;\n",
              "      --disabled-fill-color: #666;\n",
              "  }\n",
              "\n",
              "  .colab-df-quickchart {\n",
              "    background-color: var(--bg-color);\n",
              "    border: none;\n",
              "    border-radius: 50%;\n",
              "    cursor: pointer;\n",
              "    display: none;\n",
              "    fill: var(--fill-color);\n",
              "    height: 32px;\n",
              "    padding: 0;\n",
              "    width: 32px;\n",
              "  }\n",
              "\n",
              "  .colab-df-quickchart:hover {\n",
              "    background-color: var(--hover-bg-color);\n",
              "    box-shadow: 0 1px 2px rgba(60, 64, 67, 0.3), 0 1px 3px 1px rgba(60, 64, 67, 0.15);\n",
              "    fill: var(--button-hover-fill-color);\n",
              "  }\n",
              "\n",
              "  .colab-df-quickchart-complete:disabled,\n",
              "  .colab-df-quickchart-complete:disabled:hover {\n",
              "    background-color: var(--disabled-bg-color);\n",
              "    fill: var(--disabled-fill-color);\n",
              "    box-shadow: none;\n",
              "  }\n",
              "\n",
              "  .colab-df-spinner {\n",
              "    border: 2px solid var(--fill-color);\n",
              "    border-color: transparent;\n",
              "    border-bottom-color: var(--fill-color);\n",
              "    animation:\n",
              "      spin 1s steps(1) infinite;\n",
              "  }\n",
              "\n",
              "  @keyframes spin {\n",
              "    0% {\n",
              "      border-color: transparent;\n",
              "      border-bottom-color: var(--fill-color);\n",
              "      border-left-color: var(--fill-color);\n",
              "    }\n",
              "    20% {\n",
              "      border-color: transparent;\n",
              "      border-left-color: var(--fill-color);\n",
              "      border-top-color: var(--fill-color);\n",
              "    }\n",
              "    30% {\n",
              "      border-color: transparent;\n",
              "      border-left-color: var(--fill-color);\n",
              "      border-top-color: var(--fill-color);\n",
              "      border-right-color: var(--fill-color);\n",
              "    }\n",
              "    40% {\n",
              "      border-color: transparent;\n",
              "      border-right-color: var(--fill-color);\n",
              "      border-top-color: var(--fill-color);\n",
              "    }\n",
              "    60% {\n",
              "      border-color: transparent;\n",
              "      border-right-color: var(--fill-color);\n",
              "    }\n",
              "    80% {\n",
              "      border-color: transparent;\n",
              "      border-right-color: var(--fill-color);\n",
              "      border-bottom-color: var(--fill-color);\n",
              "    }\n",
              "    90% {\n",
              "      border-color: transparent;\n",
              "      border-bottom-color: var(--fill-color);\n",
              "    }\n",
              "  }\n",
              "</style>\n",
              "\n",
              "  <script>\n",
              "    async function quickchart(key) {\n",
              "      const quickchartButtonEl =\n",
              "        document.querySelector('#' + key + ' button');\n",
              "      quickchartButtonEl.disabled = true;  // To prevent multiple clicks.\n",
              "      quickchartButtonEl.classList.add('colab-df-spinner');\n",
              "      try {\n",
              "        const charts = await google.colab.kernel.invokeFunction(\n",
              "            'suggestCharts', [key], {});\n",
              "      } catch (error) {\n",
              "        console.error('Error during call to suggestCharts:', error);\n",
              "      }\n",
              "      quickchartButtonEl.classList.remove('colab-df-spinner');\n",
              "      quickchartButtonEl.classList.add('colab-df-quickchart-complete');\n",
              "    }\n",
              "    (() => {\n",
              "      let quickchartButtonEl =\n",
              "        document.querySelector('#df-42bcd0d3-4935-4b3e-88ee-8751d01427de button');\n",
              "      quickchartButtonEl.style.display =\n",
              "        google.colab.kernel.accessAllowed ? 'block' : 'none';\n",
              "    })();\n",
              "  </script>\n",
              "</div>\n",
              "\n",
              "    </div>\n",
              "  </div>\n"
            ],
            "application/vnd.google.colaboratory.intrinsic+json": {
              "type": "dataframe",
              "variable_name": "labeled_df_final",
              "summary": "{\n  \"name\": \"labeled_df_final\",\n  \"rows\": 1392,\n  \"fields\": [\n    {\n      \"column\": \"title\",\n      \"properties\": {\n        \"dtype\": \"string\",\n        \"num_unique_values\": 1392,\n        \"samples\": [\n          \"\\\"Manipur Violence: What Is Free Movement Regime & Why Does Centre Want to End it?\\\"\",\n          \"\\\"Reliance Jio subscribes to keeping DTH licence fee\\\"\",\n          \"\\\"Pakistan not amused by Taliban official's wheat comment: Sachidananda Murthy\\\"\"\n        ],\n        \"semantic_type\": \"\",\n        \"description\": \"\"\n      }\n    },\n    {\n      \"column\": \"keywords\",\n      \"properties\": {\n        \"dtype\": \"category\",\n        \"num_unique_values\": 414,\n        \"samples\": [\n          \"\\\"motoring\\\"\",\n          \"\\\"videos,fit\\\"\",\n          \"\\\"personal-finance/investment\\\"\"\n        ],\n        \"semantic_type\": \"\",\n        \"description\": \"\"\n      }\n    },\n    {\n      \"column\": \"creator\",\n      \"properties\": {\n        \"dtype\": \"category\",\n        \"num_unique_values\": 223,\n        \"samples\": [\n          \"\\\"BILKUL ONLINE\\\"\",\n          \"\\\"News9Live Staff\\\"\",\n          \"\\\"Reeba Zachariah\\\"\"\n        ],\n        \"semantic_type\": \"\",\n        \"description\": \"\"\n      }\n    },\n    {\n      \"column\": \"content\",\n      \"properties\": {\n        \"dtype\": \"string\",\n        \"num_unique_values\": 1386,\n        \"samples\": [\n          \"\\\"The Enforcement Directorate (ED) has named Congress leader Priyanka Gandhi in its charge sheet mentioning her role in purchasing agricultural land measuring 40 kanal (five acres) in Haryana's Faridabad from a Delhi -based real estate agent HL Pahwa in 2006 and selling the same land to him in February 2010. According to the ED, the land was purchased in Amipur village in Faridabad from Pahwa-- the agent with whom Priyanka's husband Robert Vadra also purchased three pieces of land measuring 334 Kanal (40.08 acres) in Amipur village from 2005-2006 and sold the same land to him in December 2010. The agent is the same person who also sold land to NRI businessman CC Thampi. The larger case involves fugitive arms dealer Sanjay Bhandari, who is under investigation by multiple agencies for money laundering, violation of foreign exchange and black money laws, and the Official Secrets Act. He fled India for the UK in 2016. Thampi has been accused of facilitating Bhandari to hide the proceeds of crime, along with Sumit Chadha, a British national. ED has named Robert Vadra in its earlier charge sheet related to the case as an alleged close aide of Thampi. In the fresh charge sheet, it is mentioned that Pahwa was receiving cash out of the books for the acquisition of land. \\\"It was also noticed that Robert Vadra did not pay the entire sale consideration to Pahwa.\\\" The ED investigation in this regard is still ongoing. However, the copy of \\\"the ledger accounts in the books of Pahwa reflecting the above-mentioned transactions was taken on record vide letter dated 17 November 2023.\\\" \\\"It is submitted that Robert Vadra incorporated entities with the names of Sky Light Hospitality and Sky Light Realty in India on 1 November 2007 and 16 November 2007 respectively. The same has been downloaded from the website of the Ministry of Corporate Affairs. Whereas, an entity named Sky Lite Investment FZE in UAE was incorporated on 1 April 2009 with CC Thampi as its sole shareholder,\\\" mentions the charge sheet. \\\"During the investigation of Thampi and his Indian entities in the case bearing no. T-3/219/HQ/2015 being investigation under the provisions of the Foreign Exchange Management Act, 1999 (FEMA) it has been found that Thampi purchased land 486 actes (approx.) from 2005 to 2008 in village Amipur in Haryana's Faridabad district through one HL Pahwa, Delhi NCR based real estate agent.\\\" It is also mentioned in the charge sheet that Robert Vadra incorporated an entity in India with the name Blve Breeze Trading on 1 November 2007 which was later converted into LLP. \\\"The email ID of the said entity has always remained as [email protected] ic. when it was a Private Limited entity and later when it got converted into an LLP. The incorporation documents of the said entities were downloaded from the website of the Ministry of Corporate Affairs. It is the same email ID on which one Beena, employees of CC Thampi in Dubai used to communicate in connection with the property 12 Bryanston Square, London,\\\" mentions the charge sheet. \\\"During investigation in another PMLA case (bearing fo. ECIR/OG/HIU2018) being investigated against Robert Vadra, his entity Sky Light Hospitality Pvt Ltd, and others, it has been found that one Mahesh Nagar, resident of Delhi NCR, represented various entities of Robert Vadre at the time of purchase and sale of various pieces of land in Delhi -NCR and Bikaner, Rajasthan,\\\" it pointed. In a statement, the ED on Tuesday had also mentioned Robert Vadra in connection with the purchase of a property in London that is part of the probe. Detailing the association between Vadra and Thampi, the charge sheet states, \\\"During the course of investigation in this case, it is found that a long and thick relationship exists between CC Thampi and Robert Vadra. Not only a personal/cordial bond but common and similar business interests are also found between them.\\\" Thampi, arrested in January 2020, ostensibly told ED that he had known Vadra for over 10 years and that they met several times during Vadra's visits to the UAE as well as in Delhi . (ANI)\\\"\",\n          \"\\\"The budget is an annual financial statement that outlines the government\\u2019s proposed expenditures and revenues for the upcoming fiscal year, beginning on April 1st and concluding on March 31st of the following year. It is presented by the union finance minister in Parliament and serves as a comprehensive document outlining the government\\u2019s economic and fiscal policies for the next fiscal year. Union budget 2024-25.(AFP) In the document, apart from the liabilities, the government also announces a slew of welfare schemes, necessitating significant expenditure. So, from where does the government get its money? Wrap up the year gone by & gear up for 2024 with HT! Click here From where does Centre gets its money? Government spending is balanced by its revenues and loans. Take a look at how the government got its money for expenditure, as mentioned in the Union budget document 2023-24. The Budget draws its major share from borrowings and liabilities, constituting the largest chunk of 34 per cent. GST contributes 17 per cent, with Income Tax and Corporation Tax each making up 15 per cent. Union Excise Duties and Non-tax revenue contribute 7 per cent and 6 per cent, respectively. Also read- Budget 2024: How Union budget is prepared? Explained in 7 points Where does the money go? Now that it's clear from where the government fills its coffers, you must ask where does it spend the money. Here is what the Union budget 2023-24 document says: The government allocates 20 per cent of its budget to interest payments. The State's share of taxes and duties, along with the Central sector scheme, dominates spending, with the former at 18 per cent and the latter at 17 per cent. Centrally sponsored schemes claim 9 per cent, while Defence receives 8 per cent. Devolution to states as per Finance Commission and other transfers needs about 9 per cent. Also read- Budget 2024: 10 things to know about Modi government's 'interim budget' What is the importance of the Budget? The Indian budget is closely watched by businesses, investors, and the general public as it provides insight into the government\\u2019s economic policies and priorities and can have a significant impact on the economy and people\\u2019s lives. Unlock a world of Benefits with HT! From insightful newsletters to real-time news alerts and a personalized news feed \\u2013 it's all here, just a click away! - Login Now! SHARE THIS ARTICLE ON Share this article Share Via Copy Link ABOUT THE AUTHOR HT News Desk Follow the latest breaking news and developments from India and around the world with Hindustan Times' newsdesk. From politics and policies to the economy and the environment, from local issues to national events and global affairs, we've got you covered. ...view detail Budget\\\"\",\n          \"\\\"Israel \\\"urgently\\\" needs hundreds of thousands of workers to continue with construction projects and the contractors have made a strong plea to the government to bring in labourers from abroad, including from India, to meet their needs. \\\"We urgently need more workers. In any case, the government is the one who will decide where the missing workers will come from\\\", a spokesman of the told PTI. Informed sources told PTI that the bulk of this gap could be fulfilled by bringing in workers from India. \\\"Israel's Minister of Economy, , during his trip to India in April this year had spoken to officials and his counterpart in New Delhi about hiring Indians in various sectors, including in the construction sector\\\", a source here said. \\\"The discussions revolved around bringing in almost like 160,000 people\\\", the source said. The employs foreign workers in specific fields where there is a lack of Israeli workers. The largest group of about 80,000 workers in the come from the Palestinian Authority. Another group of about 7,000 come from China and some 6,000 from Eastern Europe. The ongoing war with Hamas militants in Gaza has also created a shortage of workers. There are about 20,000 Indians working in Israel, mostly as caregivers. Most of them decided to stay back in Israel and did not leave the country during the war because \\\"they felt quite secure\\\" and \\\"also because the salaries are quite attractive\\\".\\\"\"\n        ],\n        \"semantic_type\": \"\",\n        \"description\": \"\"\n      }\n    },\n    {\n      \"column\": \"pubDate\",\n      \"properties\": {\n        \"dtype\": \"object\",\n        \"num_unique_values\": 1372,\n        \"samples\": [\n          \"2023-12-29 11:51:57\",\n          \"2023-12-28 16:48:46\",\n          \"2023-12-30 04:41:59\"\n        ],\n        \"semantic_type\": \"\",\n        \"description\": \"\"\n      }\n    },\n    {\n      \"column\": \"sentiment\",\n      \"properties\": {\n        \"dtype\": \"category\",\n        \"num_unique_values\": 3,\n        \"samples\": [\n          \"\\\"neutral\\\"\",\n          \"\\\"positive\\\"\",\n          \"\\\"negative\\\"\"\n        ],\n        \"semantic_type\": \"\",\n        \"description\": \"\"\n      }\n    }\n  ]\n}"
            }
          },
          "metadata": {},
          "execution_count": 13
        }
      ],
      "source": [
        "labeled_df_final = pd.read_csv('/content/drive/MyDrive/News/Labeled Data/labeled_df (1).csv')\n",
        "labeled_df_final.head()\n",
        "labeled_df_final.shape\n",
        "labeled_df_final['sentiment'].value_counts()\n",
        "labeled_df_final = labeled_df_final.drop('link', axis=1)\n",
        "labeled_df_final = labeled_df_final.drop(['video_url','pubDateTZ','image_url','source_url','source_icon','language','country'], axis=1)\n",
        "labeled_df_final = labeled_df_final.drop(['source_id','source_priority','category','ai_tag','ai_region','ai_org','sentiment_stats'], axis=1)\n",
        "labeled_df_final = labeled_df_final.drop('description', axis=1)\n",
        "labeled_df_final = labeled_df_final.drop('source_name', axis=1)\n",
        "labeled_df_final = labeled_df_final.drop('article_id', axis=1)\n",
        "labeled_df_final.to_csv('labeled_df_final.csv', index=False)\n",
        "\n",
        "labeled_df_final.head()\n"
      ]
    },
    {
      "cell_type": "code",
      "execution_count": null,
      "metadata": {
        "colab": {
          "base_uri": "https://localhost:8080/",
          "height": 293
        },
        "id": "jh2EhB4xiT_-",
        "outputId": "c37053a0-c427-4802-ef0c-ab1eae39b0a5"
      },
      "outputs": [
        {
          "output_type": "execute_result",
          "data": {
            "text/plain": [
              "    title                     keywords             creator  \\\n",
              "0  title1  indian savings 2024 when:1y             BBC.com   \n",
              "1  title2  indian savings 2024 when:1y           The Hindu   \n",
              "2  title3  indian savings 2024 when:1y      Business Today   \n",
              "3  title4  indian savings 2024 when:1y  The Economic Times   \n",
              "4  title5  indian savings 2024 when:1y         India Today   \n",
              "\n",
              "                                             content               pubDate  \\\n",
              "0  For decades, India has been a nation of savers...  2024-04-25T07:00:00Z   \n",
              "1  January 26, 2025e-Paper\\n\\r\\nJanuary 26, 2025e...  2024-04-21T07:00:00Z   \n",
              "2  Feedback\\n\\r\\nAhead of the Budget 2024-25, alm...  2024-07-18T07:00:00Z   \n",
              "3  Nearly 93% of young adults are regular savers,...  2024-11-14T08:00:00Z   \n",
              "4  Listen to Story\\n\\r\\nFiscal 2023 witnessed a s...  2024-05-22T07:00:00Z   \n",
              "\n",
              "  sentiment  \n",
              "0  Negative  \n",
              "1  Negative  \n",
              "2  Negative  \n",
              "3  Positive  \n",
              "4  Negative  "
            ],
            "text/html": [
              "\n",
              "  <div id=\"df-e438a551-b8a9-4833-94e7-75f9f73efac9\" class=\"colab-df-container\">\n",
              "    <div>\n",
              "<style scoped>\n",
              "    .dataframe tbody tr th:only-of-type {\n",
              "        vertical-align: middle;\n",
              "    }\n",
              "\n",
              "    .dataframe tbody tr th {\n",
              "        vertical-align: top;\n",
              "    }\n",
              "\n",
              "    .dataframe thead th {\n",
              "        text-align: right;\n",
              "    }\n",
              "</style>\n",
              "<table border=\"1\" class=\"dataframe\">\n",
              "  <thead>\n",
              "    <tr style=\"text-align: right;\">\n",
              "      <th></th>\n",
              "      <th>title</th>\n",
              "      <th>keywords</th>\n",
              "      <th>creator</th>\n",
              "      <th>content</th>\n",
              "      <th>pubDate</th>\n",
              "      <th>sentiment</th>\n",
              "    </tr>\n",
              "  </thead>\n",
              "  <tbody>\n",
              "    <tr>\n",
              "      <th>0</th>\n",
              "      <td>title1</td>\n",
              "      <td>indian savings 2024 when:1y</td>\n",
              "      <td>BBC.com</td>\n",
              "      <td>For decades, India has been a nation of savers...</td>\n",
              "      <td>2024-04-25T07:00:00Z</td>\n",
              "      <td>Negative</td>\n",
              "    </tr>\n",
              "    <tr>\n",
              "      <th>1</th>\n",
              "      <td>title2</td>\n",
              "      <td>indian savings 2024 when:1y</td>\n",
              "      <td>The Hindu</td>\n",
              "      <td>January 26, 2025e-Paper\\n\\r\\nJanuary 26, 2025e...</td>\n",
              "      <td>2024-04-21T07:00:00Z</td>\n",
              "      <td>Negative</td>\n",
              "    </tr>\n",
              "    <tr>\n",
              "      <th>2</th>\n",
              "      <td>title3</td>\n",
              "      <td>indian savings 2024 when:1y</td>\n",
              "      <td>Business Today</td>\n",
              "      <td>Feedback\\n\\r\\nAhead of the Budget 2024-25, alm...</td>\n",
              "      <td>2024-07-18T07:00:00Z</td>\n",
              "      <td>Negative</td>\n",
              "    </tr>\n",
              "    <tr>\n",
              "      <th>3</th>\n",
              "      <td>title4</td>\n",
              "      <td>indian savings 2024 when:1y</td>\n",
              "      <td>The Economic Times</td>\n",
              "      <td>Nearly 93% of young adults are regular savers,...</td>\n",
              "      <td>2024-11-14T08:00:00Z</td>\n",
              "      <td>Positive</td>\n",
              "    </tr>\n",
              "    <tr>\n",
              "      <th>4</th>\n",
              "      <td>title5</td>\n",
              "      <td>indian savings 2024 when:1y</td>\n",
              "      <td>India Today</td>\n",
              "      <td>Listen to Story\\n\\r\\nFiscal 2023 witnessed a s...</td>\n",
              "      <td>2024-05-22T07:00:00Z</td>\n",
              "      <td>Negative</td>\n",
              "    </tr>\n",
              "  </tbody>\n",
              "</table>\n",
              "</div>\n",
              "    <div class=\"colab-df-buttons\">\n",
              "\n",
              "  <div class=\"colab-df-container\">\n",
              "    <button class=\"colab-df-convert\" onclick=\"convertToInteractive('df-e438a551-b8a9-4833-94e7-75f9f73efac9')\"\n",
              "            title=\"Convert this dataframe to an interactive table.\"\n",
              "            style=\"display:none;\">\n",
              "\n",
              "  <svg xmlns=\"http://www.w3.org/2000/svg\" height=\"24px\" viewBox=\"0 -960 960 960\">\n",
              "    <path d=\"M120-120v-720h720v720H120Zm60-500h600v-160H180v160Zm220 220h160v-160H400v160Zm0 220h160v-160H400v160ZM180-400h160v-160H180v160Zm440 0h160v-160H620v160ZM180-180h160v-160H180v160Zm440 0h160v-160H620v160Z\"/>\n",
              "  </svg>\n",
              "    </button>\n",
              "\n",
              "  <style>\n",
              "    .colab-df-container {\n",
              "      display:flex;\n",
              "      gap: 12px;\n",
              "    }\n",
              "\n",
              "    .colab-df-convert {\n",
              "      background-color: #E8F0FE;\n",
              "      border: none;\n",
              "      border-radius: 50%;\n",
              "      cursor: pointer;\n",
              "      display: none;\n",
              "      fill: #1967D2;\n",
              "      height: 32px;\n",
              "      padding: 0 0 0 0;\n",
              "      width: 32px;\n",
              "    }\n",
              "\n",
              "    .colab-df-convert:hover {\n",
              "      background-color: #E2EBFA;\n",
              "      box-shadow: 0px 1px 2px rgba(60, 64, 67, 0.3), 0px 1px 3px 1px rgba(60, 64, 67, 0.15);\n",
              "      fill: #174EA6;\n",
              "    }\n",
              "\n",
              "    .colab-df-buttons div {\n",
              "      margin-bottom: 4px;\n",
              "    }\n",
              "\n",
              "    [theme=dark] .colab-df-convert {\n",
              "      background-color: #3B4455;\n",
              "      fill: #D2E3FC;\n",
              "    }\n",
              "\n",
              "    [theme=dark] .colab-df-convert:hover {\n",
              "      background-color: #434B5C;\n",
              "      box-shadow: 0px 1px 3px 1px rgba(0, 0, 0, 0.15);\n",
              "      filter: drop-shadow(0px 1px 2px rgba(0, 0, 0, 0.3));\n",
              "      fill: #FFFFFF;\n",
              "    }\n",
              "  </style>\n",
              "\n",
              "    <script>\n",
              "      const buttonEl =\n",
              "        document.querySelector('#df-e438a551-b8a9-4833-94e7-75f9f73efac9 button.colab-df-convert');\n",
              "      buttonEl.style.display =\n",
              "        google.colab.kernel.accessAllowed ? 'block' : 'none';\n",
              "\n",
              "      async function convertToInteractive(key) {\n",
              "        const element = document.querySelector('#df-e438a551-b8a9-4833-94e7-75f9f73efac9');\n",
              "        const dataTable =\n",
              "          await google.colab.kernel.invokeFunction('convertToInteractive',\n",
              "                                                    [key], {});\n",
              "        if (!dataTable) return;\n",
              "\n",
              "        const docLinkHtml = 'Like what you see? Visit the ' +\n",
              "          '<a target=\"_blank\" href=https://colab.research.google.com/notebooks/data_table.ipynb>data table notebook</a>'\n",
              "          + ' to learn more about interactive tables.';\n",
              "        element.innerHTML = '';\n",
              "        dataTable['output_type'] = 'display_data';\n",
              "        await google.colab.output.renderOutput(dataTable, element);\n",
              "        const docLink = document.createElement('div');\n",
              "        docLink.innerHTML = docLinkHtml;\n",
              "        element.appendChild(docLink);\n",
              "      }\n",
              "    </script>\n",
              "  </div>\n",
              "\n",
              "\n",
              "<div id=\"df-eea2cccd-6aaf-4939-afaf-2c98b5368a5a\">\n",
              "  <button class=\"colab-df-quickchart\" onclick=\"quickchart('df-eea2cccd-6aaf-4939-afaf-2c98b5368a5a')\"\n",
              "            title=\"Suggest charts\"\n",
              "            style=\"display:none;\">\n",
              "\n",
              "<svg xmlns=\"http://www.w3.org/2000/svg\" height=\"24px\"viewBox=\"0 0 24 24\"\n",
              "     width=\"24px\">\n",
              "    <g>\n",
              "        <path d=\"M19 3H5c-1.1 0-2 .9-2 2v14c0 1.1.9 2 2 2h14c1.1 0 2-.9 2-2V5c0-1.1-.9-2-2-2zM9 17H7v-7h2v7zm4 0h-2V7h2v10zm4 0h-2v-4h2v4z\"/>\n",
              "    </g>\n",
              "</svg>\n",
              "  </button>\n",
              "\n",
              "<style>\n",
              "  .colab-df-quickchart {\n",
              "      --bg-color: #E8F0FE;\n",
              "      --fill-color: #1967D2;\n",
              "      --hover-bg-color: #E2EBFA;\n",
              "      --hover-fill-color: #174EA6;\n",
              "      --disabled-fill-color: #AAA;\n",
              "      --disabled-bg-color: #DDD;\n",
              "  }\n",
              "\n",
              "  [theme=dark] .colab-df-quickchart {\n",
              "      --bg-color: #3B4455;\n",
              "      --fill-color: #D2E3FC;\n",
              "      --hover-bg-color: #434B5C;\n",
              "      --hover-fill-color: #FFFFFF;\n",
              "      --disabled-bg-color: #3B4455;\n",
              "      --disabled-fill-color: #666;\n",
              "  }\n",
              "\n",
              "  .colab-df-quickchart {\n",
              "    background-color: var(--bg-color);\n",
              "    border: none;\n",
              "    border-radius: 50%;\n",
              "    cursor: pointer;\n",
              "    display: none;\n",
              "    fill: var(--fill-color);\n",
              "    height: 32px;\n",
              "    padding: 0;\n",
              "    width: 32px;\n",
              "  }\n",
              "\n",
              "  .colab-df-quickchart:hover {\n",
              "    background-color: var(--hover-bg-color);\n",
              "    box-shadow: 0 1px 2px rgba(60, 64, 67, 0.3), 0 1px 3px 1px rgba(60, 64, 67, 0.15);\n",
              "    fill: var(--button-hover-fill-color);\n",
              "  }\n",
              "\n",
              "  .colab-df-quickchart-complete:disabled,\n",
              "  .colab-df-quickchart-complete:disabled:hover {\n",
              "    background-color: var(--disabled-bg-color);\n",
              "    fill: var(--disabled-fill-color);\n",
              "    box-shadow: none;\n",
              "  }\n",
              "\n",
              "  .colab-df-spinner {\n",
              "    border: 2px solid var(--fill-color);\n",
              "    border-color: transparent;\n",
              "    border-bottom-color: var(--fill-color);\n",
              "    animation:\n",
              "      spin 1s steps(1) infinite;\n",
              "  }\n",
              "\n",
              "  @keyframes spin {\n",
              "    0% {\n",
              "      border-color: transparent;\n",
              "      border-bottom-color: var(--fill-color);\n",
              "      border-left-color: var(--fill-color);\n",
              "    }\n",
              "    20% {\n",
              "      border-color: transparent;\n",
              "      border-left-color: var(--fill-color);\n",
              "      border-top-color: var(--fill-color);\n",
              "    }\n",
              "    30% {\n",
              "      border-color: transparent;\n",
              "      border-left-color: var(--fill-color);\n",
              "      border-top-color: var(--fill-color);\n",
              "      border-right-color: var(--fill-color);\n",
              "    }\n",
              "    40% {\n",
              "      border-color: transparent;\n",
              "      border-right-color: var(--fill-color);\n",
              "      border-top-color: var(--fill-color);\n",
              "    }\n",
              "    60% {\n",
              "      border-color: transparent;\n",
              "      border-right-color: var(--fill-color);\n",
              "    }\n",
              "    80% {\n",
              "      border-color: transparent;\n",
              "      border-right-color: var(--fill-color);\n",
              "      border-bottom-color: var(--fill-color);\n",
              "    }\n",
              "    90% {\n",
              "      border-color: transparent;\n",
              "      border-bottom-color: var(--fill-color);\n",
              "    }\n",
              "  }\n",
              "</style>\n",
              "\n",
              "  <script>\n",
              "    async function quickchart(key) {\n",
              "      const quickchartButtonEl =\n",
              "        document.querySelector('#' + key + ' button');\n",
              "      quickchartButtonEl.disabled = true;  // To prevent multiple clicks.\n",
              "      quickchartButtonEl.classList.add('colab-df-spinner');\n",
              "      try {\n",
              "        const charts = await google.colab.kernel.invokeFunction(\n",
              "            'suggestCharts', [key], {});\n",
              "      } catch (error) {\n",
              "        console.error('Error during call to suggestCharts:', error);\n",
              "      }\n",
              "      quickchartButtonEl.classList.remove('colab-df-spinner');\n",
              "      quickchartButtonEl.classList.add('colab-df-quickchart-complete');\n",
              "    }\n",
              "    (() => {\n",
              "      let quickchartButtonEl =\n",
              "        document.querySelector('#df-eea2cccd-6aaf-4939-afaf-2c98b5368a5a button');\n",
              "      quickchartButtonEl.style.display =\n",
              "        google.colab.kernel.accessAllowed ? 'block' : 'none';\n",
              "    })();\n",
              "  </script>\n",
              "</div>\n",
              "\n",
              "    </div>\n",
              "  </div>\n"
            ],
            "application/vnd.google.colaboratory.intrinsic+json": {
              "type": "dataframe",
              "variable_name": "lab_savings",
              "summary": "{\n  \"name\": \"lab_savings\",\n  \"rows\": 29,\n  \"fields\": [\n    {\n      \"column\": \"title\",\n      \"properties\": {\n        \"dtype\": \"string\",\n        \"num_unique_values\": 29,\n        \"samples\": [\n          \"title28\",\n          \"title17\",\n          \"title13\"\n        ],\n        \"semantic_type\": \"\",\n        \"description\": \"\"\n      }\n    },\n    {\n      \"column\": \"keywords\",\n      \"properties\": {\n        \"dtype\": \"category\",\n        \"num_unique_values\": 1,\n        \"samples\": [\n          \"indian savings 2024 when:1y\"\n        ],\n        \"semantic_type\": \"\",\n        \"description\": \"\"\n      }\n    },\n    {\n      \"column\": \"creator\",\n      \"properties\": {\n        \"dtype\": \"string\",\n        \"num_unique_values\": 16,\n        \"samples\": [\n          \"BBC.com\"\n        ],\n        \"semantic_type\": \"\",\n        \"description\": \"\"\n      }\n    },\n    {\n      \"column\": \"content\",\n      \"properties\": {\n        \"dtype\": \"string\",\n        \"num_unique_values\": 29,\n        \"samples\": [\n          \"Regulators try to tamp down the&nbsp;market frenzy,&nbsp;to little effect.&nbsp;\\n\\r\\nIndia\\u2019s red-hot IPO market has become a family affair for Nitin Gupta, a 29-year-old in the central city of Indore.\\n\\r\\nA surge in initial public offerings and strong first-day gains this year by the likes of real estate lender Bajaj Housing Finance Ltd. are driving a growing number of middle-class workers like Gupta to seek a piece of the action. He\\u2019s enlisted family members to open multiple trading accounts, hoping to boost his chances of securing share allotments.\"\n        ],\n        \"semantic_type\": \"\",\n        \"description\": \"\"\n      }\n    },\n    {\n      \"column\": \"pubDate\",\n      \"properties\": {\n        \"dtype\": \"object\",\n        \"num_unique_values\": 25,\n        \"samples\": [\n          \"2024-10-07T07:00:00Z\"\n        ],\n        \"semantic_type\": \"\",\n        \"description\": \"\"\n      }\n    },\n    {\n      \"column\": \"sentiment\",\n      \"properties\": {\n        \"dtype\": \"category\",\n        \"num_unique_values\": 3,\n        \"samples\": [\n          \"Negative\"\n        ],\n        \"semantic_type\": \"\",\n        \"description\": \"\"\n      }\n    }\n  ]\n}"
            }
          },
          "metadata": {},
          "execution_count": 14
        }
      ],
      "source": [
        "lab_savings = pd.read_csv('/content/drive/MyDrive/News/Labeled Data/savings.csv')\n",
        "lab_savings.head()\n",
        "lab_savings.shape\n",
        "lab_savings['sentiment'].value_counts()\n",
        "lab_savings = lab_savings.drop('article_id', axis=1)\n",
        "lab_savings = lab_savings.drop('source_url', axis=1)\n",
        "lab_savings.to_csv('lab_savings.csv',index=False)\n",
        "\n",
        "lab_savings.head()\n"
      ]
    },
    {
      "cell_type": "code",
      "execution_count": null,
      "metadata": {
        "colab": {
          "base_uri": "https://localhost:8080/",
          "height": 293
        },
        "id": "uF2VMLLUo4_3",
        "outputId": "54835f4b-d608-4d0e-be8b-88c17897c21e"
      },
      "outputs": [
        {
          "output_type": "execute_result",
          "data": {
            "text/plain": [
              "                                               title          keywords  \\\n",
              "0  \"Crypto Price Today: Bitcoin Passes $43,000 Ma...  \"cryptocurrency\"   \n",
              "1  \"Dr. Jitendra Singh addresses Lucknow academia...        \"National\"   \n",
              "2                              \"A country of others\"           \"India\"   \n",
              "3  \"Reliance Jio and IIT-Bombay set to build Indi...               NaN   \n",
              "4  \"Three new criminal code laws have unshackled ...        \"National\"   \n",
              "\n",
              "                 creator                                            content  \\\n",
              "0                    NaN  \"Bitcoin on Thursday, December 28 recorded a p...   \n",
              "1  \"Odisha Diary bureau\"  \"New Delhi,28th December: While addressing the...   \n",
              "2                    NaN  \"The video starts with a question. (What will ...   \n",
              "3                    NaN  \"Reliance Jio Infocomm, an Indian telecom oper...   \n",
              "4  \"Odisha Diary bureau\"  \"New Delhi,28th December: The Vice-President, ...   \n",
              "\n",
              "            pubDate sentiment  \n",
              "0  28-12-2023 08:53  Positive  \n",
              "1  28-12-2023 06:36  Positive  \n",
              "2  28-12-2023 06:30  Negative  \n",
              "3  28-12-2023 06:29  Positive  \n",
              "4  28-12-2023 06:28  Positive  "
            ],
            "text/html": [
              "\n",
              "  <div id=\"df-03ef9218-bd1a-45d5-b45a-9740394cc4d7\" class=\"colab-df-container\">\n",
              "    <div>\n",
              "<style scoped>\n",
              "    .dataframe tbody tr th:only-of-type {\n",
              "        vertical-align: middle;\n",
              "    }\n",
              "\n",
              "    .dataframe tbody tr th {\n",
              "        vertical-align: top;\n",
              "    }\n",
              "\n",
              "    .dataframe thead th {\n",
              "        text-align: right;\n",
              "    }\n",
              "</style>\n",
              "<table border=\"1\" class=\"dataframe\">\n",
              "  <thead>\n",
              "    <tr style=\"text-align: right;\">\n",
              "      <th></th>\n",
              "      <th>title</th>\n",
              "      <th>keywords</th>\n",
              "      <th>creator</th>\n",
              "      <th>content</th>\n",
              "      <th>pubDate</th>\n",
              "      <th>sentiment</th>\n",
              "    </tr>\n",
              "  </thead>\n",
              "  <tbody>\n",
              "    <tr>\n",
              "      <th>0</th>\n",
              "      <td>\"Crypto Price Today: Bitcoin Passes $43,000 Ma...</td>\n",
              "      <td>\"cryptocurrency\"</td>\n",
              "      <td>NaN</td>\n",
              "      <td>\"Bitcoin on Thursday, December 28 recorded a p...</td>\n",
              "      <td>28-12-2023 08:53</td>\n",
              "      <td>Positive</td>\n",
              "    </tr>\n",
              "    <tr>\n",
              "      <th>1</th>\n",
              "      <td>\"Dr. Jitendra Singh addresses Lucknow academia...</td>\n",
              "      <td>\"National\"</td>\n",
              "      <td>\"Odisha Diary bureau\"</td>\n",
              "      <td>\"New Delhi,28th December: While addressing the...</td>\n",
              "      <td>28-12-2023 06:36</td>\n",
              "      <td>Positive</td>\n",
              "    </tr>\n",
              "    <tr>\n",
              "      <th>2</th>\n",
              "      <td>\"A country of others\"</td>\n",
              "      <td>\"India\"</td>\n",
              "      <td>NaN</td>\n",
              "      <td>\"The video starts with a question. (What will ...</td>\n",
              "      <td>28-12-2023 06:30</td>\n",
              "      <td>Negative</td>\n",
              "    </tr>\n",
              "    <tr>\n",
              "      <th>3</th>\n",
              "      <td>\"Reliance Jio and IIT-Bombay set to build Indi...</td>\n",
              "      <td>NaN</td>\n",
              "      <td>NaN</td>\n",
              "      <td>\"Reliance Jio Infocomm, an Indian telecom oper...</td>\n",
              "      <td>28-12-2023 06:29</td>\n",
              "      <td>Positive</td>\n",
              "    </tr>\n",
              "    <tr>\n",
              "      <th>4</th>\n",
              "      <td>\"Three new criminal code laws have unshackled ...</td>\n",
              "      <td>\"National\"</td>\n",
              "      <td>\"Odisha Diary bureau\"</td>\n",
              "      <td>\"New Delhi,28th December: The Vice-President, ...</td>\n",
              "      <td>28-12-2023 06:28</td>\n",
              "      <td>Positive</td>\n",
              "    </tr>\n",
              "  </tbody>\n",
              "</table>\n",
              "</div>\n",
              "    <div class=\"colab-df-buttons\">\n",
              "\n",
              "  <div class=\"colab-df-container\">\n",
              "    <button class=\"colab-df-convert\" onclick=\"convertToInteractive('df-03ef9218-bd1a-45d5-b45a-9740394cc4d7')\"\n",
              "            title=\"Convert this dataframe to an interactive table.\"\n",
              "            style=\"display:none;\">\n",
              "\n",
              "  <svg xmlns=\"http://www.w3.org/2000/svg\" height=\"24px\" viewBox=\"0 -960 960 960\">\n",
              "    <path d=\"M120-120v-720h720v720H120Zm60-500h600v-160H180v160Zm220 220h160v-160H400v160Zm0 220h160v-160H400v160ZM180-400h160v-160H180v160Zm440 0h160v-160H620v160ZM180-180h160v-160H180v160Zm440 0h160v-160H620v160Z\"/>\n",
              "  </svg>\n",
              "    </button>\n",
              "\n",
              "  <style>\n",
              "    .colab-df-container {\n",
              "      display:flex;\n",
              "      gap: 12px;\n",
              "    }\n",
              "\n",
              "    .colab-df-convert {\n",
              "      background-color: #E8F0FE;\n",
              "      border: none;\n",
              "      border-radius: 50%;\n",
              "      cursor: pointer;\n",
              "      display: none;\n",
              "      fill: #1967D2;\n",
              "      height: 32px;\n",
              "      padding: 0 0 0 0;\n",
              "      width: 32px;\n",
              "    }\n",
              "\n",
              "    .colab-df-convert:hover {\n",
              "      background-color: #E2EBFA;\n",
              "      box-shadow: 0px 1px 2px rgba(60, 64, 67, 0.3), 0px 1px 3px 1px rgba(60, 64, 67, 0.15);\n",
              "      fill: #174EA6;\n",
              "    }\n",
              "\n",
              "    .colab-df-buttons div {\n",
              "      margin-bottom: 4px;\n",
              "    }\n",
              "\n",
              "    [theme=dark] .colab-df-convert {\n",
              "      background-color: #3B4455;\n",
              "      fill: #D2E3FC;\n",
              "    }\n",
              "\n",
              "    [theme=dark] .colab-df-convert:hover {\n",
              "      background-color: #434B5C;\n",
              "      box-shadow: 0px 1px 3px 1px rgba(0, 0, 0, 0.15);\n",
              "      filter: drop-shadow(0px 1px 2px rgba(0, 0, 0, 0.3));\n",
              "      fill: #FFFFFF;\n",
              "    }\n",
              "  </style>\n",
              "\n",
              "    <script>\n",
              "      const buttonEl =\n",
              "        document.querySelector('#df-03ef9218-bd1a-45d5-b45a-9740394cc4d7 button.colab-df-convert');\n",
              "      buttonEl.style.display =\n",
              "        google.colab.kernel.accessAllowed ? 'block' : 'none';\n",
              "\n",
              "      async function convertToInteractive(key) {\n",
              "        const element = document.querySelector('#df-03ef9218-bd1a-45d5-b45a-9740394cc4d7');\n",
              "        const dataTable =\n",
              "          await google.colab.kernel.invokeFunction('convertToInteractive',\n",
              "                                                    [key], {});\n",
              "        if (!dataTable) return;\n",
              "\n",
              "        const docLinkHtml = 'Like what you see? Visit the ' +\n",
              "          '<a target=\"_blank\" href=https://colab.research.google.com/notebooks/data_table.ipynb>data table notebook</a>'\n",
              "          + ' to learn more about interactive tables.';\n",
              "        element.innerHTML = '';\n",
              "        dataTable['output_type'] = 'display_data';\n",
              "        await google.colab.output.renderOutput(dataTable, element);\n",
              "        const docLink = document.createElement('div');\n",
              "        docLink.innerHTML = docLinkHtml;\n",
              "        element.appendChild(docLink);\n",
              "      }\n",
              "    </script>\n",
              "  </div>\n",
              "\n",
              "\n",
              "<div id=\"df-e37b3944-e65f-407e-9a04-f16f7887b025\">\n",
              "  <button class=\"colab-df-quickchart\" onclick=\"quickchart('df-e37b3944-e65f-407e-9a04-f16f7887b025')\"\n",
              "            title=\"Suggest charts\"\n",
              "            style=\"display:none;\">\n",
              "\n",
              "<svg xmlns=\"http://www.w3.org/2000/svg\" height=\"24px\"viewBox=\"0 0 24 24\"\n",
              "     width=\"24px\">\n",
              "    <g>\n",
              "        <path d=\"M19 3H5c-1.1 0-2 .9-2 2v14c0 1.1.9 2 2 2h14c1.1 0 2-.9 2-2V5c0-1.1-.9-2-2-2zM9 17H7v-7h2v7zm4 0h-2V7h2v10zm4 0h-2v-4h2v4z\"/>\n",
              "    </g>\n",
              "</svg>\n",
              "  </button>\n",
              "\n",
              "<style>\n",
              "  .colab-df-quickchart {\n",
              "      --bg-color: #E8F0FE;\n",
              "      --fill-color: #1967D2;\n",
              "      --hover-bg-color: #E2EBFA;\n",
              "      --hover-fill-color: #174EA6;\n",
              "      --disabled-fill-color: #AAA;\n",
              "      --disabled-bg-color: #DDD;\n",
              "  }\n",
              "\n",
              "  [theme=dark] .colab-df-quickchart {\n",
              "      --bg-color: #3B4455;\n",
              "      --fill-color: #D2E3FC;\n",
              "      --hover-bg-color: #434B5C;\n",
              "      --hover-fill-color: #FFFFFF;\n",
              "      --disabled-bg-color: #3B4455;\n",
              "      --disabled-fill-color: #666;\n",
              "  }\n",
              "\n",
              "  .colab-df-quickchart {\n",
              "    background-color: var(--bg-color);\n",
              "    border: none;\n",
              "    border-radius: 50%;\n",
              "    cursor: pointer;\n",
              "    display: none;\n",
              "    fill: var(--fill-color);\n",
              "    height: 32px;\n",
              "    padding: 0;\n",
              "    width: 32px;\n",
              "  }\n",
              "\n",
              "  .colab-df-quickchart:hover {\n",
              "    background-color: var(--hover-bg-color);\n",
              "    box-shadow: 0 1px 2px rgba(60, 64, 67, 0.3), 0 1px 3px 1px rgba(60, 64, 67, 0.15);\n",
              "    fill: var(--button-hover-fill-color);\n",
              "  }\n",
              "\n",
              "  .colab-df-quickchart-complete:disabled,\n",
              "  .colab-df-quickchart-complete:disabled:hover {\n",
              "    background-color: var(--disabled-bg-color);\n",
              "    fill: var(--disabled-fill-color);\n",
              "    box-shadow: none;\n",
              "  }\n",
              "\n",
              "  .colab-df-spinner {\n",
              "    border: 2px solid var(--fill-color);\n",
              "    border-color: transparent;\n",
              "    border-bottom-color: var(--fill-color);\n",
              "    animation:\n",
              "      spin 1s steps(1) infinite;\n",
              "  }\n",
              "\n",
              "  @keyframes spin {\n",
              "    0% {\n",
              "      border-color: transparent;\n",
              "      border-bottom-color: var(--fill-color);\n",
              "      border-left-color: var(--fill-color);\n",
              "    }\n",
              "    20% {\n",
              "      border-color: transparent;\n",
              "      border-left-color: var(--fill-color);\n",
              "      border-top-color: var(--fill-color);\n",
              "    }\n",
              "    30% {\n",
              "      border-color: transparent;\n",
              "      border-left-color: var(--fill-color);\n",
              "      border-top-color: var(--fill-color);\n",
              "      border-right-color: var(--fill-color);\n",
              "    }\n",
              "    40% {\n",
              "      border-color: transparent;\n",
              "      border-right-color: var(--fill-color);\n",
              "      border-top-color: var(--fill-color);\n",
              "    }\n",
              "    60% {\n",
              "      border-color: transparent;\n",
              "      border-right-color: var(--fill-color);\n",
              "    }\n",
              "    80% {\n",
              "      border-color: transparent;\n",
              "      border-right-color: var(--fill-color);\n",
              "      border-bottom-color: var(--fill-color);\n",
              "    }\n",
              "    90% {\n",
              "      border-color: transparent;\n",
              "      border-bottom-color: var(--fill-color);\n",
              "    }\n",
              "  }\n",
              "</style>\n",
              "\n",
              "  <script>\n",
              "    async function quickchart(key) {\n",
              "      const quickchartButtonEl =\n",
              "        document.querySelector('#' + key + ' button');\n",
              "      quickchartButtonEl.disabled = true;  // To prevent multiple clicks.\n",
              "      quickchartButtonEl.classList.add('colab-df-spinner');\n",
              "      try {\n",
              "        const charts = await google.colab.kernel.invokeFunction(\n",
              "            'suggestCharts', [key], {});\n",
              "      } catch (error) {\n",
              "        console.error('Error during call to suggestCharts:', error);\n",
              "      }\n",
              "      quickchartButtonEl.classList.remove('colab-df-spinner');\n",
              "      quickchartButtonEl.classList.add('colab-df-quickchart-complete');\n",
              "    }\n",
              "    (() => {\n",
              "      let quickchartButtonEl =\n",
              "        document.querySelector('#df-e37b3944-e65f-407e-9a04-f16f7887b025 button');\n",
              "      quickchartButtonEl.style.display =\n",
              "        google.colab.kernel.accessAllowed ? 'block' : 'none';\n",
              "    })();\n",
              "  </script>\n",
              "</div>\n",
              "\n",
              "    </div>\n",
              "  </div>\n"
            ],
            "application/vnd.google.colaboratory.intrinsic+json": {
              "type": "dataframe",
              "variable_name": "lab_newsio",
              "summary": "{\n  \"name\": \"lab_newsio\",\n  \"rows\": 2015,\n  \"fields\": [\n    {\n      \"column\": \"title\",\n      \"properties\": {\n        \"dtype\": \"string\",\n        \"num_unique_values\": 2015,\n        \"samples\": [\n          \"\\\"Flying With Luxury\\\"\",\n          \"\\\"Sleeping beauty: How skincare & wellness is blending\\\"\",\n          \"\\\"Wipro files complaint against former senior VP who joined Cognizant, here's what the company has charged him for\\\"\"\n        ],\n        \"semantic_type\": \"\",\n        \"description\": \"\"\n      }\n    },\n    {\n      \"column\": \"keywords\",\n      \"properties\": {\n        \"dtype\": \"category\",\n        \"num_unique_values\": 431,\n        \"samples\": [\n          \"\\\"Business,Adani Group,IANS,NDTV,Adani-IANS Deal\\\"\",\n          \"\\\"BLOG,Dr Santosh Kumar Mohapatra\\\"\",\n          \"\\\"Experts Speak\\\"\"\n        ],\n        \"semantic_type\": \"\",\n        \"description\": \"\"\n      }\n    },\n    {\n      \"column\": \"creator\",\n      \"properties\": {\n        \"dtype\": \"category\",\n        \"num_unique_values\": 249,\n        \"samples\": [\n          \"\\\"Sandeep Chawda\\\"\",\n          \"\\\"CricketCountry Staff\\\"\",\n          \"\\\"Shyamu Maurya\\\"\"\n        ],\n        \"semantic_type\": \"\",\n        \"description\": \"\"\n      }\n    },\n    {\n      \"column\": \"content\",\n      \"properties\": {\n        \"dtype\": \"string\",\n        \"num_unique_values\": 2004,\n        \"samples\": [\n          \"\\\"New Delhi : In a bid to unfurl the rich tapestry of India\\ufffd\\u06eas fiscal dynamics Money9 has come up with the landmark Personal Finance Pulse Survey 2023. Full of seminal insights which will unveil the ambitions and realities of India\\ufffd\\u06eas rich economic tapestry, it is presented exclusively on the nation\\ufffd\\u06eas premier news network, TV9 Bharatvarsh, and across the TV9 digital/TV channels. Traversing through 22 states and Union Territories, it delves into the hearts of 115 districts while engaging in the diverse polyphony of 10 languages. In an attempt to encapsulate the pulse of 1.57 crore Indian adults, the survey endeavours to touch the lives of 35,000 families. The PFP 2023 inhabits an extremely broad vision which aspires to touch a variety of diverse economic avenues. The survey has a focus on a panoramic lens which includes the income, savings, investments, debt, and insurance status across the Indian subcontinent. The survey was done in association with globally renowned RTI International. The agency also does similar surveys for organisations like the World Bank. In India, such surveys are usually done by organisations like the Reserve Bank or National Sample Survey of India, but both their surveys are relatively older than the one by Money9.In the current circumstances, the Money9 survey is best instructive of the financial health of Indians. Major, key findings One of the most important aspects that the survey covers is savings done by Indian families, crucial for ensuring the financial security of families. The Money9 survey shows that compared to last year, this year the number of Indian families who are saving up has increased. While in 2022 the percent of families who were saving was 70 percent, this year sees the number rise to 88 percent. One of the major reasons behind this is being pegged as the Covid-19 pandemic which showed people how important it is to save. Once the effects of Covid decreased, people started to save, hence the increase in numbers. Another question that the Money9 survey answers is one that every middle-class family in India tries to find answers to. The question being, where does all the monthly salary end up being spent? The Money9 survey answers that about 19 percent is spent on food (ration), 8 percent on fuel for vehicles, 12 percent on bills (electricity, water, internet), 10 percent on children\\ufffd\\u06eas education fees, 8 percent on buying clothes and medicines. Other smaller spending include, 4 percent on loan repayments and 2 percent on paying credit card bills. The survey then shows that about 18 percent is kept as savings. The survey also makes some predictions about some aspects of what might transpire financially in the country in the next 6 months. It says that about 10 percent of Indians plan to purchase a smartphone in the coming 6 months. This statistic is most pertinent for families that reside in Uttarakhand, Madhya Pradesh, Karnataka, Gujarat and Chandigarh. About 4 percent of Indian families may look to plan for a foreign trip in the next 12 months. Karnataka, Odisha, Gujarat, Punjab and Chandigarh top the list here. The survey then points out that about 3 percent of Indian families would be looking to buy both two-wheeled vehicles and four-wheeled vehicles. The propensity to buy four-wheelers lies most in Gujarat, Jammu & Kashmir, Karnataka and Delhi-NCR. Meanwhile for two-wheelers, it is Maharashtra, Assam, Karnataka, Rajasthan and Chattisgarh. The survey also shows that compared to last year, there has been a near 10 percent increase in the average earnings of an Indian family. From last year\\ufffd\\u06eas Rs 23,000 we now see an increase to Rs 25,910. Meanwhile in terms of individual states, the top three states in this respect are Karnataka, Maharashtra and Chandigarh. Meanwhile, last year the top spots were taken by Maharashtra, Karnataka and Delhi. The survey also point to one depressing statistic., showing that there are about 7 percent of Indian families whose monthly income is less than their monthly expenses.\\\"\",\n          \"\\\"Trinity Gaming on Wednesday said that it has launched a virtual gaming campaign property -- Gamerz Night Live, in collaboration with Lenovo, Intel and YouTube, in an effort to reshape the Indian creator economy. The campaign has attracted around 10 million viewers so far. This initiative has provided a platform for over 100 creators from across the country to showcase their talents. The campaign has been launched to assist upcoming creators in promoting their content, building their profiles, and sharing the spotlight with other top creators. \\\"Through Gamerz Night Live, we are presenting unprecedented opportunities for creators nationwide, irrespective of their current size and follower count. The resounding success and positive feedback witnessed this year serve as a testament to the promising trajectory,\\\" Abhishek Aggarwal, Co-founder & CEO, Trinity Gaming India, said in a statement. The event has featured leading content creators and influencers, including Mortal, Scout, and Regaltos, among other regional, micro and mini creators from around the country. The campaign has run for a period of over 11 weeks and has successfully aired more than 14 episodes to date, complemented by regular uploads of shorts and community posts and has generated over six million views with 15 episodes aired over YouTube, the company said. The games played by the creators include Battleground Mobile India (BGMI), Valorant, CS Source 2, Fall Guys, Among Us, Prop Hunt, and GTA V. \\\"Brands like Lenovo and Intel have marked their footprints in the gaming industry by launching gaming-centric brands like Legion, loq, gaming IdeaPad, Intel Arc, 13th gen processors which are beneficial for the consumers to make, record and consume content,\\\" said Anita Kotwani, CEO Media, South Asia, Dentsu and Dentsu Gaming Lead. The company mentioned that Gamerz Night Live aims to penetrate audiences across the country, making it a highly inclusive and diverse celebration of gaming. The event will conclude by December 2023.\\\"\",\n          \"\\\"Generative artificial intelligence (AI) and emerging technologies will help robotic surgery become a standard of care in healthcare facilities in dozens of Indian cities in the near future, offering relief to those in need of improved quality of life after successful procedures, Indian-origin technology visionary and business leader said on Sunday. The use of AI and new-age technologies will help see a robust growth in the number of robot-assisted surgeries for both soft tissues and joint replacement each year, Raj Vattikuti, who founded the Vattikuti Foundation in the state of Michigan in the US, told IANS. \\ufffd\\ufffd\\ufffdFurthermore, we anticipate increased involvement from government institutions in enhancing access to robotic surgery for disadvantaged sections of the population,\\ufffd\\u06dd he added. He founded Covansys Corp in the US in 1985, Covansys was among the early US firms to establish a large offshore development facility in Chennai, serving prestigious clients. In 2007, he sold Covansys to Computer Sciences Corporation for $1.2 billion. In 1997, the entrepreneur, along with his wife Padma, established the Vattikuti Foundation with a $20 million contribution to improve the quality of human life. They set up the Vattikuti Urology Institute (VUI) at the Henry Ford Hospital in Detroit, Michigan, making it a flagship institution for robotic surgery in the US. Today, the robotic surgery procedures for Urology developed at VUI are considered the gold standard and have been adopted worldwide. Over the past 25 years, the Foundation has established a network of academic robotic surgery institutes globally, partnering with renowned hospital systems in the US, Europe, the UK, and India. \\\"Since 2010, the Foundation has engaged with several hospitals in India, trained over 500 surgeons to become accomplished robotic surgeons and offered full year paid fellowships to over 50 surgeons to grow this pool of accomplished surgeons,\\ufffd\\u06dd Vattikuti told IANS. According to him, the success of the Vattikuti Foundation can be attributed to their pioneering work in India, which ignited a robotic surgery revolution. \\ufffd\\ufffd\\ufffdThe Foundation played a pivotal role in evangelising robotic surgery, which is now operational in over 100 hospitals across India. Patients with comorbidities have benefited immensely by getting superior outcomes. Reduction in the number of days of hospital stay has enabled the healthcare system to offer scarce hospital beds to more patients,\\ufffd\\u06dd he added. The Foundation's recent focus on AI and Metaverse sessions at the \\\"Humans at the Cutting Edge of Technology\\\" symposium in Ghent, Belgium, provided insight into how human ingenuity will continue to advance patient outcomes. \\ufffd\\ufffd\\ufffdWe are committed to further investing and strengthening our capabilities in data, generative AI, and emerging technologies,\\ufffd\\u06dd said Vattikuti.\\\"\"\n        ],\n        \"semantic_type\": \"\",\n        \"description\": \"\"\n      }\n    },\n    {\n      \"column\": \"pubDate\",\n      \"properties\": {\n        \"dtype\": \"object\",\n        \"num_unique_values\": 1769,\n        \"samples\": [\n          \"21-12-2023 03:23\",\n          \"26-12-2023 09:46\",\n          \"25-12-2023 08:58\"\n        ],\n        \"semantic_type\": \"\",\n        \"description\": \"\"\n      }\n    },\n    {\n      \"column\": \"sentiment\",\n      \"properties\": {\n        \"dtype\": \"category\",\n        \"num_unique_values\": 3,\n        \"samples\": [\n          \"Positive\",\n          \"Negative\",\n          \"Neutral\"\n        ],\n        \"semantic_type\": \"\",\n        \"description\": \"\"\n      }\n    }\n  ]\n}"
            }
          },
          "metadata": {},
          "execution_count": 15
        }
      ],
      "source": [
        "lab_newsio = pd.read_csv('/content/drive/MyDrive/News/Labeled Data/filtered_news.csv')\n",
        "lab_newsio.head()\n",
        "lab_newsio.shape\n",
        "lab_newsio['sentiment'].value_counts()\n",
        "lab_newsio = lab_newsio.drop(['source_url','article_id'], axis=1)\n",
        "lab_newsio.to_csv('lab_newsio.csv', index=False)\n",
        "\n",
        "lab_newsio.head()"
      ]
    },
    {
      "cell_type": "markdown",
      "metadata": {
        "id": "vL4nfAtqmXdF"
      },
      "source": [
        "**FINAL LABELLED DATA : +VE : 427  -VE: 296  NEUTRAL :789**"
      ]
    },
    {
      "cell_type": "markdown",
      "metadata": {
        "id": "rRmjqc26P0_s"
      },
      "source": [
        "\n",
        "\n",
        "---\n",
        "\n",
        "**TRAINING**"
      ]
    },
    {
      "cell_type": "code",
      "execution_count": null,
      "metadata": {
        "colab": {
          "base_uri": "https://localhost:8080/",
          "height": 210
        },
        "collapsed": true,
        "id": "WRHD1Y4UP3qi",
        "outputId": "d85c00e0-51a4-402a-b30b-0f5c039788d6"
      },
      "outputs": [
        {
          "output_type": "execute_result",
          "data": {
            "text/plain": [
              "sentiment\n",
              "Positive    505\n",
              "Neutral     505\n",
              "Negative    505\n",
              "Name: count, dtype: int64"
            ],
            "text/html": [
              "<div>\n",
              "<style scoped>\n",
              "    .dataframe tbody tr th:only-of-type {\n",
              "        vertical-align: middle;\n",
              "    }\n",
              "\n",
              "    .dataframe tbody tr th {\n",
              "        vertical-align: top;\n",
              "    }\n",
              "\n",
              "    .dataframe thead th {\n",
              "        text-align: right;\n",
              "    }\n",
              "</style>\n",
              "<table border=\"1\" class=\"dataframe\">\n",
              "  <thead>\n",
              "    <tr style=\"text-align: right;\">\n",
              "      <th></th>\n",
              "      <th>count</th>\n",
              "    </tr>\n",
              "    <tr>\n",
              "      <th>sentiment</th>\n",
              "      <th></th>\n",
              "    </tr>\n",
              "  </thead>\n",
              "  <tbody>\n",
              "    <tr>\n",
              "      <th>Positive</th>\n",
              "      <td>505</td>\n",
              "    </tr>\n",
              "    <tr>\n",
              "      <th>Neutral</th>\n",
              "      <td>505</td>\n",
              "    </tr>\n",
              "    <tr>\n",
              "      <th>Negative</th>\n",
              "      <td>505</td>\n",
              "    </tr>\n",
              "  </tbody>\n",
              "</table>\n",
              "</div><br><label><b>dtype:</b> int64</label>"
            ]
          },
          "metadata": {},
          "execution_count": 16
        }
      ],
      "source": [
        "training = pd.read_csv('/content/balanced_sentiment_articles_505_each.csv')\n",
        "training.head()\n",
        "training.shape\n",
        "training['sentiment'].value_counts()"
      ]
    },
    {
      "cell_type": "code",
      "execution_count": null,
      "metadata": {
        "colab": {
          "base_uri": "https://localhost:8080/"
        },
        "id": "BHS34wcwTSSU",
        "outputId": "74059e5c-5098-4a16-f640-ceaded874a5b"
      },
      "outputs": [
        {
          "output_type": "stream",
          "name": "stdout",
          "text": [
            "2025-08-01 00:00:00+00:00\n"
          ]
        }
      ],
      "source": [
        "training['pubDate'] = pd.to_datetime(training['pubDate'], format='mixed',utc=True)\n",
        "print(training['pubDate'].max())"
      ]
    },
    {
      "cell_type": "code",
      "execution_count": null,
      "metadata": {
        "colab": {
          "base_uri": "https://localhost:8080/"
        },
        "id": "YFsDo9oZNBiU",
        "outputId": "60aa8eb2-b1d3-43e4-a2d4-8ff3ef0b186a"
      },
      "outputs": [
        {
          "output_type": "execute_result",
          "data": {
            "text/plain": [
              "(1509, 6)"
            ]
          },
          "metadata": {},
          "execution_count": 18
        }
      ],
      "source": [
        "start_date = '2022-01-01'\n",
        "end_date = '2024-12-31'\n",
        "\n",
        "filtered_training = training[(training['pubDate'] >= start_date) & (training['pubDate'] <= end_date)]\n",
        "filtered_training.shape"
      ]
    },
    {
      "cell_type": "code",
      "execution_count": null,
      "metadata": {
        "colab": {
          "base_uri": "https://localhost:8080/",
          "height": 210
        },
        "id": "UXcxlAb1a_KM",
        "outputId": "a51fa2c7-3fea-4b63-b42a-dce3a1626ffb"
      },
      "outputs": [
        {
          "output_type": "execute_result",
          "data": {
            "text/plain": [
              "label\n",
              "2    505\n",
              "1    505\n",
              "0    505\n",
              "Name: count, dtype: int64"
            ],
            "text/html": [
              "<div>\n",
              "<style scoped>\n",
              "    .dataframe tbody tr th:only-of-type {\n",
              "        vertical-align: middle;\n",
              "    }\n",
              "\n",
              "    .dataframe tbody tr th {\n",
              "        vertical-align: top;\n",
              "    }\n",
              "\n",
              "    .dataframe thead th {\n",
              "        text-align: right;\n",
              "    }\n",
              "</style>\n",
              "<table border=\"1\" class=\"dataframe\">\n",
              "  <thead>\n",
              "    <tr style=\"text-align: right;\">\n",
              "      <th></th>\n",
              "      <th>count</th>\n",
              "    </tr>\n",
              "    <tr>\n",
              "      <th>label</th>\n",
              "      <th></th>\n",
              "    </tr>\n",
              "  </thead>\n",
              "  <tbody>\n",
              "    <tr>\n",
              "      <th>2</th>\n",
              "      <td>505</td>\n",
              "    </tr>\n",
              "    <tr>\n",
              "      <th>1</th>\n",
              "      <td>505</td>\n",
              "    </tr>\n",
              "    <tr>\n",
              "      <th>0</th>\n",
              "      <td>505</td>\n",
              "    </tr>\n",
              "  </tbody>\n",
              "</table>\n",
              "</div><br><label><b>dtype:</b> int64</label>"
            ]
          },
          "metadata": {},
          "execution_count": 19
        }
      ],
      "source": [
        "label_map = {\"Positive\": 2, \"Neutral\": 1, \"Negative\": 0}\n",
        "training['label'] = training['sentiment'].map(label_map)\n",
        "training.head()\n",
        "training['label'].value_counts()"
      ]
    },
    {
      "cell_type": "markdown",
      "metadata": {
        "id": "1sjNjwvxeCnl"
      },
      "source": [
        "**Split the Data into Training and Validation Sets**"
      ]
    },
    {
      "cell_type": "code",
      "execution_count": null,
      "metadata": {
        "id": "wajHrwhEZ7vy"
      },
      "outputs": [],
      "source": [
        "from sklearn.model_selection import train_test_split\n",
        "\n",
        "train_texts, val_texts, train_labels, val_labels = train_test_split(\n",
        "    training['content'].tolist(), training['label'].tolist(), test_size=0.2, random_state=42\n",
        ")"
      ]
    },
    {
      "cell_type": "markdown",
      "metadata": {
        "id": "cZvcQwyjeQ0b"
      },
      "source": [
        "**Tokenize Text Using RoBERTa Tokenizer**"
      ]
    },
    {
      "cell_type": "code",
      "execution_count": null,
      "metadata": {
        "id": "s-bbdBfkeKsJ"
      },
      "outputs": [],
      "source": [
        "from transformers import AutoTokenizer\n",
        "\n",
        "tokenizer = AutoTokenizer.from_pretrained(\"roberta-base\")\n",
        "\n",
        "train_encodings = tokenizer(train_texts, truncation=True, padding=True, max_length=512)\n",
        "val_encodings = tokenizer(val_texts, truncation=True, padding=True, max_length=512)\n"
      ]
    },
    {
      "cell_type": "markdown",
      "metadata": {
        "id": "jcOyatfWegpn"
      },
      "source": [
        "**Convert Data into HuggingFace Dataset Format**"
      ]
    },
    {
      "cell_type": "code",
      "execution_count": null,
      "metadata": {
        "id": "M5CnwFjkeaEV"
      },
      "outputs": [],
      "source": [
        "import torch\n",
        "\n",
        "class NewsDataset(torch.utils.data.Dataset):\n",
        "    def __init__(self, encodings, labels):\n",
        "        self.encodings = encodings\n",
        "        self.labels = labels\n",
        "\n",
        "    def __getitem__(self, idx):\n",
        "        item = {key: torch.tensor(val[idx]) for key, val in self.encodings.items()}\n",
        "        item['labels'] = torch.tensor(self.labels[idx])\n",
        "        return item\n",
        "\n",
        "    def __len__(self):\n",
        "        return len(self.labels)\n",
        "\n",
        "train_dataset = NewsDataset(train_encodings, train_labels)\n",
        "val_dataset = NewsDataset(val_encodings, val_labels)\n"
      ]
    },
    {
      "cell_type": "markdown",
      "metadata": {
        "id": "DJeNHIZmelox"
      },
      "source": [
        "**Load Pre-Trained RoBERTa Model for Classification**"
      ]
    },
    {
      "cell_type": "code",
      "execution_count": null,
      "metadata": {
        "colab": {
          "base_uri": "https://localhost:8080/"
        },
        "id": "_c9TRSabepLc",
        "outputId": "9c3e0bf3-e6c7-4516-b746-51e14ff7e195"
      },
      "outputs": [
        {
          "output_type": "stream",
          "name": "stderr",
          "text": [
            "Some weights of RobertaForSequenceClassification were not initialized from the model checkpoint at roberta-base and are newly initialized: ['classifier.dense.bias', 'classifier.dense.weight', 'classifier.out_proj.bias', 'classifier.out_proj.weight']\n",
            "You should probably TRAIN this model on a down-stream task to be able to use it for predictions and inference.\n"
          ]
        }
      ],
      "source": [
        "from transformers import AutoModelForSequenceClassification\n",
        "\n",
        "model = AutoModelForSequenceClassification.from_pretrained(\"roberta-base\", num_labels=3)"
      ]
    },
    {
      "cell_type": "markdown",
      "metadata": {
        "id": "gepWxzYsevd9"
      },
      "source": [
        "**Set Up Training Arguments**"
      ]
    },
    {
      "cell_type": "code",
      "execution_count": null,
      "metadata": {
        "id": "Axhy9mGEeu5q"
      },
      "outputs": [],
      "source": [
        "from transformers import TrainingArguments, Trainer\n",
        "\n",
        "training_args = TrainingArguments(\n",
        "    output_dir='./roberta-csi-finetuned',\n",
        "    eval_strategy='epoch',\n",
        "    save_strategy='epoch',\n",
        "    learning_rate=5e-6,\n",
        "    per_device_train_batch_size=8,\n",
        "    per_device_eval_batch_size=8,\n",
        "    num_train_epochs=5,\n",
        "    weight_decay=0.1,\n",
        "    logging_dir='./logs',\n",
        "    logging_steps=10,\n",
        "    save_total_limit=2,  # Keeps only the 2 best models to save disk space\n",
        "    load_best_model_at_end=True,  # Ensures best checkpoint is used\n",
        "    metric_for_best_model=\"eval_loss\",  # Saves best model based on validation loss\n",
        "    greater_is_better=False  # Lower validation loss is better\n",
        ")\n"
      ]
    },
    {
      "cell_type": "code",
      "execution_count": null,
      "metadata": {
        "id": "khhlqk9LiMH6"
      },
      "outputs": [],
      "source": [
        "from transformers import EarlyStoppingCallback\n",
        "\n",
        "trainer = Trainer(\n",
        "    model=model,\n",
        "    args=training_args,\n",
        "    train_dataset=train_dataset,\n",
        "    eval_dataset=val_dataset,\n",
        "    callbacks=[EarlyStoppingCallback(early_stopping_patience=2)]  # Stops if no improvement in 2 epochs\n",
        ")"
      ]
    },
    {
      "cell_type": "markdown",
      "metadata": {
        "id": "qwMgPreTfA1P"
      },
      "source": [
        "Initialize Trainer and Fine-Tune"
      ]
    },
    {
      "cell_type": "code",
      "execution_count": null,
      "metadata": {
        "colab": {
          "base_uri": "https://localhost:8080/"
        },
        "id": "S9cBgg_0tZO8",
        "outputId": "86709bf1-e4cc-4036-b641-ca3795d8151c"
      },
      "outputs": [
        {
          "output_type": "stream",
          "name": "stderr",
          "text": [
            "Some weights of RobertaForSequenceClassification were not initialized from the model checkpoint at roberta-base and are newly initialized: ['classifier.dense.bias', 'classifier.dense.weight', 'classifier.out_proj.bias', 'classifier.out_proj.weight']\n",
            "You should probably TRAIN this model on a down-stream task to be able to use it for predictions and inference.\n"
          ]
        }
      ],
      "source": [
        "from transformers import RobertaForSequenceClassification\n",
        "\n",
        "model = RobertaForSequenceClassification.from_pretrained(\n",
        "    \"roberta-base\",\n",
        "    num_labels=3,\n",
        "    hidden_dropout_prob=0.2,  # Increase from default 0.1\n",
        "    attention_probs_dropout_prob=0.2\n",
        ")\n"
      ]
    },
    {
      "cell_type": "code",
      "execution_count": null,
      "metadata": {
        "colab": {
          "base_uri": "https://localhost:8080/",
          "height": 589
        },
        "id": "z1_s0W2Pe0IM",
        "outputId": "9781ba19-2f4e-436b-e274-32f63587598a"
      },
      "outputs": [
        {
          "output_type": "stream",
          "name": "stderr",
          "text": [
            "\u001b[34m\u001b[1mwandb\u001b[0m: \u001b[33mWARNING\u001b[0m The `run_name` is currently set to the same value as `TrainingArguments.output_dir`. If this was not intended, please specify a different run name by setting the `TrainingArguments.run_name` parameter.\n",
            "\u001b[34m\u001b[1mwandb\u001b[0m: Using wandb-core as the SDK backend.  Please refer to https://wandb.me/wandb-core for more information.\n"
          ]
        },
        {
          "output_type": "display_data",
          "data": {
            "text/plain": [
              "<IPython.core.display.Javascript object>"
            ],
            "application/javascript": [
              "\n",
              "        window._wandbApiKey = new Promise((resolve, reject) => {\n",
              "            function loadScript(url) {\n",
              "            return new Promise(function(resolve, reject) {\n",
              "                let newScript = document.createElement(\"script\");\n",
              "                newScript.onerror = reject;\n",
              "                newScript.onload = resolve;\n",
              "                document.body.appendChild(newScript);\n",
              "                newScript.src = url;\n",
              "            });\n",
              "            }\n",
              "            loadScript(\"https://cdn.jsdelivr.net/npm/postmate/build/postmate.min.js\").then(() => {\n",
              "            const iframe = document.createElement('iframe')\n",
              "            iframe.style.cssText = \"width:0;height:0;border:none\"\n",
              "            document.body.appendChild(iframe)\n",
              "            const handshake = new Postmate({\n",
              "                container: iframe,\n",
              "                url: 'https://wandb.ai/authorize'\n",
              "            });\n",
              "            const timeout = setTimeout(() => reject(\"Couldn't auto authenticate\"), 5000)\n",
              "            handshake.then(function(child) {\n",
              "                child.on('authorize', data => {\n",
              "                    clearTimeout(timeout)\n",
              "                    resolve(data)\n",
              "                });\n",
              "            });\n",
              "            })\n",
              "        });\n",
              "    "
            ]
          },
          "metadata": {}
        },
        {
          "output_type": "stream",
          "name": "stderr",
          "text": [
            "\u001b[34m\u001b[1mwandb\u001b[0m: Logging into wandb.ai. (Learn how to deploy a W&B server locally: https://wandb.me/wandb-server)\n",
            "\u001b[34m\u001b[1mwandb\u001b[0m: You can find your API key in your browser here: https://wandb.ai/authorize\n",
            "wandb: Paste an API key from your profile and hit enter:"
          ]
        },
        {
          "name": "stdout",
          "output_type": "stream",
          "text": [
            " ··········\n"
          ]
        },
        {
          "output_type": "stream",
          "name": "stderr",
          "text": [
            "\u001b[34m\u001b[1mwandb\u001b[0m: \u001b[33mWARNING\u001b[0m If you're specifying your api key in code, ensure this code is not shared publicly.\n",
            "\u001b[34m\u001b[1mwandb\u001b[0m: \u001b[33mWARNING\u001b[0m Consider setting the WANDB_API_KEY environment variable, or running `wandb login` from the command line.\n",
            "\u001b[34m\u001b[1mwandb\u001b[0m: No netrc file found, creating one.\n",
            "\u001b[34m\u001b[1mwandb\u001b[0m: Appending key for api.wandb.ai to your netrc file: /root/.netrc\n",
            "\u001b[34m\u001b[1mwandb\u001b[0m: Currently logged in as: \u001b[33m21babba156\u001b[0m (\u001b[33m21babba156-pandit-deendayal-energy-university\u001b[0m) to \u001b[32mhttps://api.wandb.ai\u001b[0m. Use \u001b[1m`wandb login --relogin`\u001b[0m to force relogin\n"
          ]
        },
        {
          "output_type": "display_data",
          "data": {
            "text/plain": [
              "<IPython.core.display.HTML object>"
            ],
            "text/html": [
              "Tracking run with wandb version 0.19.9"
            ]
          },
          "metadata": {}
        },
        {
          "output_type": "display_data",
          "data": {
            "text/plain": [
              "<IPython.core.display.HTML object>"
            ],
            "text/html": [
              "Run data is saved locally in <code>/content/wandb/run-20250417_153059-cnhtyqq9</code>"
            ]
          },
          "metadata": {}
        },
        {
          "output_type": "display_data",
          "data": {
            "text/plain": [
              "<IPython.core.display.HTML object>"
            ],
            "text/html": [
              "Syncing run <strong><a href='https://wandb.ai/21babba156-pandit-deendayal-energy-university/huggingface/runs/cnhtyqq9' target=\"_blank\">./roberta-csi-finetuned</a></strong> to <a href='https://wandb.ai/21babba156-pandit-deendayal-energy-university/huggingface' target=\"_blank\">Weights & Biases</a> (<a href='https://wandb.me/developer-guide' target=\"_blank\">docs</a>)<br>"
            ]
          },
          "metadata": {}
        },
        {
          "output_type": "display_data",
          "data": {
            "text/plain": [
              "<IPython.core.display.HTML object>"
            ],
            "text/html": [
              " View project at <a href='https://wandb.ai/21babba156-pandit-deendayal-energy-university/huggingface' target=\"_blank\">https://wandb.ai/21babba156-pandit-deendayal-energy-university/huggingface</a>"
            ]
          },
          "metadata": {}
        },
        {
          "output_type": "display_data",
          "data": {
            "text/plain": [
              "<IPython.core.display.HTML object>"
            ],
            "text/html": [
              " View run at <a href='https://wandb.ai/21babba156-pandit-deendayal-energy-university/huggingface/runs/cnhtyqq9' target=\"_blank\">https://wandb.ai/21babba156-pandit-deendayal-energy-university/huggingface/runs/cnhtyqq9</a>"
            ]
          },
          "metadata": {}
        },
        {
          "output_type": "display_data",
          "data": {
            "text/plain": [
              "<IPython.core.display.HTML object>"
            ],
            "text/html": [
              "\n",
              "    <div>\n",
              "      \n",
              "      <progress value='760' max='760' style='width:300px; height:20px; vertical-align: middle;'></progress>\n",
              "      [760/760 13:29, Epoch 5/5]\n",
              "    </div>\n",
              "    <table border=\"1\" class=\"dataframe\">\n",
              "  <thead>\n",
              " <tr style=\"text-align: left;\">\n",
              "      <th>Epoch</th>\n",
              "      <th>Training Loss</th>\n",
              "      <th>Validation Loss</th>\n",
              "    </tr>\n",
              "  </thead>\n",
              "  <tbody>\n",
              "    <tr>\n",
              "      <td>1</td>\n",
              "      <td>1.084100</td>\n",
              "      <td>1.088378</td>\n",
              "    </tr>\n",
              "    <tr>\n",
              "      <td>2</td>\n",
              "      <td>0.888200</td>\n",
              "      <td>0.731817</td>\n",
              "    </tr>\n",
              "    <tr>\n",
              "      <td>3</td>\n",
              "      <td>0.728300</td>\n",
              "      <td>0.662250</td>\n",
              "    </tr>\n",
              "    <tr>\n",
              "      <td>4</td>\n",
              "      <td>0.596000</td>\n",
              "      <td>0.628682</td>\n",
              "    </tr>\n",
              "    <tr>\n",
              "      <td>5</td>\n",
              "      <td>0.542300</td>\n",
              "      <td>0.628512</td>\n",
              "    </tr>\n",
              "  </tbody>\n",
              "</table><p>"
            ]
          },
          "metadata": {}
        },
        {
          "output_type": "execute_result",
          "data": {
            "text/plain": [
              "TrainOutput(global_step=760, training_loss=0.7929520707381399, metrics={'train_runtime': 843.9247, 'train_samples_per_second': 7.181, 'train_steps_per_second': 0.901, 'total_flos': 1594467311431680.0, 'train_loss': 0.7929520707381399, 'epoch': 5.0})"
            ]
          },
          "metadata": {},
          "execution_count": 35
        }
      ],
      "source": [
        "trainer = Trainer(\n",
        "    model=model,\n",
        "    args=training_args,\n",
        "    train_dataset=train_dataset,\n",
        "    eval_dataset=val_dataset\n",
        ")\n",
        "\n",
        "trainer.train()"
      ]
    },
    {
      "cell_type": "code",
      "source": [
        "import matplotlib.pyplot as plt\n",
        "\n",
        "# Epochs\n",
        "epochs = [1, 2, 3, 4, 5]\n",
        "\n",
        "# Loss values you provided\n",
        "training_loss = [1.0841, 0.8882, 0.7283, 0.5960, 0.5423]\n",
        "validation_loss = [1.0884, 0.7318, 0.6623, 0.5960, 0.6285]\n",
        "\n",
        "# Create the plot\n",
        "plt.figure(figsize=(8, 6))\n",
        "plt.plot(epochs, training_loss, marker='o', label='Training Loss')\n",
        "plt.plot(epochs, validation_loss, marker='o', label='Validation Loss')\n",
        "plt.xlabel('Epoch')\n",
        "plt.ylabel('Loss')\n",
        "plt.title('Training vs Validation Loss over Epochs')\n",
        "plt.xticks(epochs)\n",
        "plt.legend()\n",
        "plt.grid(True)\n",
        "plt.show()\n"
      ],
      "metadata": {
        "colab": {
          "base_uri": "https://localhost:8080/",
          "height": 564
        },
        "id": "ScP4rfi4B2VE",
        "outputId": "db4f4127-1935-44fd-e402-39a065ebc81f"
      },
      "execution_count": null,
      "outputs": [
        {
          "output_type": "display_data",
          "data": {
            "text/plain": [
              "<Figure size 800x600 with 1 Axes>"
            ],
            "image/png": "[encoded data removed]"
          },
          "metadata": {}
        }
      ]
    },
    {
      "cell_type": "code",
      "execution_count": null,
      "metadata": {
        "id": "5ISNTVtFfDBO",
        "colab": {
          "base_uri": "https://localhost:8080/",
          "height": 126
        },
        "outputId": "870f1293-fe56-47a9-ba70-423f1e42edaf"
      },
      "outputs": [
        {
          "output_type": "display_data",
          "data": {
            "text/plain": [
              "<IPython.core.display.HTML object>"
            ],
            "text/html": [
              "\n",
              "    <div>\n",
              "      \n",
              "      <progress value='38' max='38' style='width:300px; height:20px; vertical-align: middle;'></progress>\n",
              "      [38/38 00:08]\n",
              "    </div>\n",
              "    "
            ]
          },
          "metadata": {}
        },
        {
          "output_type": "execute_result",
          "data": {
            "text/plain": [
              "{'eval_loss': 0.6285116672515869,\n",
              " 'eval_runtime': 8.3771,\n",
              " 'eval_samples_per_second': 36.17,\n",
              " 'eval_steps_per_second': 4.536,\n",
              " 'epoch': 5.0}"
            ]
          },
          "metadata": {},
          "execution_count": 36
        }
      ],
      "source": [
        "trainer.evaluate()"
      ]
    },
    {
      "cell_type": "code",
      "execution_count": null,
      "metadata": {
        "id": "qrhkzX9GDV66"
      },
      "outputs": [],
      "source": [
        "from sklearn.metrics import accuracy_score, precision_recall_fscore_support\n",
        "\n",
        "def compute_metrics(pred):\n",
        "    labels = pred.label_ids\n",
        "    preds = pred.predictions.argmax(-1)\n",
        "\n",
        "    precision, recall, f1, _ = precision_recall_fscore_support(labels, preds, average='weighted')\n",
        "    acc = accuracy_score(labels, preds)\n",
        "\n",
        "    return {\n",
        "        'accuracy': acc,\n",
        "        'f1': f1,\n",
        "        'precision': precision,\n",
        "        'recall': recall\n",
        "    }"
      ]
    },
    {
      "cell_type": "code",
      "execution_count": null,
      "metadata": {
        "id": "X-NgTdstDWxv"
      },
      "outputs": [],
      "source": [
        "trainer = Trainer(\n",
        "    model=model,\n",
        "    args=training_args,\n",
        "    train_dataset=train_dataset,\n",
        "    eval_dataset=val_dataset,\n",
        "    compute_metrics=compute_metrics\n",
        ")"
      ]
    },
    {
      "cell_type": "code",
      "execution_count": null,
      "metadata": {
        "id": "LzIGhkEmxMWc",
        "colab": {
          "base_uri": "https://localhost:8080/",
          "height": 198
        },
        "outputId": "d191b9c8-4c3d-428a-e085-2cf19b3dd285"
      },
      "outputs": [
        {
          "output_type": "display_data",
          "data": {
            "text/plain": [
              "<IPython.core.display.HTML object>"
            ],
            "text/html": [
              "\n",
              "    <div>\n",
              "      \n",
              "      <progress value='38' max='38' style='width:300px; height:20px; vertical-align: middle;'></progress>\n",
              "      [38/38 00:08]\n",
              "    </div>\n",
              "    "
            ]
          },
          "metadata": {}
        },
        {
          "output_type": "execute_result",
          "data": {
            "text/plain": [
              "{'eval_loss': 0.6285116672515869,\n",
              " 'eval_model_preparation_time': 0.0046,\n",
              " 'eval_accuracy': 0.7194719471947195,\n",
              " 'eval_f1': 0.6984788528425705,\n",
              " 'eval_precision': 0.7120590031031075,\n",
              " 'eval_recall': 0.7194719471947195,\n",
              " 'eval_runtime': 8.4777,\n",
              " 'eval_samples_per_second': 35.741,\n",
              " 'eval_steps_per_second': 4.482}"
            ]
          },
          "metadata": {},
          "execution_count": 39
        }
      ],
      "source": [
        "trainer.evaluate()"
      ]
    },
    {
      "cell_type": "code",
      "execution_count": null,
      "metadata": {
        "id": "HfDVghxtgvEo",
        "colab": {
          "base_uri": "https://localhost:8080/",
          "height": 17
        },
        "outputId": "ed43f061-ee62-4e32-d545-404bccff70cc"
      },
      "outputs": [
        {
          "output_type": "display_data",
          "data": {
            "text/plain": [
              "<IPython.core.display.HTML object>"
            ],
            "text/html": []
          },
          "metadata": {}
        }
      ],
      "source": [
        "# Run predictions on your validation set\n",
        "predictions_output = trainer.predict(val_dataset)"
      ]
    },
    {
      "cell_type": "code",
      "execution_count": null,
      "metadata": {
        "id": "iTFyvPh2gn9k"
      },
      "outputs": [],
      "source": [
        "# Get raw logits and true labels\n",
        "logits = predictions_output.predictions\n",
        "y_true = predictions_output.label_ids\n",
        "\n",
        "# Convert logits to predicted classes\n",
        "y_pred = np.argmax(logits, axis=1)"
      ]
    },
    {
      "cell_type": "code",
      "execution_count": null,
      "metadata": {
        "id": "I88zBEMqhCgW",
        "colab": {
          "base_uri": "https://localhost:8080/",
          "height": 645
        },
        "outputId": "8f163d4e-750b-46e6-e129-b1ab8aba47fc"
      },
      "outputs": [
        {
          "output_type": "stream",
          "name": "stdout",
          "text": [
            "              precision    recall  f1-score   support\n",
            "\n",
            "    Negative       0.72      0.87      0.78       107\n",
            "     Neutral       0.67      0.38      0.48        93\n",
            "    Positive       0.74      0.87      0.80       103\n",
            "\n",
            "    accuracy                           0.72       303\n",
            "   macro avg       0.71      0.71      0.69       303\n",
            "weighted avg       0.71      0.72      0.70       303\n",
            "\n"
          ]
        },
        {
          "output_type": "execute_result",
          "data": {
            "text/plain": [
              "<sklearn.metrics._plot.confusion_matrix.ConfusionMatrixDisplay at 0x7d5a6c0ea290>"
            ]
          },
          "metadata": {},
          "execution_count": 42
        },
        {
          "output_type": "display_data",
          "data": {
            "text/plain": [
              "<Figure size 640x480 with 2 Axes>"
            ],
            "image/png": "[encoded data removed]"
          },
          "metadata": {}
        }
      ],
      "source": [
        "from sklearn.metrics import classification_report, confusion_matrix, ConfusionMatrixDisplay\n",
        "\n",
        "# Replace the label names below with your actual class names if different\n",
        "label_names = [\"Negative\", \"Neutral\", \"Positive\"]\n",
        "\n",
        "# Detailed classification report\n",
        "print(classification_report(y_true, y_pred, target_names=label_names))\n",
        "\n",
        "# Plot confusion matrix\n",
        "cm = confusion_matrix(y_true, y_pred)\n",
        "ConfusionMatrixDisplay(cm, display_labels=label_names).plot()\n"
      ]
    },
    {
      "cell_type": "markdown",
      "metadata": {
        "id": "n9FTFV_OnPl0"
      },
      "source": [
        "**METRICS ONLY +VE AND -VE CLASS**"
      ]
    },
    {
      "cell_type": "code",
      "execution_count": null,
      "metadata": {
        "id": "E7zm3ojlnOtP",
        "colab": {
          "base_uri": "https://localhost:8080/",
          "height": 699
        },
        "outputId": "064c8527-c8d3-43af-c119-0d5bf11b2515"
      },
      "outputs": [
        {
          "output_type": "stream",
          "name": "stdout",
          "text": [
            "Binary Classification Report (Positive vs Negative):\n",
            "              precision    recall  f1-score   support\n",
            "\n",
            "    Negative     0.8870    0.9533    0.9189       107\n",
            "    Positive     0.9474    0.8738    0.9091       103\n",
            "\n",
            "    accuracy                         0.9143       210\n",
            "   macro avg     0.9172    0.9135    0.9140       210\n",
            "weighted avg     0.9166    0.9143    0.9141       210\n",
            "\n",
            "Confusion Matrix (Binary):\n",
            "[[102   5]\n",
            " [ 13  90]]\n"
          ]
        },
        {
          "output_type": "execute_result",
          "data": {
            "text/plain": [
              "<sklearn.metrics._plot.confusion_matrix.ConfusionMatrixDisplay at 0x7d5a6d211590>"
            ]
          },
          "metadata": {},
          "execution_count": 43
        },
        {
          "output_type": "display_data",
          "data": {
            "text/plain": [
              "<Figure size 640x480 with 2 Axes>"
            ],
            "image/png": "[encoded data removed]"
          },
          "metadata": {}
        }
      ],
      "source": [
        "from sklearn.metrics import classification_report, confusion_matrix\n",
        "import numpy as np\n",
        "\n",
        "# Assuming you have:\n",
        "# y_true: list of true labels (e.g., [0, 1, 2, ...])\n",
        "# y_pred: list of predicted labels\n",
        "# label_map = {0: 'Negative', 1: 'Neutral', 2: 'Positive'}\n",
        "\n",
        "# Convert to numpy arrays\n",
        "y_true = np.array(y_true)\n",
        "y_pred = np.array(y_pred)\n",
        "\n",
        "\n",
        "# Create a mask to keep only 'Positive' and 'Negative' samples\n",
        "# Assuming: 0 = Negative, 1 = Neutral, 2 = Positive\n",
        "binary_mask = (y_true == 0) | (y_true == 2)\n",
        "\n",
        "# Filter labels\n",
        "y_true_binary = y_true[binary_mask]\n",
        "y_pred_binary = y_pred[binary_mask]\n",
        "\n",
        "# Map 0 -> 0 (Negative), 2 -> 1 (Positive) for binary\n",
        "y_true_binary_mapped = (y_true_binary == 2).astype(int)\n",
        "y_pred_binary_mapped = (y_pred_binary == 2).astype(int)\n",
        "\n",
        "# Evaluate metrics\n",
        "report = classification_report(\n",
        "    y_true_binary_mapped,\n",
        "    y_pred_binary_mapped,\n",
        "    target_names=['Negative', 'Positive'],\n",
        "    digits=4\n",
        ")\n",
        "\n",
        "cm2 = confusion_matrix(\n",
        "    y_true_binary_mapped,\n",
        "    y_pred_binary_mapped\n",
        ")\n",
        "\n",
        "print(\"Binary Classification Report (Positive vs Negative):\")\n",
        "print(report)\n",
        "\n",
        "print(\"Confusion Matrix (Binary):\")\n",
        "print(cm2)\n",
        "ConfusionMatrixDisplay(cm2,target_names=label_names).plot()"
      ]
    },
    {
      "cell_type": "code",
      "source": [
        "# Optimize for higher positive recall\n",
        "from sklearn.metrics import precision_recall_curve\n",
        "precision, recall, thresholds = precision_recall_curve(y_true_binary_mapped, y_pred_binary_mapped)\n",
        "policy_threshold = thresholds[np.argmax(recall - 0.2*precision)]  # Weight recall"
      ],
      "metadata": {
        "id": "SEk7H6lqWUiX"
      },
      "execution_count": null,
      "outputs": []
    },
    {
      "cell_type": "markdown",
      "source": [
        "**POLICY BASED SCORING**"
      ],
      "metadata": {
        "id": "9HW_H3vgYNJB"
      }
    },
    {
      "cell_type": "code",
      "source": [
        "import numpy as np\n",
        "from sklearn.metrics import make_scorer\n",
        "\n",
        "def economic_cost_score(y_true, y_pred, fn_cost=3.0, fp_cost=1.0):\n",
        "    \"\"\"\n",
        "    Custom scorer where:\n",
        "    - fn_cost: Economic weight of false negatives (Type II error)\n",
        "    - fp_cost: Economic weight of false positives (Type I error)\n",
        "    \"\"\"\n",
        "    tn = np.sum((y_true == 0) & (y_pred == 0))\n",
        "    fp = np.sum((y_true == 0) & (y_pred == 1))\n",
        "    fn = np.sum((y_true == 1) & (y_pred == 0))\n",
        "    tp = np.sum((y_true == 1) & (y_pred == 1))\n",
        "\n",
        "    total_cost = (fn * fn_cost) + (fp * fp_cost)\n",
        "    max_possible_cost = (fn + tp) * fn_cost + (fp + tn) * fp_cost\n",
        "    return 1 - (total_cost / max_possible_cost)  # Normalized to [0,1]"
      ],
      "metadata": {
        "id": "LuNDT9L2YQQ9"
      },
      "execution_count": null,
      "outputs": []
    },
    {
      "cell_type": "code",
      "source": [
        "# confusion matrix to y_true, y_pred\n",
        "y_true = np.array([0]*95 + [1]*100)  # Actual labels (95 Negative, 100 Positive)\n",
        "y_pred = np.array([0]*90 + [1]*5 + [0]*20 + [1]*80)  # Your model's predictions\n",
        "\n",
        "# Calculate\n",
        "score = economic_cost_score(y_true, y_pred)\n",
        "print(f\"Policy-weighted score: {score:.3f}\")\n",
        "# Output: 0.742 (Lower than F1 due to FN penalty)"
      ],
      "metadata": {
        "colab": {
          "base_uri": "https://localhost:8080/"
        },
        "id": "REA0xCsYYYLs",
        "outputId": "f7826e12-d2fa-43f8-b2bf-88daa5f45623"
      },
      "execution_count": null,
      "outputs": [
        {
          "output_type": "stream",
          "name": "stdout",
          "text": [
            "Policy-weighted score: 0.835\n"
          ]
        }
      ]
    },
    {
      "cell_type": "code",
      "source": [
        "from sklearn.model_selection import GridSearchCV\n",
        "\n",
        "# Use in hyperparameter tuning\n",
        "param_grid = {'threshold': [0.3, 0.4, 0.5, 0.6]}\n",
        "scorer = make_scorer(economic_cost_score, greater_is_better=True)\n",
        "grid = GridSearchCV(estimator=model, param_grid=param_grid, scoring=scorer)\n",
        "grid.fit(X_test, y_test)\n",
        "print(f\"Optimal threshold: {grid.best_params_['threshold']}\")"
      ],
      "metadata": {
        "colab": {
          "base_uri": "https://localhost:8080/",
          "height": 198
        },
        "id": "189TAUqxYcz9",
        "outputId": "0c2cfb3b-2322-4cc8-b2d1-61a07a1f8e49"
      },
      "execution_count": null,
      "outputs": [
        {
          "output_type": "error",
          "ename": "NameError",
          "evalue": "name 'X_test' is not defined",
          "traceback": [
            "\u001b[0;31m---------------------------------------------------------------------------\u001b[0m",
            "\u001b[0;31mNameError\u001b[0m                                 Traceback (most recent call last)",
            "\u001b[0;32m<ipython-input-52-8ac6b025e17f>\u001b[0m in \u001b[0;36m<cell line: 0>\u001b[0;34m()\u001b[0m\n\u001b[1;32m      5\u001b[0m \u001b[0mscorer\u001b[0m \u001b[0;34m=\u001b[0m \u001b[0mmake_scorer\u001b[0m\u001b[0;34m(\u001b[0m\u001b[0meconomic_cost_score\u001b[0m\u001b[0;34m,\u001b[0m \u001b[0mgreater_is_better\u001b[0m\u001b[0;34m=\u001b[0m\u001b[0;32mTrue\u001b[0m\u001b[0;34m)\u001b[0m\u001b[0;34m\u001b[0m\u001b[0;34m\u001b[0m\u001b[0m\n\u001b[1;32m      6\u001b[0m \u001b[0mgrid\u001b[0m \u001b[0;34m=\u001b[0m \u001b[0mGridSearchCV\u001b[0m\u001b[0;34m(\u001b[0m\u001b[0mestimator\u001b[0m\u001b[0;34m=\u001b[0m\u001b[0mmodel\u001b[0m\u001b[0;34m,\u001b[0m \u001b[0mparam_grid\u001b[0m\u001b[0;34m=\u001b[0m\u001b[0mparam_grid\u001b[0m\u001b[0;34m,\u001b[0m \u001b[0mscoring\u001b[0m\u001b[0;34m=\u001b[0m\u001b[0mscorer\u001b[0m\u001b[0;34m)\u001b[0m\u001b[0;34m\u001b[0m\u001b[0;34m\u001b[0m\u001b[0m\n\u001b[0;32m----> 7\u001b[0;31m \u001b[0mgrid\u001b[0m\u001b[0;34m.\u001b[0m\u001b[0mfit\u001b[0m\u001b[0;34m(\u001b[0m\u001b[0mX_test\u001b[0m\u001b[0;34m,\u001b[0m \u001b[0my_test\u001b[0m\u001b[0;34m)\u001b[0m\u001b[0;34m\u001b[0m\u001b[0;34m\u001b[0m\u001b[0m\n\u001b[0m\u001b[1;32m      8\u001b[0m \u001b[0mprint\u001b[0m\u001b[0;34m(\u001b[0m\u001b[0;34mf\"Optimal threshold: {grid.best_params_['threshold']}\"\u001b[0m\u001b[0;34m)\u001b[0m\u001b[0;34m\u001b[0m\u001b[0;34m\u001b[0m\u001b[0m\n",
            "\u001b[0;31mNameError\u001b[0m: name 'X_test' is not defined"
          ]
        }
      ]
    },
    {
      "cell_type": "code",
      "execution_count": null,
      "metadata": {
        "id": "fgyKmz_uEIpZ"
      },
      "outputs": [],
      "source": [
        "from transformers import RobertaTokenizer\n",
        "from datasets import Dataset\n",
        "\n",
        "tokenizer = RobertaTokenizer.from_pretrained('roberta-base')\n",
        "\n",
        "# Load the data\n",
        "df_t = pd.read_csv(\"/content/drive/MyDrive/News/NewsData.io_Indian_Economy.csv\")\n",
        "df_t = df.dropna(subset=[\"title\"])\n",
        "\n",
        "dataset = Dataset.from_pandas(df_t)\n",
        "\n",
        "# Tokenize\n",
        "def preprocess(example):\n",
        "    return tokenizer(example[\"title\"], truncation=True, padding='max_length', max_length=128)\n",
        "\n",
        "tokenized_dataset = dataset.map(preprocess, batched=True)\n"
      ]
    },
    {
      "cell_type": "code",
      "execution_count": null,
      "metadata": {
        "id": "Fdau4p1KWOq2"
      },
      "outputs": [],
      "source": [
        "from transformers import RobertaForSequenceClassification\n",
        "\n",
        "model_path = \"/content/roberta-csi-finetuned/checkpoint-760\"\n",
        "model = RobertaForSequenceClassification.from_pretrained(model_path)\n"
      ]
    },
    {
      "cell_type": "code",
      "execution_count": null,
      "metadata": {
        "id": "EdBoaY3UNt_G"
      },
      "outputs": [],
      "source": [
        "trainer.save_model(\"roberta-csi-final\")\n",
        "tokenizer.save_pretrained(\"roberta-csi-final\")"
      ]
    },
    {
      "cell_type": "code",
      "execution_count": null,
      "metadata": {
        "id": "xYtO9Aedkk9f"
      },
      "outputs": [],
      "source": [
        "from google.colab import files\n",
        "\n",
        "# Create a zip file of the saved model directory\n",
        "!zip -r model_files.zip \"/content/roberta-csi-final\"\n",
        "\n",
        "# Download the zip file\n",
        "files.download(\"model_files.zip\")"
      ]
    },
    {
      "cell_type": "code",
      "execution_count": null,
      "metadata": {
        "id": "dbdwe1q0bSRV"
      },
      "outputs": [],
      "source": [
        "import torch\n",
        "from torch.utils.data import DataLoader\n",
        "from transformers import Trainer\n",
        "\n",
        "# Use GPU if available\n",
        "device = torch.device(\"cuda\" if torch.cuda.is_available() else \"cpu\")\n",
        "model.to(device)\n",
        "\n",
        "# Use Trainer's predict method\n",
        "trainer = Trainer(model=model)\n",
        "predictions = trainer.predict(tokenized_dataset)\n",
        "\n",
        "# Get predicted labels\n",
        "preds = torch.nn.functional.softmax(torch.tensor(predictions.predictions), dim=-1)\n",
        "labels = torch.argmax(preds, dim=1).numpy()\n",
        "\n",
        "# Append predictions to original DataFrame\n",
        "df_t[\"predicted_sentiment\"] = labels  # 0 = Negative, 1 = Neutral, 2 = Positive (check your label encoding)\n"
      ]
    },
    {
      "cell_type": "code",
      "execution_count": null,
      "metadata": {
        "id": "O2m7D18RbVVu"
      },
      "outputs": [],
      "source": [
        "# Optional: Map labels to strings\n",
        "label_map = {0: \"Negative\", 1: \"Neutral\", 2: \"Positive\"}\n",
        "df_t[\"predicted_sentiment\"] = df_t[\"predicted_sentiment\"].map(label_map)\n",
        "\n",
        "# Filter only binary\n",
        "df_binary = df_t[df_t[\"predicted_sentiment\"].isin([\"Positive\", \"Negative\"])]\n",
        "\n",
        "# Save to CSV\n",
        "df_binary.to_csv(\"CSI_labeled_unseen_news.csv\", index=False)\n"
      ]
    },
    {
      "cell_type": "code",
      "execution_count": null,
      "metadata": {
        "id": "pJ9uYTUEgbZm"
      },
      "outputs": [],
      "source": [
        "df_binary['pubDate'] = pd.to_datetime(df_binary['pubDate'])\n",
        "df_binary['month'] = df_binary['pubDate'].dt.to_period('M')\n",
        "\n",
        "# Monthly counts\n",
        "monthly_sentiment = df_binary.groupby(['month', 'predicted_sentiment']).size().unstack().fillna(0)\n",
        "\n",
        "# CSI = Positive / (Positive + Negative)\n",
        "monthly_sentiment[\"CSI\"] = monthly_sentiment[\"Positive\"] / (monthly_sentiment[\"Positive\"] + monthly_sentiment[\"Negative\"])\n",
        "\n",
        "monthly_sentiment[\"CSI\"].plot()\n"
      ]
    },
    {
      "cell_type": "markdown",
      "metadata": {
        "id": "Y5iIY7uMhsaF"
      },
      "source": [
        "**satndardized csi**"
      ]
    },
    {
      "cell_type": "code",
      "execution_count": null,
      "metadata": {
        "id": "h1_3evfshGKl"
      },
      "outputs": [],
      "source": [
        "base_month = monthly_sentiment.index.min()  # or specify like: pd.Period(\"2023-01\", freq=\"M\")\n",
        "base_csi = monthly_sentiment.loc[base_month, \"CSI\"]\n",
        "\n",
        "# Standardize to index (base = 100)\n",
        "monthly_sentiment[\"CSI_index\"] = (monthly_sentiment[\"CSI\"] / base_csi) * 100\n",
        "\n",
        "monthly_sentiment[\"CSI_index\"].plot()"
      ]
    },
    {
      "cell_type": "markdown",
      "metadata": {
        "id": "Bood3Dd-jJNg"
      },
      "source": [
        "Applying rolling windows"
      ]
    },
    {
      "cell_type": "markdown",
      "metadata": {
        "id": "hcqgDcZ1OpzC"
      },
      "source": [
        "**bsi batch inference using roberta**"
      ]
    },
    {
      "cell_type": "code",
      "execution_count": null,
      "metadata": {
        "id": "t9oRs_7qp0DZ"
      },
      "outputs": [],
      "source": [
        "df_b = pd.read_csv(\"/content/unlabeled_df (1).csv\")"
      ]
    },
    {
      "cell_type": "code",
      "execution_count": null,
      "metadata": {
        "id": "q0Fr3SKOual2"
      },
      "outputs": [],
      "source": [
        "df_b.info()"
      ]
    },
    {
      "cell_type": "code",
      "execution_count": null,
      "metadata": {
        "id": "c8Ndqmj2aCpv"
      },
      "outputs": [],
      "source": [
        "df_bus = pd.read_csv('/content/Business  - Sheet5 (1).csv')"
      ]
    },
    {
      "cell_type": "code",
      "execution_count": null,
      "metadata": {
        "id": "-CtXxqSLavcC"
      },
      "outputs": [],
      "source": [
        "final_busi = pd.concat([df_b, df_bus])\n",
        "final_busi.shape"
      ]
    },
    {
      "cell_type": "code",
      "execution_count": null,
      "metadata": {
        "id": "fGCiGd4_Hl4y"
      },
      "outputs": [],
      "source": [
        "from transformers import RobertaTokenizer, RobertaForSequenceClassification\n",
        "import torch\n",
        "from torch.utils.data import DataLoader, Dataset\n",
        "from tqdm import tqdm\n",
        "\n",
        "# 1. Load your fine-tuned model and tokenizer\n",
        "model_path = \"/content/drive/MyDrive/News/Model_RoBERTa/roberta-csi-final\"\n",
        "tokenizer = RobertaTokenizer.from_pretrained(model_path)\n",
        "model = RobertaForSequenceClassification.from_pretrained(model_path)\n",
        "model.eval()\n",
        "device = torch.device(\"cuda\" if torch.cuda.is_available() else \"cpu\")\n",
        "model.to(device)\n",
        "\n",
        "# 2. Load & filter business-related news dataset\n",
        "final_busi = final_busi[final_busi['keywords'].str.contains(\n",
        "    'business|economy|stock|market|corporate|finance|markets|business-left|BSE Sensex|NIFTY|Rupee|economic growth|$5 trilion|exports|services|manufacturing|index|RBI|households|industry|growth|company|',\n",
        "    case=False, na=False)]\n",
        "\n",
        "# 3. Tokenize the text\n",
        "class NewsDataset(Dataset):\n",
        "    def __init__(self, texts, tokenizer, max_len=256):\n",
        "        self.texts = texts\n",
        "        self.tokenizer = tokenizer\n",
        "        self.max_len = max_len\n",
        "\n",
        "    def __len__(self):\n",
        "        return len(self.texts)\n",
        "\n",
        "    def __getitem__(self, idx):\n",
        "        inputs = self.tokenizer(\n",
        "            self.texts[idx],\n",
        "            return_tensors='pt',\n",
        "            padding='max_length',\n",
        "            truncation=True,\n",
        "            max_length=self.max_len\n",
        "        )\n",
        "        return {k: v.squeeze(0) for k, v in inputs.items()}\n",
        "\n",
        "# 4. Create DataLoader\n",
        "news_texts = final_busi['title'].fillna(\"\").astype(str).tolist()  # Use df_b not df here\n",
        "dataset = NewsDataset(news_texts, tokenizer)\n",
        "loader = DataLoader(dataset, batch_size=32)\n",
        "\n",
        "# 5. Run inference\n",
        "predictions = []\n",
        "with torch.no_grad():\n",
        "    for batch in tqdm(loader):\n",
        "        input_ids = batch['input_ids'].to(device)\n",
        "        attention_mask = batch['attention_mask'].to(device)\n",
        "        outputs = model(input_ids=input_ids, attention_mask=attention_mask)\n",
        "        probs = torch.nn.functional.softmax(outputs.logits, dim=-1)\n",
        "        preds = torch.argmax(probs, dim=1).cpu().tolist()\n",
        "        predictions.extend(preds)\n",
        "\n",
        "# 6. Map labels\n",
        "label_map = {0: 'Negative', 1: 'Neutral', 2: 'Positive'}  # adjust if needed\n",
        "final_busi['predicted_sentiment'] = [label_map[p] for p in predictions]\n",
        "\n",
        "# 7. Save results\n",
        "final_busi.to_csv(\"BSI_inference_output.csv\", index=False)\n"
      ]
    },
    {
      "cell_type": "code",
      "execution_count": null,
      "metadata": {
        "id": "pT40UqOWPCcW"
      },
      "outputs": [],
      "source": [
        "df_b.shape"
      ]
    },
    {
      "cell_type": "code",
      "execution_count": null,
      "metadata": {
        "id": "8MJ9Q4ZFQ24Y"
      },
      "outputs": [],
      "source": [
        "final_busi['pubDate'] = final_busi['pubDate'].str.strip('\"')\n",
        "final_busi['pubDate'] = pd.to_datetime(final_busi['pubDate'], format='mixed')"
      ]
    },
    {
      "cell_type": "code",
      "execution_count": null,
      "metadata": {
        "id": "Gi9TwDbNPUj5"
      },
      "outputs": [],
      "source": [
        "final_busi['pubDate'].value_counts().head(20)"
      ]
    },
    {
      "cell_type": "code",
      "execution_count": null,
      "metadata": {
        "id": "vqGiMLhNSEPm"
      },
      "outputs": [],
      "source": [
        "final_busi = final_busi.dropna(subset=['pubDate'])\n",
        "final_busi['month'] = final_busi['pubDate'].dt.to_period('M')"
      ]
    },
    {
      "cell_type": "code",
      "execution_count": null,
      "metadata": {
        "id": "bgxpZ0vCO0nM"
      },
      "outputs": [],
      "source": [
        "# Filter to keep only relevant sentiments\n",
        "df_binary = final_busi[final_busi['predicted_sentiment'].isin(['Positive', 'Negative'])]\n",
        "\n",
        "# Monthly counts of each sentiment\n",
        "monthly_counts = df_binary.groupby(['month', 'predicted_sentiment']).size().unstack(fill_value=0)\n",
        "\n",
        "# Compute BSI\n",
        "monthly_counts['BSI'] = monthly_counts['Positive'] / (monthly_counts['Positive'] + monthly_counts['Negative'])\n"
      ]
    },
    {
      "cell_type": "code",
      "execution_count": null,
      "metadata": {
        "id": "eJdi6vVLPeO6"
      },
      "outputs": [],
      "source": [
        "print(monthly_counts.columns)\n"
      ]
    },
    {
      "cell_type": "code",
      "execution_count": null,
      "metadata": {
        "id": "kiP0q5sAPl8w"
      },
      "outputs": [],
      "source": [
        "final_busi['predicted_sentiment'].value_counts(dropna=False)\n"
      ]
    },
    {
      "cell_type": "code",
      "execution_count": null,
      "metadata": {
        "id": "1HyJ4TuwPsEV"
      },
      "outputs": [],
      "source": [
        "final_busi['predicted_sentiment'] = final_busi['predicted_sentiment'].astype(str).str.strip().str.capitalize()"
      ]
    },
    {
      "cell_type": "code",
      "execution_count": null,
      "metadata": {
        "id": "oXaWkMOKPxml"
      },
      "outputs": [],
      "source": [
        "# Filter to only positive/negative\n",
        "df_binary = final_busi[final_busi['predicted_sentiment'].isin(['Positive', 'Negative'])]\n",
        "\n",
        "# Extract month\n",
        "df_binary['pubDate'] = pd.to_datetime(df_binary['pubDate'], errors='coerce')\n",
        "df_binary['month'] = df_binary['pubDate'].dt.to_period('M')\n",
        "\n",
        "# Group and compute\n",
        "monthly_counts = df_binary.groupby(['month', 'predicted_sentiment']).size().unstack(fill_value=0)\n",
        "\n",
        "# Compute BSI\n",
        "monthly_counts['BSI'] = monthly_counts['Positive'] / (monthly_counts['Positive'] + monthly_counts['Negative'])\n",
        "monthly_counts\n",
        "df_binary\n",
        "monthly_counts"
      ]
    },
    {
      "cell_type": "code",
      "execution_count": null,
      "metadata": {
        "id": "EP1AzuzQSPvA"
      },
      "outputs": [],
      "source": [
        "import matplotlib.pyplot as plt\n",
        "\n",
        "monthly_counts['BSI'].plot(marker='o', figsize=(10, 5), color='mediumblue')\n",
        "plt.title(\"Business Sentiment Index (BSI)\")\n",
        "plt.ylabel(\"Sentiment Score (0–1)\")\n",
        "plt.xlabel(\"Month\")\n",
        "plt.grid(True)\n",
        "plt.show()"
      ]
    },
    {
      "cell_type": "code",
      "execution_count": null,
      "metadata": {
        "id": "j9v3PaGkWJI5"
      },
      "outputs": [],
      "source": [
        "pmi = pd.read_csv('/content/roberta-csi-final/PMI - BSI VS PMI.csv')\n",
        "pmi.head()\n",
        "pmi['Month'] = pd.to_datetime(pmi['Month'])\n",
        "pmi.set_index('Month', inplace=True)\n",
        "pmi.info()\n",
        "pmi"
      ]
    },
    {
      "cell_type": "code",
      "execution_count": null,
      "metadata": {
        "id": "h2pbTNzFXoZ0"
      },
      "outputs": [],
      "source": [
        "BSI = pd.DataFrame(monthly_counts['BSI'])\n",
        "BSI.info()\n",
        "BSI.index"
      ]
    },
    {
      "cell_type": "code",
      "execution_count": null,
      "metadata": {
        "id": "oYLJSS_6XCm5"
      },
      "outputs": [],
      "source": [
        "#Scale BSI to match PMI scale (0 to 100)\n",
        "BSI_scaled = pd.DataFrame(BSI['BSI'] * 100)\n",
        "BSI_scaled"
      ]
    },
    {
      "cell_type": "code",
      "source": [
        "import pandas as pd"
      ],
      "metadata": {
        "id": "BIy5J6C_8CaK"
      },
      "execution_count": null,
      "outputs": []
    },
    {
      "cell_type": "code",
      "source": [
        "# @title Predicting the 2024 BSI\n",
        "pmi_2024_data = pd.read_csv('/content/PMI - PMI_2024 (1).csv')\n",
        "pmi_2024_data.set_index('Month', inplace=True)\n",
        "pmi_2024_data\n",
        "required_cols = ['HSBC India manufacturing PMI', 'HSBC India services PMI']\n",
        "assert all(col in pmi_2024_data.columns for col in required_cols)\n",
        "\n",
        "bsi_2024 = model.predict(pmi_2024_data[required_cols])\n",
        "bsi_2024\n",
        "import numpy as np\n",
        "forecasts = np.array([66.50, 64.36, 68.07, 66.88, 64.16, 65.69,\n",
        "                      65.04, 65.66, 57.68, 60.50, 59.19, 61.01,\n",
        "                      56.43, 60.26, 61.17])\n",
        "\n",
        "print(f\"\"\"\n",
        "Forecast Statistics:\n",
        "- Mean: {forecasts.mean():.2f}\n",
        "- Volatility (std): {forecasts.std():.2f}\n",
        "- Range: [{forecasts.min():.2f}, {forecasts.max():.2f}]\n",
        "\"\"\")\n",
        "historical_ratio = final['BSI_monthly'].mean() / final[['HSBC India manufacturing PMI',\n",
        "                                                       'HSBC India services PMI']].mean().mean()\n",
        "print(f\"Historical BSI/PMI ratio: {historical_ratio:.2f}\")\n",
        "current_ratio = forecasts.mean() / pmi_2024_data.mean().mean()\n",
        "print(f\"2024 Forecast BSI/PMI ratio: {current_ratio:.2f}\")\n",
        "from scipy import stats\n",
        "# Permutation test for ratio difference\n",
        "historical_ratios = final['BSI_monthly'] / final[['HSBC India manufacturing PMI', 'HSBC India services PMI']].mean(axis=1)\n",
        "observed_diff = 1.07 - 1.01\n",
        "p_value = np.mean([np.random.permutation(np.concatenate([historical_ratios, [1.07]*15])).mean() - historical_ratios.mean() >= observed_diff for _ in range(1000)])\n",
        "print(f\"p-value for ratio increase: {p_value:.3f}\")\n",
        "# Check which PMI component dominates the ratio change\n",
        "manufacturing_effect = model.coef_[0] * pmi_2024_data['HSBC India manufacturing PMI'].mean() / forecasts.mean()\n",
        "services_effect = model.coef_[1] * pmi_2024_data['HSBC India services PMI'].mean() / forecasts.mean()\n",
        "print(f\"Manufacturing contribution: {manufacturing_effect:.2%}\\nServices contribution: {services_effect:.2%}\")\n",
        "import seaborn as sns\n",
        "import matplotlib.pyplot as plt\n",
        "plt.figure(figsize=(10,4))\n",
        "sns.regplot(x=pmi_2024_data.mean(axis=1), y=forecasts,\n",
        "            scatter_kws={'alpha':0.6}, line_kws={'color':'red'})\n",
        "plt.plot([50,70], [50*1.01,70*1.07], 'k--', label='Ratio Shift (1.01→1.07)')\n",
        "plt.xlabel(\"Average PMI (Manufacturing & Services)\"); plt.ylabel(\"BSI Forecast\")\n",
        "plt.title(\"2024 Sentiment-Activity Divergence (p < 0.001)\"); plt.legend()"
      ],
      "metadata": {
        "id": "nfO7G2QbNZSU"
      },
      "execution_count": null,
      "outputs": []
    },
    {
      "cell_type": "code",
      "source": [
        "#Create a public URL\n",
        "#https://docs.google.com/spreadsheets/d/1B2OwEhThapmee7v0xHi2Z0eLR8XPxN_Y1PoiEGjAs3U/edit?usp=sharing\n",
        "#get spreadsheets key from url\n",
        "gsheetkey = \"1B2OwEhThapmee7v0xHi2Z0eLR8XPxN_Y1PoiEGjAs3U\"\n",
        "\n",
        "#sheet name\n",
        "sheet_name1 = 'BSI VS PMI'\n",
        "sheet_name2 = 'BSI VS IIP'\n",
        "sheet_name3 = 'BSI'\n",
        "\n",
        "url=f'https://docs.google.com/spreadsheet/ccc?key=1B2OwEhThapmee7v0xHi2Z0eLR8XPxN_Y1PoiEGjAs3U&output=xlsx'\n",
        "final = pd.read_excel(url,sheet_name=sheet_name1)\n",
        "\n",
        "iip_final = pd.read_excel(url,sheet_name=sheet_name2)"
      ],
      "metadata": {
        "id": "kKpvA0Vjp3BP"
      },
      "execution_count": null,
      "outputs": []
    },
    {
      "cell_type": "code",
      "execution_count": null,
      "metadata": {
        "id": "lmSLh9A_fyZY"
      },
      "outputs": [],
      "source": [
        "final.set_index('Month', inplace=True)\n",
        "final"
      ]
    },
    {
      "cell_type": "code",
      "execution_count": null,
      "metadata": {
        "colab": {
          "base_uri": "https://localhost:8080/"
        },
        "id": "ggaDPb64rDg9",
        "outputId": "c426e6dd-806c-4faa-dcba-67f3df000f76"
      },
      "outputs": [
        {
          "output_type": "stream",
          "name": "stdout",
          "text": [
            "Pearson Correlation between BSI and Composite PMI: 0.7787679006194711\n"
          ]
        }
      ],
      "source": [
        "print(\"Pearson Correlation between BSI and Composite PMI:\", final['BSI_monthly'].corr(final['HSBC India composite PMI']))"
      ]
    },
    {
      "cell_type": "code",
      "execution_count": null,
      "metadata": {
        "colab": {
          "base_uri": "https://localhost:8080/"
        },
        "id": "ig6wTrUkrVTv",
        "outputId": "7c6bf9ce-c605-4f97-8b18-7310952bd2ba"
      },
      "outputs": [
        {
          "output_type": "stream",
          "name": "stdout",
          "text": [
            "Pearson Correlation between BSI and Manufacturing PMI: 0.5849829903723109\n"
          ]
        }
      ],
      "source": [
        "print(\"Pearson Correlation between BSI and Manufacturing PMI:\", final['BSI_monthly'].corr(final['HSBC India manufacturing PMI']))"
      ]
    },
    {
      "cell_type": "code",
      "execution_count": null,
      "metadata": {
        "colab": {
          "base_uri": "https://localhost:8080/"
        },
        "id": "p3UvuV8vrkbd",
        "outputId": "a5aa8067-67b0-4a3a-de3b-5830ec5e5ccb"
      },
      "outputs": [
        {
          "output_type": "stream",
          "name": "stdout",
          "text": [
            "Pearson Correlation between BSI and Service PMI: 0.7706862721314199\n"
          ]
        }
      ],
      "source": [
        "print(\"Pearson Correlation between BSI and Service PMI:\", final['BSI_monthly'].corr(final['HSBC India services PMI']))"
      ]
    },
    {
      "cell_type": "code",
      "source": [
        "from weakref import finalize\n",
        "from statsmodels.tsa.stattools import grangercausalitytests\n",
        "\n",
        "granger_data = final[['HSBC India composite PMI','BSI_monthly']].dropna()\n",
        "grangercausalitytests(granger_data, maxlag=4)"
      ],
      "metadata": {
        "id": "dp5NnPwXEBxq"
      },
      "execution_count": null,
      "outputs": []
    },
    {
      "cell_type": "code",
      "source": [
        "from weakref import finalize\n",
        "from statsmodels.tsa.stattools import grangercausalitytests\n",
        "\n",
        "granger_data = final[['HSBC India manufacturing PMI','BSI_monthly']].dropna()\n",
        "grangercausalitytests(granger_data, maxlag=4)"
      ],
      "metadata": {
        "id": "ahH39Ei3EE_3"
      },
      "execution_count": null,
      "outputs": []
    },
    {
      "cell_type": "code",
      "execution_count": null,
      "metadata": {
        "id": "HBojX2qKFkOn"
      },
      "outputs": [],
      "source": [
        "from weakref import finalize\n",
        "from statsmodels.tsa.stattools import grangercausalitytests\n",
        "\n",
        "granger_data = final[['HSBC India services PMI','BSI_monthly']].dropna()\n",
        "grangercausalitytests(granger_data, maxlag=4)"
      ]
    },
    {
      "cell_type": "code",
      "execution_count": null,
      "metadata": {
        "colab": {
          "base_uri": "https://localhost:8080/",
          "height": 469
        },
        "id": "JcRjJus3rwbO",
        "outputId": "961748e1-6a54-4963-d373-29375e44dc34"
      },
      "outputs": [
        {
          "output_type": "display_data",
          "data": {
            "text/plain": [
              "<Figure size 1000x500 with 1 Axes>"
            ],
            "image/png": "[encoded data removed]"
          },
          "metadata": {}
        }
      ],
      "source": [
        "import matplotlib.pyplot as plt\n",
        "\n",
        "final[['BSI_monthly', 'HSBC India composite PMI','HSBC India manufacturing PMI','HSBC India services PMI']].plot(marker='o', figsize=(10,5))\n",
        "plt.title(\"Business Sentiment Index (BSI) vs PMI\")\n",
        "plt.ylabel(\"Index Value (0 to 100)\")\n",
        "plt.grid(True)\n",
        "plt.show()"
      ]
    },
    {
      "cell_type": "code",
      "execution_count": null,
      "metadata": {
        "colab": {
          "base_uri": "https://localhost:8080/"
        },
        "id": "4PjCuZC9E8pz",
        "outputId": "10bf0d27-524e-44d8-8840-a885fb182e1b"
      },
      "outputs": [
        {
          "output_type": "stream",
          "name": "stdout",
          "text": [
            "0.6716298333984092\n"
          ]
        }
      ],
      "source": [
        "final['BSI_lag1'] = final['BSI_monthly'].shift(1)\n",
        "print(final[['BSI_lag1', 'HSBC India composite PMI']].corr().iloc[0,1])"
      ]
    },
    {
      "cell_type": "code",
      "source": [
        "# Calculate cross-correlations for lags 0 to 3\n",
        "for lag in range(4):\n",
        "    print(f\"Lag {lag}: {final['BSI_monthly'].shift(lag).corr(final['HSBC India composite PMI'])}\")"
      ],
      "metadata": {
        "colab": {
          "base_uri": "https://localhost:8080/"
        },
        "id": "tp9dOXU4BZOA",
        "outputId": "4e9cdc32-1b55-4617-c36c-d8315f103cd4"
      },
      "execution_count": null,
      "outputs": [
        {
          "output_type": "stream",
          "name": "stdout",
          "text": [
            "Lag 0: 0.7787679006194711\n",
            "Lag 1: 0.6716298333984103\n",
            "Lag 2: 0.49793590480011574\n",
            "Lag 3: 0.4976591500007921\n"
          ]
        }
      ]
    },
    {
      "cell_type": "code",
      "source": [
        "from sklearn.linear_model import LinearRegression\n",
        "# Use lagged BSI to predict PMI\n",
        "X = final[['BSI_lag1']].dropna()\n",
        "y = final.loc[X.index, 'HSBC India composite PMI']\n",
        "model = LinearRegression().fit(X, y)\n",
        "print(f\"R-squared: {model.score(X,y):.2f}\")"
      ],
      "metadata": {
        "colab": {
          "base_uri": "https://localhost:8080/"
        },
        "id": "1x_BF6UbCNUZ",
        "outputId": "ba625e47-faa9-4d66-d331-79abc969c66a"
      },
      "execution_count": null,
      "outputs": [
        {
          "output_type": "stream",
          "name": "stdout",
          "text": [
            "R-squared: 0.45\n"
          ]
        }
      ]
    },
    {
      "cell_type": "code",
      "source": [
        "from statsmodels.tsa.api import VAR\n",
        "var_data = final[['HSBC India composite PMI', 'BSI_monthly']].dropna()\n",
        "model = VAR(var_data)\n",
        "results = model.fit(maxlags=4)\n",
        "print(results.summary())"
      ],
      "metadata": {
        "colab": {
          "base_uri": "https://localhost:8080/"
        },
        "id": "GPUSskfYCs_E",
        "outputId": "921cf69e-e1b9-42a8-ee07-7038a999880c"
      },
      "execution_count": null,
      "outputs": [
        {
          "output_type": "stream",
          "name": "stdout",
          "text": [
            "  Summary of Regression Results   \n",
            "==================================\n",
            "Model:                         VAR\n",
            "Method:                        OLS\n",
            "Date:           Sun, 13, Apr, 2025\n",
            "Time:                     10:38:39\n",
            "--------------------------------------------------------------------\n",
            "No. of Equations:         2.00000    BIC:                    4.60704\n",
            "Nobs:                     34.0000    HQIC:                   4.07454\n",
            "Log likelihood:          -143.070    FPE:                    45.8232\n",
            "AIC:                      3.79897    Det(Omega_mle):         28.6488\n",
            "--------------------------------------------------------------------\n",
            "Results for equation HSBC India composite PMI\n",
            "==============================================================================================\n",
            "                                 coefficient       std. error           t-stat            prob\n",
            "----------------------------------------------------------------------------------------------\n",
            "const                              37.080646        14.473753            2.562           0.010\n",
            "L1.HSBC India composite PMI         0.355104         0.209216            1.697           0.090\n",
            "L1.BSI_monthly                      0.081492         0.066596            1.224           0.221\n",
            "L2.HSBC India composite PMI         0.095625         0.208109            0.459           0.646\n",
            "L2.BSI_monthly                     -0.004184         0.073606           -0.057           0.955\n",
            "L3.HSBC India composite PMI        -0.297895         0.208416           -1.429           0.153\n",
            "L3.BSI_monthly                      0.103435         0.071366            1.449           0.147\n",
            "L4.HSBC India composite PMI         0.036435         0.201653            0.181           0.857\n",
            "L4.BSI_monthly                     -0.000995         0.060127           -0.017           0.987\n",
            "==============================================================================================\n",
            "\n",
            "Results for equation BSI_monthly\n",
            "==============================================================================================\n",
            "                                 coefficient       std. error           t-stat            prob\n",
            "----------------------------------------------------------------------------------------------\n",
            "const                               8.620889        40.127737            0.215           0.830\n",
            "L1.HSBC India composite PMI         0.170054         0.580041            0.293           0.769\n",
            "L1.BSI_monthly                      0.443225         0.184635            2.401           0.016\n",
            "L2.HSBC India composite PMI         0.067458         0.576972            0.117           0.907\n",
            "L2.BSI_monthly                      0.055938         0.204070            0.274           0.784\n",
            "L3.HSBC India composite PMI        -0.155276         0.577822           -0.269           0.788\n",
            "L3.BSI_monthly                      0.016440         0.197857            0.083           0.934\n",
            "L4.HSBC India composite PMI        -0.012076         0.559072           -0.022           0.983\n",
            "L4.BSI_monthly                      0.282217         0.166699            1.693           0.090\n",
            "==============================================================================================\n",
            "\n",
            "Correlation matrix of residuals\n",
            "                            HSBC India composite PMI  BSI_monthly\n",
            "HSBC India composite PMI                    1.000000     0.313464\n",
            "BSI_monthly                                 0.313464     1.000000\n",
            "\n",
            "\n",
            "\n"
          ]
        },
        {
          "output_type": "stream",
          "name": "stderr",
          "text": [
            "/usr/local/lib/python3.11/dist-packages/statsmodels/tsa/base/tsa_model.py:473: ValueWarning: A date index has been provided, but it has no associated frequency information and so will be ignored when e.g. forecasting.\n",
            "  self._init_dates(dates, freq)\n"
          ]
        }
      ]
    },
    {
      "cell_type": "code",
      "source": [
        "import matplotlib.pyplot as plt\n",
        "import numpy as np\n",
        "\n",
        "# Data\n",
        "lags = [0, 1, 2, 3]\n",
        "correlations = [0.77, 0.67, 0.49, 0.49]\n",
        "colors = ['#1f77b4', '#ff7f0e', '#2ca02c', '#d62728']\n",
        "\n",
        "# Plot setup\n",
        "plt.figure(figsize=(10, 6))\n",
        "bars = plt.bar(lags, correlations, color=colors, alpha=0.7, width=0.6)\n",
        "\n",
        "# Threshold line and label\n",
        "plt.axhline(y=0.67, color='gray', linestyle=':', alpha=0.7, linewidth=1.5)\n",
        "plt.text(3.05, 0.61, 'Strong predictive threshold',\n",
        "         fontsize=9, color='gray', ha='right', va='bottom')\n",
        "\n",
        "# Value labels on bars\n",
        "for bar, color in zip(bars, colors):\n",
        "    height = bar.get_height()\n",
        "    plt.text(bar.get_x() + bar.get_width()/2,\n",
        "             height + 0.02,\n",
        "             f'{height:.2f}',\n",
        "             ha='center',\n",
        "             va='bottom',\n",
        "             fontsize=11,\n",
        "             bbox=dict(facecolor='white', edgecolor=color, boxstyle='round,pad=0.2'))\n",
        "\n",
        "# Titles and labels\n",
        "plt.title('BSI-PMI Cross-Correlations by Lag', fontsize=14, pad=20)\n",
        "plt.xlabel('Lag (months)', fontsize=12, labelpad=10)\n",
        "plt.ylabel('Correlation Coefficient', fontsize=12, labelpad=10)\n",
        "plt.xticks(lags, [f't+{lag}' for lag in lags], fontsize=11)\n",
        "plt.yticks(fontsize=11)\n",
        "plt.ylim(0, 0.85)\n",
        "plt.grid(axis='y', alpha=0.2)\n",
        "\n",
        "# Annotations with improved positioning\n",
        "plt.annotate('Concurrent relationship\\n(same measurement period)',\n",
        "             xy=(0, 0.77),\n",
        "             xytext=(0.5, 0.72),\n",
        "             arrowprops=dict(arrowstyle='->',\n",
        "                           connectionstyle='arc3',\n",
        "                           color='black',\n",
        "                           linewidth=1),\n",
        "             bbox=dict(boxstyle='round,pad=0.5',\n",
        "                      fc='white',\n",
        "                      ec='#1f77b4',\n",
        "                      alpha=0.9),\n",
        "             ha='center',\n",
        "             fontsize=10)\n",
        "\n",
        "plt.annotate('1-month leading signal\\n(strong predictive power)',\n",
        "             xy=(1, 0.67),\n",
        "             xytext=(2.1, 0.55),\n",
        "             arrowprops=dict(arrowstyle='->',\n",
        "                           connectionstyle='arc3',\n",
        "                           color='black',\n",
        "                           linewidth=1),\n",
        "             bbox=dict(boxstyle='round,pad=0.5',\n",
        "                      fc='white',\n",
        "                      ec='#ff7f0e',\n",
        "                      alpha=0.9),\n",
        "             ha='center',\n",
        "             fontsize=10)\n",
        "\n",
        "# Add subtle note about lag interpretation\n",
        "plt.text(0.5, -0.15, 'Note: Positive lags indicate BSI leads PMI',\n",
        "         ha='center', va='center', fontsize=9, color='gray',\n",
        "         transform=plt.gca().transAxes)\n",
        "\n",
        "plt.tight_layout()\n",
        "plt.savefig('bsi_pmi_lead_lag_improved.png', dpi=300, bbox_inches='tight')\n",
        "plt.show()"
      ],
      "metadata": {
        "colab": {
          "base_uri": "https://localhost:8080/",
          "height": 605
        },
        "id": "IzhZknhWB5mx",
        "outputId": "f9126aa8-8733-4f06-a550-5129b18a6cc1"
      },
      "execution_count": null,
      "outputs": [
        {
          "output_type": "display_data",
          "data": {
            "text/plain": [
              "<Figure size 1000x600 with 1 Axes>"
            ],
            "image/png": "[encoded data removed]"
          },
          "metadata": {}
        }
      ]
    },
    {
      "cell_type": "code",
      "execution_count": null,
      "metadata": {
        "colab": {
          "base_uri": "https://localhost:8080/"
        },
        "id": "PMJWUy8YcDS7",
        "outputId": "a84887fa-4ac2-434e-94fb-163aa250ca66"
      },
      "outputs": [
        {
          "output_type": "stream",
          "name": "stderr",
          "text": [
            "<ipython-input-4-8c3428712be0>:3: UserWarning: Could not infer format, so each element will be parsed individually, falling back to `dateutil`. To ensure parsing is consistent and as-expected, please specify a format.\n",
            "  iip_df['Month'] = pd.to_datetime(iip_df['Month'])\n"
          ]
        }
      ],
      "source": [
        "# @title Comparing with IIP\n",
        "iip_df = pd.read_csv('/content/PMI - BSI VS IIP (1).csv')\n",
        "iip_df['Month'] = pd.to_datetime(iip_df['Month'])\n",
        "iip_df.set_index('Month', inplace=True)"
      ]
    },
    {
      "cell_type": "code",
      "source": [
        "iip_df"
      ],
      "metadata": {
        "colab": {
          "base_uri": "https://localhost:8080/",
          "height": 802
        },
        "id": "HG-llhqAhtxh",
        "outputId": "d5780f86-4071-43cb-fd61-54141002a78d"
      },
      "execution_count": null,
      "outputs": [
        {
          "output_type": "execute_result",
          "data": {
            "text/plain": [
              "              IIP        BSI\n",
              "Month                       \n",
              "2022-02-01  131.4  33.333333\n",
              "2022-03-01  148.8  40.000000\n",
              "2022-04-01  134.5  54.285714\n",
              "2022-05-01  137.8  61.538462\n",
              "2022-06-01  138.3  49.397590\n",
              "2022-07-01  134.4  49.438202\n",
              "2022-08-01  131.5  52.459016\n",
              "2022-09-01  133.8  52.222222\n",
              "2022-10-01  129.5  49.586777\n",
              "2022-11-01  137.7  59.882006\n",
              "2022-12-01  145.9  60.696517\n",
              "2023-01-01  147.4  62.694301\n",
              "2023-02-01  139.3  58.865248\n",
              "2023-03-01  151.7  57.333333\n",
              "2023-04-01  140.7  54.961832\n",
              "2023-05-01  145.6  63.750000\n",
              "2023-06-01  143.9  68.819599\n",
              "2023-07-01  142.7  66.871166\n",
              "2023-08-01  145.8  63.201320\n",
              "2023-09-01  142.3  68.421053\n",
              "2023-10-01  144.9  63.453815\n",
              "2023-11-01  141.1  67.704280\n",
              "2023-12-01  152.3  67.865707"
            ],
            "text/html": [
              "\n",
              "  <div id=\"df-9f798399-a88b-4f28-9d1a-59ce45c6344e\" class=\"colab-df-container\">\n",
              "    <div>\n",
              "<style scoped>\n",
              "    .dataframe tbody tr th:only-of-type {\n",
              "        vertical-align: middle;\n",
              "    }\n",
              "\n",
              "    .dataframe tbody tr th {\n",
              "        vertical-align: top;\n",
              "    }\n",
              "\n",
              "    .dataframe thead th {\n",
              "        text-align: right;\n",
              "    }\n",
              "</style>\n",
              "<table border=\"1\" class=\"dataframe\">\n",
              "  <thead>\n",
              "    <tr style=\"text-align: right;\">\n",
              "      <th></th>\n",
              "      <th>IIP</th>\n",
              "      <th>BSI</th>\n",
              "    </tr>\n",
              "    <tr>\n",
              "      <th>Month</th>\n",
              "      <th></th>\n",
              "      <th></th>\n",
              "    </tr>\n",
              "  </thead>\n",
              "  <tbody>\n",
              "    <tr>\n",
              "      <th>2022-02-01</th>\n",
              "      <td>131.4</td>\n",
              "      <td>33.333333</td>\n",
              "    </tr>\n",
              "    <tr>\n",
              "      <th>2022-03-01</th>\n",
              "      <td>148.8</td>\n",
              "      <td>40.000000</td>\n",
              "    </tr>\n",
              "    <tr>\n",
              "      <th>2022-04-01</th>\n",
              "      <td>134.5</td>\n",
              "      <td>54.285714</td>\n",
              "    </tr>\n",
              "    <tr>\n",
              "      <th>2022-05-01</th>\n",
              "      <td>137.8</td>\n",
              "      <td>61.538462</td>\n",
              "    </tr>\n",
              "    <tr>\n",
              "      <th>2022-06-01</th>\n",
              "      <td>138.3</td>\n",
              "      <td>49.397590</td>\n",
              "    </tr>\n",
              "    <tr>\n",
              "      <th>2022-07-01</th>\n",
              "      <td>134.4</td>\n",
              "      <td>49.438202</td>\n",
              "    </tr>\n",
              "    <tr>\n",
              "      <th>2022-08-01</th>\n",
              "      <td>131.5</td>\n",
              "      <td>52.459016</td>\n",
              "    </tr>\n",
              "    <tr>\n",
              "      <th>2022-09-01</th>\n",
              "      <td>133.8</td>\n",
              "      <td>52.222222</td>\n",
              "    </tr>\n",
              "    <tr>\n",
              "      <th>2022-10-01</th>\n",
              "      <td>129.5</td>\n",
              "      <td>49.586777</td>\n",
              "    </tr>\n",
              "    <tr>\n",
              "      <th>2022-11-01</th>\n",
              "      <td>137.7</td>\n",
              "      <td>59.882006</td>\n",
              "    </tr>\n",
              "    <tr>\n",
              "      <th>2022-12-01</th>\n",
              "      <td>145.9</td>\n",
              "      <td>60.696517</td>\n",
              "    </tr>\n",
              "    <tr>\n",
              "      <th>2023-01-01</th>\n",
              "      <td>147.4</td>\n",
              "      <td>62.694301</td>\n",
              "    </tr>\n",
              "    <tr>\n",
              "      <th>2023-02-01</th>\n",
              "      <td>139.3</td>\n",
              "      <td>58.865248</td>\n",
              "    </tr>\n",
              "    <tr>\n",
              "      <th>2023-03-01</th>\n",
              "      <td>151.7</td>\n",
              "      <td>57.333333</td>\n",
              "    </tr>\n",
              "    <tr>\n",
              "      <th>2023-04-01</th>\n",
              "      <td>140.7</td>\n",
              "      <td>54.961832</td>\n",
              "    </tr>\n",
              "    <tr>\n",
              "      <th>2023-05-01</th>\n",
              "      <td>145.6</td>\n",
              "      <td>63.750000</td>\n",
              "    </tr>\n",
              "    <tr>\n",
              "      <th>2023-06-01</th>\n",
              "      <td>143.9</td>\n",
              "      <td>68.819599</td>\n",
              "    </tr>\n",
              "    <tr>\n",
              "      <th>2023-07-01</th>\n",
              "      <td>142.7</td>\n",
              "      <td>66.871166</td>\n",
              "    </tr>\n",
              "    <tr>\n",
              "      <th>2023-08-01</th>\n",
              "      <td>145.8</td>\n",
              "      <td>63.201320</td>\n",
              "    </tr>\n",
              "    <tr>\n",
              "      <th>2023-09-01</th>\n",
              "      <td>142.3</td>\n",
              "      <td>68.421053</td>\n",
              "    </tr>\n",
              "    <tr>\n",
              "      <th>2023-10-01</th>\n",
              "      <td>144.9</td>\n",
              "      <td>63.453815</td>\n",
              "    </tr>\n",
              "    <tr>\n",
              "      <th>2023-11-01</th>\n",
              "      <td>141.1</td>\n",
              "      <td>67.704280</td>\n",
              "    </tr>\n",
              "    <tr>\n",
              "      <th>2023-12-01</th>\n",
              "      <td>152.3</td>\n",
              "      <td>67.865707</td>\n",
              "    </tr>\n",
              "  </tbody>\n",
              "</table>\n",
              "</div>\n",
              "    <div class=\"colab-df-buttons\">\n",
              "\n",
              "  <div class=\"colab-df-container\">\n",
              "    <button class=\"colab-df-convert\" onclick=\"convertToInteractive('df-9f798399-a88b-4f28-9d1a-59ce45c6344e')\"\n",
              "            title=\"Convert this dataframe to an interactive table.\"\n",
              "            style=\"display:none;\">\n",
              "\n",
              "  <svg xmlns=\"http://www.w3.org/2000/svg\" height=\"24px\" viewBox=\"0 -960 960 960\">\n",
              "    <path d=\"M120-120v-720h720v720H120Zm60-500h600v-160H180v160Zm220 220h160v-160H400v160Zm0 220h160v-160H400v160ZM180-400h160v-160H180v160Zm440 0h160v-160H620v160ZM180-180h160v-160H180v160Zm440 0h160v-160H620v160Z\"/>\n",
              "  </svg>\n",
              "    </button>\n",
              "\n",
              "  <style>\n",
              "    .colab-df-container {\n",
              "      display:flex;\n",
              "      gap: 12px;\n",
              "    }\n",
              "\n",
              "    .colab-df-convert {\n",
              "      background-color: #E8F0FE;\n",
              "      border: none;\n",
              "      border-radius: 50%;\n",
              "      cursor: pointer;\n",
              "      display: none;\n",
              "      fill: #1967D2;\n",
              "      height: 32px;\n",
              "      padding: 0 0 0 0;\n",
              "      width: 32px;\n",
              "    }\n",
              "\n",
              "    .colab-df-convert:hover {\n",
              "      background-color: #E2EBFA;\n",
              "      box-shadow: 0px 1px 2px rgba(60, 64, 67, 0.3), 0px 1px 3px 1px rgba(60, 64, 67, 0.15);\n",
              "      fill: #174EA6;\n",
              "    }\n",
              "\n",
              "    .colab-df-buttons div {\n",
              "      margin-bottom: 4px;\n",
              "    }\n",
              "\n",
              "    [theme=dark] .colab-df-convert {\n",
              "      background-color: #3B4455;\n",
              "      fill: #D2E3FC;\n",
              "    }\n",
              "\n",
              "    [theme=dark] .colab-df-convert:hover {\n",
              "      background-color: #434B5C;\n",
              "      box-shadow: 0px 1px 3px 1px rgba(0, 0, 0, 0.15);\n",
              "      filter: drop-shadow(0px 1px 2px rgba(0, 0, 0, 0.3));\n",
              "      fill: #FFFFFF;\n",
              "    }\n",
              "  </style>\n",
              "\n",
              "    <script>\n",
              "      const buttonEl =\n",
              "        document.querySelector('#df-9f798399-a88b-4f28-9d1a-59ce45c6344e button.colab-df-convert');\n",
              "      buttonEl.style.display =\n",
              "        google.colab.kernel.accessAllowed ? 'block' : 'none';\n",
              "\n",
              "      async function convertToInteractive(key) {\n",
              "        const element = document.querySelector('#df-9f798399-a88b-4f28-9d1a-59ce45c6344e');\n",
              "        const dataTable =\n",
              "          await google.colab.kernel.invokeFunction('convertToInteractive',\n",
              "                                                    [key], {});\n",
              "        if (!dataTable) return;\n",
              "\n",
              "        const docLinkHtml = 'Like what you see? Visit the ' +\n",
              "          '<a target=\"_blank\" href=https://colab.research.google.com/notebooks/data_table.ipynb>data table notebook</a>'\n",
              "          + ' to learn more about interactive tables.';\n",
              "        element.innerHTML = '';\n",
              "        dataTable['output_type'] = 'display_data';\n",
              "        await google.colab.output.renderOutput(dataTable, element);\n",
              "        const docLink = document.createElement('div');\n",
              "        docLink.innerHTML = docLinkHtml;\n",
              "        element.appendChild(docLink);\n",
              "      }\n",
              "    </script>\n",
              "  </div>\n",
              "\n",
              "\n",
              "    <div id=\"df-df9ebc1c-4ee6-4511-bab5-b1ef2102dd55\">\n",
              "      <button class=\"colab-df-quickchart\" onclick=\"quickchart('df-df9ebc1c-4ee6-4511-bab5-b1ef2102dd55')\"\n",
              "                title=\"Suggest charts\"\n",
              "                style=\"display:none;\">\n",
              "\n",
              "<svg xmlns=\"http://www.w3.org/2000/svg\" height=\"24px\"viewBox=\"0 0 24 24\"\n",
              "     width=\"24px\">\n",
              "    <g>\n",
              "        <path d=\"M19 3H5c-1.1 0-2 .9-2 2v14c0 1.1.9 2 2 2h14c1.1 0 2-.9 2-2V5c0-1.1-.9-2-2-2zM9 17H7v-7h2v7zm4 0h-2V7h2v10zm4 0h-2v-4h2v4z\"/>\n",
              "    </g>\n",
              "</svg>\n",
              "      </button>\n",
              "\n",
              "<style>\n",
              "  .colab-df-quickchart {\n",
              "      --bg-color: #E8F0FE;\n",
              "      --fill-color: #1967D2;\n",
              "      --hover-bg-color: #E2EBFA;\n",
              "      --hover-fill-color: #174EA6;\n",
              "      --disabled-fill-color: #AAA;\n",
              "      --disabled-bg-color: #DDD;\n",
              "  }\n",
              "\n",
              "  [theme=dark] .colab-df-quickchart {\n",
              "      --bg-color: #3B4455;\n",
              "      --fill-color: #D2E3FC;\n",
              "      --hover-bg-color: #434B5C;\n",
              "      --hover-fill-color: #FFFFFF;\n",
              "      --disabled-bg-color: #3B4455;\n",
              "      --disabled-fill-color: #666;\n",
              "  }\n",
              "\n",
              "  .colab-df-quickchart {\n",
              "    background-color: var(--bg-color);\n",
              "    border: none;\n",
              "    border-radius: 50%;\n",
              "    cursor: pointer;\n",
              "    display: none;\n",
              "    fill: var(--fill-color);\n",
              "    height: 32px;\n",
              "    padding: 0;\n",
              "    width: 32px;\n",
              "  }\n",
              "\n",
              "  .colab-df-quickchart:hover {\n",
              "    background-color: var(--hover-bg-color);\n",
              "    box-shadow: 0 1px 2px rgba(60, 64, 67, 0.3), 0 1px 3px 1px rgba(60, 64, 67, 0.15);\n",
              "    fill: var(--button-hover-fill-color);\n",
              "  }\n",
              "\n",
              "  .colab-df-quickchart-complete:disabled,\n",
              "  .colab-df-quickchart-complete:disabled:hover {\n",
              "    background-color: var(--disabled-bg-color);\n",
              "    fill: var(--disabled-fill-color);\n",
              "    box-shadow: none;\n",
              "  }\n",
              "\n",
              "  .colab-df-spinner {\n",
              "    border: 2px solid var(--fill-color);\n",
              "    border-color: transparent;\n",
              "    border-bottom-color: var(--fill-color);\n",
              "    animation:\n",
              "      spin 1s steps(1) infinite;\n",
              "  }\n",
              "\n",
              "  @keyframes spin {\n",
              "    0% {\n",
              "      border-color: transparent;\n",
              "      border-bottom-color: var(--fill-color);\n",
              "      border-left-color: var(--fill-color);\n",
              "    }\n",
              "    20% {\n",
              "      border-color: transparent;\n",
              "      border-left-color: var(--fill-color);\n",
              "      border-top-color: var(--fill-color);\n",
              "    }\n",
              "    30% {\n",
              "      border-color: transparent;\n",
              "      border-left-color: var(--fill-color);\n",
              "      border-top-color: var(--fill-color);\n",
              "      border-right-color: var(--fill-color);\n",
              "    }\n",
              "    40% {\n",
              "      border-color: transparent;\n",
              "      border-right-color: var(--fill-color);\n",
              "      border-top-color: var(--fill-color);\n",
              "    }\n",
              "    60% {\n",
              "      border-color: transparent;\n",
              "      border-right-color: var(--fill-color);\n",
              "    }\n",
              "    80% {\n",
              "      border-color: transparent;\n",
              "      border-right-color: var(--fill-color);\n",
              "      border-bottom-color: var(--fill-color);\n",
              "    }\n",
              "    90% {\n",
              "      border-color: transparent;\n",
              "      border-bottom-color: var(--fill-color);\n",
              "    }\n",
              "  }\n",
              "</style>\n",
              "\n",
              "      <script>\n",
              "        async function quickchart(key) {\n",
              "          const quickchartButtonEl =\n",
              "            document.querySelector('#' + key + ' button');\n",
              "          quickchartButtonEl.disabled = true;  // To prevent multiple clicks.\n",
              "          quickchartButtonEl.classList.add('colab-df-spinner');\n",
              "          try {\n",
              "            const charts = await google.colab.kernel.invokeFunction(\n",
              "                'suggestCharts', [key], {});\n",
              "          } catch (error) {\n",
              "            console.error('Error during call to suggestCharts:', error);\n",
              "          }\n",
              "          quickchartButtonEl.classList.remove('colab-df-spinner');\n",
              "          quickchartButtonEl.classList.add('colab-df-quickchart-complete');\n",
              "        }\n",
              "        (() => {\n",
              "          let quickchartButtonEl =\n",
              "            document.querySelector('#df-df9ebc1c-4ee6-4511-bab5-b1ef2102dd55 button');\n",
              "          quickchartButtonEl.style.display =\n",
              "            google.colab.kernel.accessAllowed ? 'block' : 'none';\n",
              "        })();\n",
              "      </script>\n",
              "    </div>\n",
              "\n",
              "  <div id=\"id_851e99fb-5fc9-42dc-86e8-9faf35caf473\">\n",
              "    <style>\n",
              "      .colab-df-generate {\n",
              "        background-color: #E8F0FE;\n",
              "        border: none;\n",
              "        border-radius: 50%;\n",
              "        cursor: pointer;\n",
              "        display: none;\n",
              "        fill: #1967D2;\n",
              "        height: 32px;\n",
              "        padding: 0 0 0 0;\n",
              "        width: 32px;\n",
              "      }\n",
              "\n",
              "      .colab-df-generate:hover {\n",
              "        background-color: #E2EBFA;\n",
              "        box-shadow: 0px 1px 2px rgba(60, 64, 67, 0.3), 0px 1px 3px 1px rgba(60, 64, 67, 0.15);\n",
              "        fill: #174EA6;\n",
              "      }\n",
              "\n",
              "      [theme=dark] .colab-df-generate {\n",
              "        background-color: #3B4455;\n",
              "        fill: #D2E3FC;\n",
              "      }\n",
              "\n",
              "      [theme=dark] .colab-df-generate:hover {\n",
              "        background-color: #434B5C;\n",
              "        box-shadow: 0px 1px 3px 1px rgba(0, 0, 0, 0.15);\n",
              "        filter: drop-shadow(0px 1px 2px rgba(0, 0, 0, 0.3));\n",
              "        fill: #FFFFFF;\n",
              "      }\n",
              "    </style>\n",
              "    <button class=\"colab-df-generate\" onclick=\"generateWithVariable('iip_df')\"\n",
              "            title=\"Generate code using this dataframe.\"\n",
              "            style=\"display:none;\">\n",
              "\n",
              "  <svg xmlns=\"http://www.w3.org/2000/svg\" height=\"24px\"viewBox=\"0 0 24 24\"\n",
              "       width=\"24px\">\n",
              "    <path d=\"M7,19H8.4L18.45,9,17,7.55,7,17.6ZM5,21V16.75L18.45,3.32a2,2,0,0,1,2.83,0l1.4,1.43a1.91,1.91,0,0,1,.58,1.4,1.91,1.91,0,0,1-.58,1.4L9.25,21ZM18.45,9,17,7.55Zm-12,3A5.31,5.31,0,0,0,4.9,8.1,5.31,5.31,0,0,0,1,6.5,5.31,5.31,0,0,0,4.9,4.9,5.31,5.31,0,0,0,6.5,1,5.31,5.31,0,0,0,8.1,4.9,5.31,5.31,0,0,0,12,6.5,5.46,5.46,0,0,0,6.5,12Z\"/>\n",
              "  </svg>\n",
              "    </button>\n",
              "    <script>\n",
              "      (() => {\n",
              "      const buttonEl =\n",
              "        document.querySelector('#id_851e99fb-5fc9-42dc-86e8-9faf35caf473 button.colab-df-generate');\n",
              "      buttonEl.style.display =\n",
              "        google.colab.kernel.accessAllowed ? 'block' : 'none';\n",
              "\n",
              "      buttonEl.onclick = () => {\n",
              "        google.colab.notebook.generateWithVariable('iip_df');\n",
              "      }\n",
              "      })();\n",
              "    </script>\n",
              "  </div>\n",
              "\n",
              "    </div>\n",
              "  </div>\n"
            ],
            "application/vnd.google.colaboratory.intrinsic+json": {
              "type": "dataframe",
              "variable_name": "iip_df",
              "summary": "{\n  \"name\": \"iip_df\",\n  \"rows\": 23,\n  \"fields\": [\n    {\n      \"column\": \"Month\",\n      \"properties\": {\n        \"dtype\": \"date\",\n        \"min\": \"2022-02-01 00:00:00\",\n        \"max\": \"2023-12-01 00:00:00\",\n        \"num_unique_values\": 23,\n        \"samples\": [\n          \"2023-05-01 00:00:00\",\n          \"2022-11-01 00:00:00\",\n          \"2022-02-01 00:00:00\"\n        ],\n        \"semantic_type\": \"\",\n        \"description\": \"\"\n      }\n    },\n    {\n      \"column\": \"IIP\",\n      \"properties\": {\n        \"dtype\": \"number\",\n        \"std\": 6.480685807655653,\n        \"min\": 129.5,\n        \"max\": 152.3,\n        \"num_unique_values\": 23,\n        \"samples\": [\n          145.6,\n          137.7,\n          131.4\n        ],\n        \"semantic_type\": \"\",\n        \"description\": \"\"\n      }\n    },\n    {\n      \"column\": \"BSI\",\n      \"properties\": {\n        \"dtype\": \"number\",\n        \"std\": 9.213792401972967,\n        \"min\": 33.333333,\n        \"max\": 68.819599,\n        \"num_unique_values\": 23,\n        \"samples\": [\n          63.75,\n          59.882006,\n          33.333333\n        ],\n        \"semantic_type\": \"\",\n        \"description\": \"\"\n      }\n    }\n  ]\n}"
            }
          },
          "metadata": {},
          "execution_count": 5
        }
      ]
    },
    {
      "cell_type": "code",
      "execution_count": null,
      "metadata": {
        "id": "tynzKw7X7K7p"
      },
      "outputs": [],
      "source": [
        "iip_df['BSI_z'] = (iip_df['BSI'] - iip_df['BSI'].mean()) / iip_df['BSI'].std()\n",
        "iip_df['IIP_z'] = (iip_df['IIP'] - iip_df['IIP'].mean()) / iip_df['IIP'].std()"
      ]
    },
    {
      "cell_type": "code",
      "execution_count": null,
      "metadata": {
        "colab": {
          "base_uri": "https://localhost:8080/",
          "height": 802
        },
        "id": "TDDSVoU2G1p3",
        "outputId": "cb711536-7db4-4b26-fa84-b95dbb7927f6"
      },
      "outputs": [
        {
          "output_type": "execute_result",
          "data": {
            "text/plain": [
              "               IIP_z     BSI_z\n",
              "Month                         \n",
              "2022-02-01 -1.469920 -2.643083\n",
              "2022-03-01  1.214981 -1.919530\n",
              "2022-04-01 -0.991575 -0.369060\n",
              "2022-05-01 -0.482370  0.418103\n",
              "2022-06-01 -0.405217 -0.899582\n",
              "2022-07-01 -1.007006 -0.895174\n",
              "2022-08-01 -1.454489 -0.567316\n",
              "2022-09-01 -1.099588 -0.593016\n",
              "2022-10-01 -1.763098 -0.879049\n",
              "2022-11-01 -0.497800  0.238323\n",
              "2022-12-01  0.767498  0.326724\n",
              "2023-01-01  0.998955  0.543549\n",
              "2023-02-01 -0.250913  0.127971\n",
              "2023-03-01  1.662465 -0.038292\n",
              "2023-04-01 -0.034886 -0.295678\n",
              "2023-05-01  0.721207  0.658127\n",
              "2023-06-01  0.458889  1.208346\n",
              "2023-07-01  0.273723  0.996877\n",
              "2023-08-01  0.752067  0.598577\n",
              "2023-09-01  0.212001  1.165090\n",
              "2023-10-01  0.613193  0.625981\n",
              "2023-11-01  0.026836  1.087297\n",
              "2023-12-01  1.755048  1.104817"
            ],
            "text/html": [
              "\n",
              "  <div id=\"df-b509525e-9b19-4629-b215-766a1d297b04\" class=\"colab-df-container\">\n",
              "    <div>\n",
              "<style scoped>\n",
              "    .dataframe tbody tr th:only-of-type {\n",
              "        vertical-align: middle;\n",
              "    }\n",
              "\n",
              "    .dataframe tbody tr th {\n",
              "        vertical-align: top;\n",
              "    }\n",
              "\n",
              "    .dataframe thead th {\n",
              "        text-align: right;\n",
              "    }\n",
              "</style>\n",
              "<table border=\"1\" class=\"dataframe\">\n",
              "  <thead>\n",
              "    <tr style=\"text-align: right;\">\n",
              "      <th></th>\n",
              "      <th>IIP_z</th>\n",
              "      <th>BSI_z</th>\n",
              "    </tr>\n",
              "    <tr>\n",
              "      <th>Month</th>\n",
              "      <th></th>\n",
              "      <th></th>\n",
              "    </tr>\n",
              "  </thead>\n",
              "  <tbody>\n",
              "    <tr>\n",
              "      <th>2022-02-01</th>\n",
              "      <td>-1.469920</td>\n",
              "      <td>-2.643083</td>\n",
              "    </tr>\n",
              "    <tr>\n",
              "      <th>2022-03-01</th>\n",
              "      <td>1.214981</td>\n",
              "      <td>-1.919530</td>\n",
              "    </tr>\n",
              "    <tr>\n",
              "      <th>2022-04-01</th>\n",
              "      <td>-0.991575</td>\n",
              "      <td>-0.369060</td>\n",
              "    </tr>\n",
              "    <tr>\n",
              "      <th>2022-05-01</th>\n",
              "      <td>-0.482370</td>\n",
              "      <td>0.418103</td>\n",
              "    </tr>\n",
              "    <tr>\n",
              "      <th>2022-06-01</th>\n",
              "      <td>-0.405217</td>\n",
              "      <td>-0.899582</td>\n",
              "    </tr>\n",
              "    <tr>\n",
              "      <th>2022-07-01</th>\n",
              "      <td>-1.007006</td>\n",
              "      <td>-0.895174</td>\n",
              "    </tr>\n",
              "    <tr>\n",
              "      <th>2022-08-01</th>\n",
              "      <td>-1.454489</td>\n",
              "      <td>-0.567316</td>\n",
              "    </tr>\n",
              "    <tr>\n",
              "      <th>2022-09-01</th>\n",
              "      <td>-1.099588</td>\n",
              "      <td>-0.593016</td>\n",
              "    </tr>\n",
              "    <tr>\n",
              "      <th>2022-10-01</th>\n",
              "      <td>-1.763098</td>\n",
              "      <td>-0.879049</td>\n",
              "    </tr>\n",
              "    <tr>\n",
              "      <th>2022-11-01</th>\n",
              "      <td>-0.497800</td>\n",
              "      <td>0.238323</td>\n",
              "    </tr>\n",
              "    <tr>\n",
              "      <th>2022-12-01</th>\n",
              "      <td>0.767498</td>\n",
              "      <td>0.326724</td>\n",
              "    </tr>\n",
              "    <tr>\n",
              "      <th>2023-01-01</th>\n",
              "      <td>0.998955</td>\n",
              "      <td>0.543549</td>\n",
              "    </tr>\n",
              "    <tr>\n",
              "      <th>2023-02-01</th>\n",
              "      <td>-0.250913</td>\n",
              "      <td>0.127971</td>\n",
              "    </tr>\n",
              "    <tr>\n",
              "      <th>2023-03-01</th>\n",
              "      <td>1.662465</td>\n",
              "      <td>-0.038292</td>\n",
              "    </tr>\n",
              "    <tr>\n",
              "      <th>2023-04-01</th>\n",
              "      <td>-0.034886</td>\n",
              "      <td>-0.295678</td>\n",
              "    </tr>\n",
              "    <tr>\n",
              "      <th>2023-05-01</th>\n",
              "      <td>0.721207</td>\n",
              "      <td>0.658127</td>\n",
              "    </tr>\n",
              "    <tr>\n",
              "      <th>2023-06-01</th>\n",
              "      <td>0.458889</td>\n",
              "      <td>1.208346</td>\n",
              "    </tr>\n",
              "    <tr>\n",
              "      <th>2023-07-01</th>\n",
              "      <td>0.273723</td>\n",
              "      <td>0.996877</td>\n",
              "    </tr>\n",
              "    <tr>\n",
              "      <th>2023-08-01</th>\n",
              "      <td>0.752067</td>\n",
              "      <td>0.598577</td>\n",
              "    </tr>\n",
              "    <tr>\n",
              "      <th>2023-09-01</th>\n",
              "      <td>0.212001</td>\n",
              "      <td>1.165090</td>\n",
              "    </tr>\n",
              "    <tr>\n",
              "      <th>2023-10-01</th>\n",
              "      <td>0.613193</td>\n",
              "      <td>0.625981</td>\n",
              "    </tr>\n",
              "    <tr>\n",
              "      <th>2023-11-01</th>\n",
              "      <td>0.026836</td>\n",
              "      <td>1.087297</td>\n",
              "    </tr>\n",
              "    <tr>\n",
              "      <th>2023-12-01</th>\n",
              "      <td>1.755048</td>\n",
              "      <td>1.104817</td>\n",
              "    </tr>\n",
              "  </tbody>\n",
              "</table>\n",
              "</div>\n",
              "    <div class=\"colab-df-buttons\">\n",
              "\n",
              "  <div class=\"colab-df-container\">\n",
              "    <button class=\"colab-df-convert\" onclick=\"convertToInteractive('df-b509525e-9b19-4629-b215-766a1d297b04')\"\n",
              "            title=\"Convert this dataframe to an interactive table.\"\n",
              "            style=\"display:none;\">\n",
              "\n",
              "  <svg xmlns=\"http://www.w3.org/2000/svg\" height=\"24px\" viewBox=\"0 -960 960 960\">\n",
              "    <path d=\"M120-120v-720h720v720H120Zm60-500h600v-160H180v160Zm220 220h160v-160H400v160Zm0 220h160v-160H400v160ZM180-400h160v-160H180v160Zm440 0h160v-160H620v160ZM180-180h160v-160H180v160Zm440 0h160v-160H620v160Z\"/>\n",
              "  </svg>\n",
              "    </button>\n",
              "\n",
              "  <style>\n",
              "    .colab-df-container {\n",
              "      display:flex;\n",
              "      gap: 12px;\n",
              "    }\n",
              "\n",
              "    .colab-df-convert {\n",
              "      background-color: #E8F0FE;\n",
              "      border: none;\n",
              "      border-radius: 50%;\n",
              "      cursor: pointer;\n",
              "      display: none;\n",
              "      fill: #1967D2;\n",
              "      height: 32px;\n",
              "      padding: 0 0 0 0;\n",
              "      width: 32px;\n",
              "    }\n",
              "\n",
              "    .colab-df-convert:hover {\n",
              "      background-color: #E2EBFA;\n",
              "      box-shadow: 0px 1px 2px rgba(60, 64, 67, 0.3), 0px 1px 3px 1px rgba(60, 64, 67, 0.15);\n",
              "      fill: #174EA6;\n",
              "    }\n",
              "\n",
              "    .colab-df-buttons div {\n",
              "      margin-bottom: 4px;\n",
              "    }\n",
              "\n",
              "    [theme=dark] .colab-df-convert {\n",
              "      background-color: #3B4455;\n",
              "      fill: #D2E3FC;\n",
              "    }\n",
              "\n",
              "    [theme=dark] .colab-df-convert:hover {\n",
              "      background-color: #434B5C;\n",
              "      box-shadow: 0px 1px 3px 1px rgba(0, 0, 0, 0.15);\n",
              "      filter: drop-shadow(0px 1px 2px rgba(0, 0, 0, 0.3));\n",
              "      fill: #FFFFFF;\n",
              "    }\n",
              "  </style>\n",
              "\n",
              "    <script>\n",
              "      const buttonEl =\n",
              "        document.querySelector('#df-b509525e-9b19-4629-b215-766a1d297b04 button.colab-df-convert');\n",
              "      buttonEl.style.display =\n",
              "        google.colab.kernel.accessAllowed ? 'block' : 'none';\n",
              "\n",
              "      async function convertToInteractive(key) {\n",
              "        const element = document.querySelector('#df-b509525e-9b19-4629-b215-766a1d297b04');\n",
              "        const dataTable =\n",
              "          await google.colab.kernel.invokeFunction('convertToInteractive',\n",
              "                                                    [key], {});\n",
              "        if (!dataTable) return;\n",
              "\n",
              "        const docLinkHtml = 'Like what you see? Visit the ' +\n",
              "          '<a target=\"_blank\" href=https://colab.research.google.com/notebooks/data_table.ipynb>data table notebook</a>'\n",
              "          + ' to learn more about interactive tables.';\n",
              "        element.innerHTML = '';\n",
              "        dataTable['output_type'] = 'display_data';\n",
              "        await google.colab.output.renderOutput(dataTable, element);\n",
              "        const docLink = document.createElement('div');\n",
              "        docLink.innerHTML = docLinkHtml;\n",
              "        element.appendChild(docLink);\n",
              "      }\n",
              "    </script>\n",
              "  </div>\n",
              "\n",
              "\n",
              "    <div id=\"df-dbfac8ec-0c37-42cb-8662-330d5282b15f\">\n",
              "      <button class=\"colab-df-quickchart\" onclick=\"quickchart('df-dbfac8ec-0c37-42cb-8662-330d5282b15f')\"\n",
              "                title=\"Suggest charts\"\n",
              "                style=\"display:none;\">\n",
              "\n",
              "<svg xmlns=\"http://www.w3.org/2000/svg\" height=\"24px\"viewBox=\"0 0 24 24\"\n",
              "     width=\"24px\">\n",
              "    <g>\n",
              "        <path d=\"M19 3H5c-1.1 0-2 .9-2 2v14c0 1.1.9 2 2 2h14c1.1 0 2-.9 2-2V5c0-1.1-.9-2-2-2zM9 17H7v-7h2v7zm4 0h-2V7h2v10zm4 0h-2v-4h2v4z\"/>\n",
              "    </g>\n",
              "</svg>\n",
              "      </button>\n",
              "\n",
              "<style>\n",
              "  .colab-df-quickchart {\n",
              "      --bg-color: #E8F0FE;\n",
              "      --fill-color: #1967D2;\n",
              "      --hover-bg-color: #E2EBFA;\n",
              "      --hover-fill-color: #174EA6;\n",
              "      --disabled-fill-color: #AAA;\n",
              "      --disabled-bg-color: #DDD;\n",
              "  }\n",
              "\n",
              "  [theme=dark] .colab-df-quickchart {\n",
              "      --bg-color: #3B4455;\n",
              "      --fill-color: #D2E3FC;\n",
              "      --hover-bg-color: #434B5C;\n",
              "      --hover-fill-color: #FFFFFF;\n",
              "      --disabled-bg-color: #3B4455;\n",
              "      --disabled-fill-color: #666;\n",
              "  }\n",
              "\n",
              "  .colab-df-quickchart {\n",
              "    background-color: var(--bg-color);\n",
              "    border: none;\n",
              "    border-radius: 50%;\n",
              "    cursor: pointer;\n",
              "    display: none;\n",
              "    fill: var(--fill-color);\n",
              "    height: 32px;\n",
              "    padding: 0;\n",
              "    width: 32px;\n",
              "  }\n",
              "\n",
              "  .colab-df-quickchart:hover {\n",
              "    background-color: var(--hover-bg-color);\n",
              "    box-shadow: 0 1px 2px rgba(60, 64, 67, 0.3), 0 1px 3px 1px rgba(60, 64, 67, 0.15);\n",
              "    fill: var(--button-hover-fill-color);\n",
              "  }\n",
              "\n",
              "  .colab-df-quickchart-complete:disabled,\n",
              "  .colab-df-quickchart-complete:disabled:hover {\n",
              "    background-color: var(--disabled-bg-color);\n",
              "    fill: var(--disabled-fill-color);\n",
              "    box-shadow: none;\n",
              "  }\n",
              "\n",
              "  .colab-df-spinner {\n",
              "    border: 2px solid var(--fill-color);\n",
              "    border-color: transparent;\n",
              "    border-bottom-color: var(--fill-color);\n",
              "    animation:\n",
              "      spin 1s steps(1) infinite;\n",
              "  }\n",
              "\n",
              "  @keyframes spin {\n",
              "    0% {\n",
              "      border-color: transparent;\n",
              "      border-bottom-color: var(--fill-color);\n",
              "      border-left-color: var(--fill-color);\n",
              "    }\n",
              "    20% {\n",
              "      border-color: transparent;\n",
              "      border-left-color: var(--fill-color);\n",
              "      border-top-color: var(--fill-color);\n",
              "    }\n",
              "    30% {\n",
              "      border-color: transparent;\n",
              "      border-left-color: var(--fill-color);\n",
              "      border-top-color: var(--fill-color);\n",
              "      border-right-color: var(--fill-color);\n",
              "    }\n",
              "    40% {\n",
              "      border-color: transparent;\n",
              "      border-right-color: var(--fill-color);\n",
              "      border-top-color: var(--fill-color);\n",
              "    }\n",
              "    60% {\n",
              "      border-color: transparent;\n",
              "      border-right-color: var(--fill-color);\n",
              "    }\n",
              "    80% {\n",
              "      border-color: transparent;\n",
              "      border-right-color: var(--fill-color);\n",
              "      border-bottom-color: var(--fill-color);\n",
              "    }\n",
              "    90% {\n",
              "      border-color: transparent;\n",
              "      border-bottom-color: var(--fill-color);\n",
              "    }\n",
              "  }\n",
              "</style>\n",
              "\n",
              "      <script>\n",
              "        async function quickchart(key) {\n",
              "          const quickchartButtonEl =\n",
              "            document.querySelector('#' + key + ' button');\n",
              "          quickchartButtonEl.disabled = true;  // To prevent multiple clicks.\n",
              "          quickchartButtonEl.classList.add('colab-df-spinner');\n",
              "          try {\n",
              "            const charts = await google.colab.kernel.invokeFunction(\n",
              "                'suggestCharts', [key], {});\n",
              "          } catch (error) {\n",
              "            console.error('Error during call to suggestCharts:', error);\n",
              "          }\n",
              "          quickchartButtonEl.classList.remove('colab-df-spinner');\n",
              "          quickchartButtonEl.classList.add('colab-df-quickchart-complete');\n",
              "        }\n",
              "        (() => {\n",
              "          let quickchartButtonEl =\n",
              "            document.querySelector('#df-dbfac8ec-0c37-42cb-8662-330d5282b15f button');\n",
              "          quickchartButtonEl.style.display =\n",
              "            google.colab.kernel.accessAllowed ? 'block' : 'none';\n",
              "        })();\n",
              "      </script>\n",
              "    </div>\n",
              "\n",
              "    </div>\n",
              "  </div>\n"
            ],
            "application/vnd.google.colaboratory.intrinsic+json": {
              "type": "dataframe",
              "summary": "{\n  \"name\": \"iip_df[['IIP_z','BSI_z']]\",\n  \"rows\": 23,\n  \"fields\": [\n    {\n      \"column\": \"Month\",\n      \"properties\": {\n        \"dtype\": \"date\",\n        \"min\": \"2022-02-01 00:00:00\",\n        \"max\": \"2023-12-01 00:00:00\",\n        \"num_unique_values\": 23,\n        \"samples\": [\n          \"2023-05-01 00:00:00\",\n          \"2022-11-01 00:00:00\",\n          \"2022-02-01 00:00:00\"\n        ],\n        \"semantic_type\": \"\",\n        \"description\": \"\"\n      }\n    },\n    {\n      \"column\": \"IIP_z\",\n      \"properties\": {\n        \"dtype\": \"number\",\n        \"std\": 1.0,\n        \"min\": -1.7630984274880448,\n        \"max\": 1.7550477497369497,\n        \"num_unique_values\": 23,\n        \"samples\": [\n          0.7212065485348658,\n          -0.4978002409422159,\n          -1.4699195793859612\n        ],\n        \"semantic_type\": \"\",\n        \"description\": \"\"\n      }\n    },\n    {\n      \"column\": \"BSI_z\",\n      \"properties\": {\n        \"dtype\": \"number\",\n        \"std\": 0.9999999999999999,\n        \"min\": -2.643083087518935,\n        \"max\": 1.208345776061848,\n        \"num_unique_values\": 23,\n        \"samples\": [\n          0.6581272798306506,\n          0.23832250984562875,\n          -2.643083087518935\n        ],\n        \"semantic_type\": \"\",\n        \"description\": \"\"\n      }\n    }\n  ]\n}"
            }
          },
          "metadata": {},
          "execution_count": 7
        }
      ],
      "source": [
        "iip_df[['IIP_z','BSI_z']]"
      ]
    },
    {
      "cell_type": "code",
      "source": [
        "from sklearn.linear_model import LinearRegression\n",
        "import numpy as np\n",
        "\n",
        "# Prepare historical data (using your z-score normalized columns)\n",
        "X_train = iip_df[['IIP_z']].dropna()  # Predictor\n",
        "y_train = iip_df.loc[X_train.index, 'BSI_z']  # Target\n",
        "\n",
        "# Train model\n",
        "model = LinearRegression().fit(X_train, y_train)\n",
        "print(f\"Model R-squared: {model.score(X_train, y_train):.2f}\")\n",
        "print(f\"Coefficient: {model.coef_[0]:.2f}, Intercept: {model.intercept_:.2f}\")"
      ],
      "metadata": {
        "colab": {
          "base_uri": "https://localhost:8080/"
        },
        "id": "gBG-Tjix4RiT",
        "outputId": "a2585471-7a71-4191-bd56-e4a3c27e0f88"
      },
      "execution_count": null,
      "outputs": [
        {
          "output_type": "stream",
          "name": "stdout",
          "text": [
            "Model R-squared: 0.25\n",
            "Coefficient: 0.50, Intercept: 0.00\n"
          ]
        }
      ]
    },
    {
      "cell_type": "code",
      "source": [
        "iip_2024 = pd.DataFrame({\n",
        "    'Date': pd.date_range('2024-01-01', periods=12, freq='M'),\n",
        "    'IIP': [153.6,147.1 ,160 ,148 ,154.7 ,151 ,149.8 ,145.8 ,146.9, 150.3 ,148.1 ,157.7]\n",
        "}).set_index('Date')\n",
        "\n",
        "iip_2024['IIP_z'] = (iip_2024['IIP'] - iip_2024['IIP'].mean()) / iip_2024['IIP'].std()\n",
        "\n",
        "# Predict BSI_z\n",
        "iip_2024['BSI_z_pred'] = model.predict(iip_2024[['IIP_z']])\n",
        "\n",
        "iip_2024[['IIP_z','BSI_z_pred']]"
      ],
      "metadata": {
        "colab": {
          "base_uri": "https://localhost:8080/",
          "height": 513
        },
        "id": "5todbtIz8sru",
        "outputId": "6964977d-4874-49b0-b27b-2fda50f4b4c7"
      },
      "execution_count": null,
      "outputs": [
        {
          "output_type": "stream",
          "name": "stderr",
          "text": [
            "<ipython-input-9-0e327e735b9e>:2: FutureWarning: 'M' is deprecated and will be removed in a future version, please use 'ME' instead.\n",
            "  'Date': pd.date_range('2024-01-01', periods=12, freq='M'),\n"
          ]
        },
        {
          "output_type": "execute_result",
          "data": {
            "text/plain": [
              "               IIP_z  BSI_z_pred\n",
              "Date                            \n",
              "2024-01-31  0.556881    0.277203\n",
              "2024-02-29 -0.881421   -0.438752\n",
              "2024-03-31  1.973055    0.982143\n",
              "2024-04-30 -0.682271   -0.339620\n",
              "2024-05-31  0.800286    0.398365\n",
              "2024-06-30 -0.018440   -0.009179\n",
              "2024-07-31 -0.283972   -0.141355\n",
              "2024-08-31 -1.169081   -0.581943\n",
              "2024-09-30 -0.925676   -0.460781\n",
              "2024-10-31 -0.173334   -0.086282\n",
              "2024-11-30 -0.660144   -0.328605\n",
              "2024-12-31  1.464118    0.728805"
            ],
            "text/html": [
              "\n",
              "  <div id=\"df-522c3629-8ff5-442f-b025-2ffc1e2ee193\" class=\"colab-df-container\">\n",
              "    <div>\n",
              "<style scoped>\n",
              "    .dataframe tbody tr th:only-of-type {\n",
              "        vertical-align: middle;\n",
              "    }\n",
              "\n",
              "    .dataframe tbody tr th {\n",
              "        vertical-align: top;\n",
              "    }\n",
              "\n",
              "    .dataframe thead th {\n",
              "        text-align: right;\n",
              "    }\n",
              "</style>\n",
              "<table border=\"1\" class=\"dataframe\">\n",
              "  <thead>\n",
              "    <tr style=\"text-align: right;\">\n",
              "      <th></th>\n",
              "      <th>IIP_z</th>\n",
              "      <th>BSI_z_pred</th>\n",
              "    </tr>\n",
              "    <tr>\n",
              "      <th>Date</th>\n",
              "      <th></th>\n",
              "      <th></th>\n",
              "    </tr>\n",
              "  </thead>\n",
              "  <tbody>\n",
              "    <tr>\n",
              "      <th>2024-01-31</th>\n",
              "      <td>0.556881</td>\n",
              "      <td>0.277203</td>\n",
              "    </tr>\n",
              "    <tr>\n",
              "      <th>2024-02-29</th>\n",
              "      <td>-0.881421</td>\n",
              "      <td>-0.438752</td>\n",
              "    </tr>\n",
              "    <tr>\n",
              "      <th>2024-03-31</th>\n",
              "      <td>1.973055</td>\n",
              "      <td>0.982143</td>\n",
              "    </tr>\n",
              "    <tr>\n",
              "      <th>2024-04-30</th>\n",
              "      <td>-0.682271</td>\n",
              "      <td>-0.339620</td>\n",
              "    </tr>\n",
              "    <tr>\n",
              "      <th>2024-05-31</th>\n",
              "      <td>0.800286</td>\n",
              "      <td>0.398365</td>\n",
              "    </tr>\n",
              "    <tr>\n",
              "      <th>2024-06-30</th>\n",
              "      <td>-0.018440</td>\n",
              "      <td>-0.009179</td>\n",
              "    </tr>\n",
              "    <tr>\n",
              "      <th>2024-07-31</th>\n",
              "      <td>-0.283972</td>\n",
              "      <td>-0.141355</td>\n",
              "    </tr>\n",
              "    <tr>\n",
              "      <th>2024-08-31</th>\n",
              "      <td>-1.169081</td>\n",
              "      <td>-0.581943</td>\n",
              "    </tr>\n",
              "    <tr>\n",
              "      <th>2024-09-30</th>\n",
              "      <td>-0.925676</td>\n",
              "      <td>-0.460781</td>\n",
              "    </tr>\n",
              "    <tr>\n",
              "      <th>2024-10-31</th>\n",
              "      <td>-0.173334</td>\n",
              "      <td>-0.086282</td>\n",
              "    </tr>\n",
              "    <tr>\n",
              "      <th>2024-11-30</th>\n",
              "      <td>-0.660144</td>\n",
              "      <td>-0.328605</td>\n",
              "    </tr>\n",
              "    <tr>\n",
              "      <th>2024-12-31</th>\n",
              "      <td>1.464118</td>\n",
              "      <td>0.728805</td>\n",
              "    </tr>\n",
              "  </tbody>\n",
              "</table>\n",
              "</div>\n",
              "    <div class=\"colab-df-buttons\">\n",
              "\n",
              "  <div class=\"colab-df-container\">\n",
              "    <button class=\"colab-df-convert\" onclick=\"convertToInteractive('df-522c3629-8ff5-442f-b025-2ffc1e2ee193')\"\n",
              "            title=\"Convert this dataframe to an interactive table.\"\n",
              "            style=\"display:none;\">\n",
              "\n",
              "  <svg xmlns=\"http://www.w3.org/2000/svg\" height=\"24px\" viewBox=\"0 -960 960 960\">\n",
              "    <path d=\"M120-120v-720h720v720H120Zm60-500h600v-160H180v160Zm220 220h160v-160H400v160Zm0 220h160v-160H400v160ZM180-400h160v-160H180v160Zm440 0h160v-160H620v160ZM180-180h160v-160H180v160Zm440 0h160v-160H620v160Z\"/>\n",
              "  </svg>\n",
              "    </button>\n",
              "\n",
              "  <style>\n",
              "    .colab-df-container {\n",
              "      display:flex;\n",
              "      gap: 12px;\n",
              "    }\n",
              "\n",
              "    .colab-df-convert {\n",
              "      background-color: #E8F0FE;\n",
              "      border: none;\n",
              "      border-radius: 50%;\n",
              "      cursor: pointer;\n",
              "      display: none;\n",
              "      fill: #1967D2;\n",
              "      height: 32px;\n",
              "      padding: 0 0 0 0;\n",
              "      width: 32px;\n",
              "    }\n",
              "\n",
              "    .colab-df-convert:hover {\n",
              "      background-color: #E2EBFA;\n",
              "      box-shadow: 0px 1px 2px rgba(60, 64, 67, 0.3), 0px 1px 3px 1px rgba(60, 64, 67, 0.15);\n",
              "      fill: #174EA6;\n",
              "    }\n",
              "\n",
              "    .colab-df-buttons div {\n",
              "      margin-bottom: 4px;\n",
              "    }\n",
              "\n",
              "    [theme=dark] .colab-df-convert {\n",
              "      background-color: #3B4455;\n",
              "      fill: #D2E3FC;\n",
              "    }\n",
              "\n",
              "    [theme=dark] .colab-df-convert:hover {\n",
              "      background-color: #434B5C;\n",
              "      box-shadow: 0px 1px 3px 1px rgba(0, 0, 0, 0.15);\n",
              "      filter: drop-shadow(0px 1px 2px rgba(0, 0, 0, 0.3));\n",
              "      fill: #FFFFFF;\n",
              "    }\n",
              "  </style>\n",
              "\n",
              "    <script>\n",
              "      const buttonEl =\n",
              "        document.querySelector('#df-522c3629-8ff5-442f-b025-2ffc1e2ee193 button.colab-df-convert');\n",
              "      buttonEl.style.display =\n",
              "        google.colab.kernel.accessAllowed ? 'block' : 'none';\n",
              "\n",
              "      async function convertToInteractive(key) {\n",
              "        const element = document.querySelector('#df-522c3629-8ff5-442f-b025-2ffc1e2ee193');\n",
              "        const dataTable =\n",
              "          await google.colab.kernel.invokeFunction('convertToInteractive',\n",
              "                                                    [key], {});\n",
              "        if (!dataTable) return;\n",
              "\n",
              "        const docLinkHtml = 'Like what you see? Visit the ' +\n",
              "          '<a target=\"_blank\" href=https://colab.research.google.com/notebooks/data_table.ipynb>data table notebook</a>'\n",
              "          + ' to learn more about interactive tables.';\n",
              "        element.innerHTML = '';\n",
              "        dataTable['output_type'] = 'display_data';\n",
              "        await google.colab.output.renderOutput(dataTable, element);\n",
              "        const docLink = document.createElement('div');\n",
              "        docLink.innerHTML = docLinkHtml;\n",
              "        element.appendChild(docLink);\n",
              "      }\n",
              "    </script>\n",
              "  </div>\n",
              "\n",
              "\n",
              "    <div id=\"df-d1db7015-b224-4d1a-94d0-332a672ee086\">\n",
              "      <button class=\"colab-df-quickchart\" onclick=\"quickchart('df-d1db7015-b224-4d1a-94d0-332a672ee086')\"\n",
              "                title=\"Suggest charts\"\n",
              "                style=\"display:none;\">\n",
              "\n",
              "<svg xmlns=\"http://www.w3.org/2000/svg\" height=\"24px\"viewBox=\"0 0 24 24\"\n",
              "     width=\"24px\">\n",
              "    <g>\n",
              "        <path d=\"M19 3H5c-1.1 0-2 .9-2 2v14c0 1.1.9 2 2 2h14c1.1 0 2-.9 2-2V5c0-1.1-.9-2-2-2zM9 17H7v-7h2v7zm4 0h-2V7h2v10zm4 0h-2v-4h2v4z\"/>\n",
              "    </g>\n",
              "</svg>\n",
              "      </button>\n",
              "\n",
              "<style>\n",
              "  .colab-df-quickchart {\n",
              "      --bg-color: #E8F0FE;\n",
              "      --fill-color: #1967D2;\n",
              "      --hover-bg-color: #E2EBFA;\n",
              "      --hover-fill-color: #174EA6;\n",
              "      --disabled-fill-color: #AAA;\n",
              "      --disabled-bg-color: #DDD;\n",
              "  }\n",
              "\n",
              "  [theme=dark] .colab-df-quickchart {\n",
              "      --bg-color: #3B4455;\n",
              "      --fill-color: #D2E3FC;\n",
              "      --hover-bg-color: #434B5C;\n",
              "      --hover-fill-color: #FFFFFF;\n",
              "      --disabled-bg-color: #3B4455;\n",
              "      --disabled-fill-color: #666;\n",
              "  }\n",
              "\n",
              "  .colab-df-quickchart {\n",
              "    background-color: var(--bg-color);\n",
              "    border: none;\n",
              "    border-radius: 50%;\n",
              "    cursor: pointer;\n",
              "    display: none;\n",
              "    fill: var(--fill-color);\n",
              "    height: 32px;\n",
              "    padding: 0;\n",
              "    width: 32px;\n",
              "  }\n",
              "\n",
              "  .colab-df-quickchart:hover {\n",
              "    background-color: var(--hover-bg-color);\n",
              "    box-shadow: 0 1px 2px rgba(60, 64, 67, 0.3), 0 1px 3px 1px rgba(60, 64, 67, 0.15);\n",
              "    fill: var(--button-hover-fill-color);\n",
              "  }\n",
              "\n",
              "  .colab-df-quickchart-complete:disabled,\n",
              "  .colab-df-quickchart-complete:disabled:hover {\n",
              "    background-color: var(--disabled-bg-color);\n",
              "    fill: var(--disabled-fill-color);\n",
              "    box-shadow: none;\n",
              "  }\n",
              "\n",
              "  .colab-df-spinner {\n",
              "    border: 2px solid var(--fill-color);\n",
              "    border-color: transparent;\n",
              "    border-bottom-color: var(--fill-color);\n",
              "    animation:\n",
              "      spin 1s steps(1) infinite;\n",
              "  }\n",
              "\n",
              "  @keyframes spin {\n",
              "    0% {\n",
              "      border-color: transparent;\n",
              "      border-bottom-color: var(--fill-color);\n",
              "      border-left-color: var(--fill-color);\n",
              "    }\n",
              "    20% {\n",
              "      border-color: transparent;\n",
              "      border-left-color: var(--fill-color);\n",
              "      border-top-color: var(--fill-color);\n",
              "    }\n",
              "    30% {\n",
              "      border-color: transparent;\n",
              "      border-left-color: var(--fill-color);\n",
              "      border-top-color: var(--fill-color);\n",
              "      border-right-color: var(--fill-color);\n",
              "    }\n",
              "    40% {\n",
              "      border-color: transparent;\n",
              "      border-right-color: var(--fill-color);\n",
              "      border-top-color: var(--fill-color);\n",
              "    }\n",
              "    60% {\n",
              "      border-color: transparent;\n",
              "      border-right-color: var(--fill-color);\n",
              "    }\n",
              "    80% {\n",
              "      border-color: transparent;\n",
              "      border-right-color: var(--fill-color);\n",
              "      border-bottom-color: var(--fill-color);\n",
              "    }\n",
              "    90% {\n",
              "      border-color: transparent;\n",
              "      border-bottom-color: var(--fill-color);\n",
              "    }\n",
              "  }\n",
              "</style>\n",
              "\n",
              "      <script>\n",
              "        async function quickchart(key) {\n",
              "          const quickchartButtonEl =\n",
              "            document.querySelector('#' + key + ' button');\n",
              "          quickchartButtonEl.disabled = true;  // To prevent multiple clicks.\n",
              "          quickchartButtonEl.classList.add('colab-df-spinner');\n",
              "          try {\n",
              "            const charts = await google.colab.kernel.invokeFunction(\n",
              "                'suggestCharts', [key], {});\n",
              "          } catch (error) {\n",
              "            console.error('Error during call to suggestCharts:', error);\n",
              "          }\n",
              "          quickchartButtonEl.classList.remove('colab-df-spinner');\n",
              "          quickchartButtonEl.classList.add('colab-df-quickchart-complete');\n",
              "        }\n",
              "        (() => {\n",
              "          let quickchartButtonEl =\n",
              "            document.querySelector('#df-d1db7015-b224-4d1a-94d0-332a672ee086 button');\n",
              "          quickchartButtonEl.style.display =\n",
              "            google.colab.kernel.accessAllowed ? 'block' : 'none';\n",
              "        })();\n",
              "      </script>\n",
              "    </div>\n",
              "\n",
              "    </div>\n",
              "  </div>\n"
            ],
            "application/vnd.google.colaboratory.intrinsic+json": {
              "type": "dataframe",
              "summary": "{\n  \"name\": \"iip_2024[['IIP_z','BSI_z_pred']]\",\n  \"rows\": 12,\n  \"fields\": [\n    {\n      \"column\": \"Date\",\n      \"properties\": {\n        \"dtype\": \"date\",\n        \"min\": \"2024-01-31 00:00:00\",\n        \"max\": \"2024-12-31 00:00:00\",\n        \"num_unique_values\": 12,\n        \"samples\": [\n          \"2024-11-30 00:00:00\",\n          \"2024-10-31 00:00:00\",\n          \"2024-01-31 00:00:00\"\n        ],\n        \"semantic_type\": \"\",\n        \"description\": \"\"\n      }\n    },\n    {\n      \"column\": \"IIP_z\",\n      \"properties\": {\n        \"dtype\": \"number\",\n        \"std\": 1.0,\n        \"min\": -1.1690812601667504,\n        \"max\": 1.9730551236252714,\n        \"num_unique_values\": 12,\n        \"samples\": [\n          -0.6601436768764967,\n          -0.17333381459885538,\n          0.5568809788175972\n        ],\n        \"semantic_type\": \"\",\n        \"description\": \"\"\n      }\n    },\n    {\n      \"column\": \"BSI_z_pred\",\n      \"properties\": {\n        \"dtype\": \"number\",\n        \"std\": 0.49777776989065003,\n        \"min\": -0.5819426625067533,\n        \"max\": 0.9821429793095109,\n        \"num_unique_values\": 12,\n        \"samples\": [\n          -0.32860484728299383,\n          -0.0862817196776551,\n          0.2772029717303484\n        ],\n        \"semantic_type\": \"\",\n        \"description\": \"\"\n      }\n    }\n  ]\n}"
            }
          },
          "metadata": {},
          "execution_count": 9
        }
      ]
    },
    {
      "cell_type": "code",
      "source": [
        "iip_final = pd.read_excel(url,sheet_name=sheet_name2)\n",
        "iip_final"
      ],
      "metadata": {
        "id": "R79Oi7H7_7Cy"
      },
      "execution_count": null,
      "outputs": []
    },
    {
      "cell_type": "code",
      "source": [
        "import pandas as pd\n",
        "from sklearn.linear_model import LinearRegression\n",
        "\n",
        "# Assuming your data is in DataFrame 'df'\n",
        "iip_df = iip_df[['BSI_z', 'IIP_z']].copy()\n",
        "\n",
        "# Create lagged BSI features\n",
        "for lag in [1, 2, 3]:  # Using 3 months of history\n",
        "    iip_df[f'BSI_z_lag{lag}'] = iip_df['BSI_z'].shift(lag)\n",
        "\n",
        "# Drop rows with missing values\n",
        "iip_df = iip_df.dropna()"
      ],
      "metadata": {
        "id": "BwP9PCyjFezd"
      },
      "execution_count": null,
      "outputs": []
    },
    {
      "cell_type": "code",
      "source": [
        "# Features: Lagged BSI + current IIP\n",
        "X_train = iip_df[['BSI_z_lag1', 'BSI_z_lag2', 'BSI_z_lag3', 'IIP_z']]\n",
        "y_train = iip_df['BSI_z']\n",
        "\n",
        "model = LinearRegression().fit(X_train, y_train)\n",
        "print(f\"R-squared: {model.score(X_train, y_train):.2f}\")\n",
        "print(\"Coefficients:\", dict(zip(X_train.columns, model.coef_)))"
      ],
      "metadata": {
        "colab": {
          "base_uri": "https://localhost:8080/"
        },
        "id": "1jCBZAh9FiDR",
        "outputId": "4d1616d3-dc96-4451-a2f5-8acbcfbeae2c"
      },
      "execution_count": null,
      "outputs": [
        {
          "output_type": "stream",
          "name": "stdout",
          "text": [
            "R-squared: 0.57\n",
            "Coefficients: {'BSI_z_lag1': np.float64(0.5073890870310406), 'BSI_z_lag2': np.float64(-0.23049931024852058), 'BSI_z_lag3': np.float64(0.19763725937824955), 'IIP_z': np.float64(0.26306183271376543)}\n"
          ]
        }
      ]
    },
    {
      "cell_type": "code",
      "source": [
        "# Initialize with last 3 months of historical BSI_z\n",
        "last_bsi = iip_df['BSI_z'][-3:].tolist()  # [Dec-23, Nov-23, Oct-23]\n",
        "\n",
        "# Iterative prediction\n",
        "preds = []\n",
        "for i in range(len(iip_2024)):\n",
        "    X_new = pd.DataFrame({\n",
        "        'BSI_z_lag1': [last_bsi[0]],\n",
        "        'BSI_z_lag2': [last_bsi[1]],\n",
        "        'BSI_z_lag3': [last_bsi[2]],\n",
        "        'IIP_z': [iip_2024['IIP_z'].iloc[i]]\n",
        "    })\n",
        "\n",
        "    pred = model.predict(X_new)[0]\n",
        "    preds.append(pred)\n",
        "\n",
        "    # Update lags for next prediction\n",
        "    last_bsi = [pred] + last_bsi[:2]\n",
        "\n",
        "iip_2024['BSI_z_pred'] = preds"
      ],
      "metadata": {
        "id": "8hTVM2heF07f"
      },
      "execution_count": null,
      "outputs": []
    },
    {
      "cell_type": "code",
      "source": [
        "iip_2024['IIP_z']"
      ],
      "metadata": {
        "colab": {
          "base_uri": "https://localhost:8080/",
          "height": 492
        },
        "id": "l485766yGiB_",
        "outputId": "cd115059-e893-4d33-8ed7-4511ec05f142"
      },
      "execution_count": null,
      "outputs": [
        {
          "output_type": "execute_result",
          "data": {
            "text/plain": [
              "Date\n",
              "2024-01-31    0.556881\n",
              "2024-02-29   -0.881421\n",
              "2024-03-31    1.973055\n",
              "2024-04-30   -0.682271\n",
              "2024-05-31    0.800286\n",
              "2024-06-30   -0.018440\n",
              "2024-07-31   -0.283972\n",
              "2024-08-31   -1.169081\n",
              "2024-09-30   -0.925676\n",
              "2024-10-31   -0.173334\n",
              "2024-11-30   -0.660144\n",
              "2024-12-31    1.464118\n",
              "Name: IIP_z, dtype: float64"
            ],
            "text/html": [
              "<div>\n",
              "<style scoped>\n",
              "    .dataframe tbody tr th:only-of-type {\n",
              "        vertical-align: middle;\n",
              "    }\n",
              "\n",
              "    .dataframe tbody tr th {\n",
              "        vertical-align: top;\n",
              "    }\n",
              "\n",
              "    .dataframe thead th {\n",
              "        text-align: right;\n",
              "    }\n",
              "</style>\n",
              "<table border=\"1\" class=\"dataframe\">\n",
              "  <thead>\n",
              "    <tr style=\"text-align: right;\">\n",
              "      <th></th>\n",
              "      <th>IIP_z</th>\n",
              "    </tr>\n",
              "    <tr>\n",
              "      <th>Date</th>\n",
              "      <th></th>\n",
              "    </tr>\n",
              "  </thead>\n",
              "  <tbody>\n",
              "    <tr>\n",
              "      <th>2024-01-31</th>\n",
              "      <td>0.556881</td>\n",
              "    </tr>\n",
              "    <tr>\n",
              "      <th>2024-02-29</th>\n",
              "      <td>-0.881421</td>\n",
              "    </tr>\n",
              "    <tr>\n",
              "      <th>2024-03-31</th>\n",
              "      <td>1.973055</td>\n",
              "    </tr>\n",
              "    <tr>\n",
              "      <th>2024-04-30</th>\n",
              "      <td>-0.682271</td>\n",
              "    </tr>\n",
              "    <tr>\n",
              "      <th>2024-05-31</th>\n",
              "      <td>0.800286</td>\n",
              "    </tr>\n",
              "    <tr>\n",
              "      <th>2024-06-30</th>\n",
              "      <td>-0.018440</td>\n",
              "    </tr>\n",
              "    <tr>\n",
              "      <th>2024-07-31</th>\n",
              "      <td>-0.283972</td>\n",
              "    </tr>\n",
              "    <tr>\n",
              "      <th>2024-08-31</th>\n",
              "      <td>-1.169081</td>\n",
              "    </tr>\n",
              "    <tr>\n",
              "      <th>2024-09-30</th>\n",
              "      <td>-0.925676</td>\n",
              "    </tr>\n",
              "    <tr>\n",
              "      <th>2024-10-31</th>\n",
              "      <td>-0.173334</td>\n",
              "    </tr>\n",
              "    <tr>\n",
              "      <th>2024-11-30</th>\n",
              "      <td>-0.660144</td>\n",
              "    </tr>\n",
              "    <tr>\n",
              "      <th>2024-12-31</th>\n",
              "      <td>1.464118</td>\n",
              "    </tr>\n",
              "  </tbody>\n",
              "</table>\n",
              "</div><br><label><b>dtype:</b> float64</label>"
            ]
          },
          "metadata": {},
          "execution_count": 14
        }
      ]
    },
    {
      "cell_type": "code",
      "execution_count": null,
      "metadata": {
        "colab": {
          "base_uri": "https://localhost:8080/"
        },
        "id": "cCxHUDdQHk5y",
        "outputId": "a55fff00-bb78-4bc8-9c71-2c65d7d997b4"
      },
      "outputs": [
        {
          "output_type": "stream",
          "name": "stdout",
          "text": [
            "Pearson Correlation between BSI and IIP: 0.664\n"
          ]
        }
      ],
      "source": [
        "correlation = iip_df[['BSI_z', 'IIP_z']].corr().iloc[0,1]\n",
        "print(f\"Pearson Correlation between BSI and IIP: {correlation:.3f}\")"
      ]
    },
    {
      "cell_type": "code",
      "source": [
        "from scipy.stats import pearsonr\n",
        "r, p = pearsonr(iip_final['BSI_z_pred'], iip_final['IIP_z'])\n",
        "print(f\"p-value: {p:.4f}\")  # p < 0.05 is significant"
      ],
      "metadata": {
        "colab": {
          "base_uri": "https://localhost:8080/"
        },
        "id": "i1SiY8imJ2_1",
        "outputId": "336c0d24-54fc-435c-a5a5-bc957361f98a"
      },
      "execution_count": null,
      "outputs": [
        {
          "output_type": "stream",
          "name": "stdout",
          "text": [
            "p-value: 0.0037\n"
          ]
        }
      ]
    },
    {
      "cell_type": "code",
      "source": [
        "import seaborn as sns\n",
        "plt.figure(figsize=(8,6))\n",
        "sns.regplot(x='IIP_z', y='BSI_z_pred', data=iip_final,\n",
        "            scatter_kws={'alpha':0.5},\n",
        "            line_kws={'color':'red'})\n",
        "plt.title(f\"BSI vs IIP (r = {0.478:.2f})\")\n",
        "plt.xlabel(\"IIP (Z-score)\"); plt.ylabel(\"BSI (Z-score)\")\n",
        "plt.grid(True)"
      ],
      "metadata": {
        "colab": {
          "base_uri": "https://localhost:8080/",
          "height": 564
        },
        "id": "nhHILvclK5LX",
        "outputId": "85649511-3685-415f-fa45-ad30078db455"
      },
      "execution_count": null,
      "outputs": [
        {
          "output_type": "display_data",
          "data": {
            "text/plain": [
              "<Figure size 800x600 with 1 Axes>"
            ],
            "image/png": "[encoded data removed]"
          },
          "metadata": {}
        }
      ]
    },
    {
      "cell_type": "code",
      "execution_count": null,
      "metadata": {
        "id": "mFG89RjKI8zj"
      },
      "outputs": [],
      "source": [
        "from statsmodels.tsa.stattools import grangercausalitytests\n",
        "\n",
        "grangercausalitytests(iip_df[['IIP_z', 'BSI_z']].dropna(), maxlag=4)"
      ]
    },
    {
      "cell_type": "code",
      "source": [],
      "metadata": {
        "id": "SCvyWQ0j79aT"
      },
      "execution_count": null,
      "outputs": []
    },
    {
      "cell_type": "code",
      "execution_count": null,
      "metadata": {
        "colab": {
          "base_uri": "https://localhost:8080/"
        },
        "id": "O9INYNE9AO-_",
        "outputId": "f2151e9f-6511-45e4-e0ba-2655b2962e0f"
      },
      "outputs": [
        {
          "output_type": "stream",
          "name": "stdout",
          "text": [
            "Correlation at Lag 0 :  0.47763985920578245\n",
            "Correlation at Lag 1 :  0.2743224296367056\n",
            "Correlation at Lag 2 :  0.3949435196795558\n",
            "Correlation at Lag 3 :  0.278374098368177\n"
          ]
        }
      ],
      "source": [
        "iip_final['BSI_lag0'] = iip_final['BSI_z_pred'].shift(0)\n",
        "print(\"Correlation at Lag 0 : \",iip_final[['BSI_lag0', 'IIP_z']].corr().iloc[0,1])\n",
        "\n",
        "iip_final['BSI_lag1'] = iip_final['BSI_z_pred'].shift(1)\n",
        "print(\"Correlation at Lag 1 : \",iip_final[['BSI_lag1', 'IIP_z']].corr().iloc[0,1])\n",
        "\n",
        "iip_final['BSI_lag2'] = iip_final['BSI_z_pred'].shift(2)\n",
        "print(\"Correlation at Lag 2 : \",iip_final[['BSI_lag2', 'IIP_z']].corr().iloc[0,1])\n",
        "\n",
        "iip_final['BSI_lag3'] = iip_final['BSI_z_pred'].shift(3)\n",
        "print(\"Correlation at Lag 3 : \",iip_final[['BSI_lag3', 'IIP_z']].corr().iloc[0,1])"
      ]
    },
    {
      "cell_type": "code",
      "source": [
        "import matplotlib.pyplot as plt\n",
        "import numpy as np\n",
        "\n",
        "# Data\n",
        "lags = [0, 1, 2, 3]\n",
        "correlations = [0.48, 0.27, 0.39, 0.28]  # Rounded for cleaner display\n",
        "colors = ['#1f77b4', '#4e79a7', '#76b7b2', '#59a14f']  # Colorblind-friendly palette\n",
        "\n",
        "# Plot setup\n",
        "plt.figure(figsize=(10, 6))\n",
        "bars = plt.bar(lags, correlations, color=colors, alpha=0.8, width=0.6, edgecolor='white')\n",
        "\n",
        "# Threshold and labels\n",
        "plt.axhline(y=0.3, color='gray', linestyle=':', alpha=0.7, linewidth=1)\n",
        "plt.text(3.05, 0.31, 'Meaningful correlation threshold',\n",
        "        fontsize=9, color='gray', ha='right')\n",
        "\n",
        "# Bar value labels\n",
        "for lag, corr in zip(lags, correlations):\n",
        "    plt.text(lag, corr + 0.02, f'{corr:.2f}',\n",
        "            ha='center', va='bottom', fontsize=11,\n",
        "            bbox=dict(facecolor='white', edgecolor=colors[lag], boxstyle='round,pad=0.2'))\n",
        "\n",
        "# Styling\n",
        "plt.title('IIP-BSI Cross-Correlations by Lag', fontsize=14, pad=20)\n",
        "plt.xlabel('Lag (months)', fontsize=12)\n",
        "plt.ylabel('Pearson Correlation', fontsize=12)\n",
        "plt.xticks(lags, [f'BSI leads IIP by {lag} mo' if lag>0 else 'Concurrent' for lag in lags])\n",
        "plt.ylim(0, 0.6)\n",
        "plt.grid(axis='y', alpha=0.2)\n",
        "\n",
        "# Key annotations\n",
        "plt.annotate('Highest predictive power',\n",
        "            xy=(2, 0.39), xytext=(2.5, 0.45),\n",
        "            arrowprops=dict(arrowstyle='->', color='#76b7b2'),\n",
        "            bbox=dict(boxstyle='round,pad=0.5', fc='white', ec='#76b7b2'),\n",
        "            fontsize=10)\n",
        "\n",
        "plt.annotate('Weak contemporaneous link',\n",
        "            xy=(0, 0.48), xytext=(0.5, 0.35),\n",
        "            arrowprops=dict(arrowstyle='->', color='#1f77b4'),\n",
        "            bbox=dict(boxstyle='round,pad=0.5', fc='white', ec='#1f77b4'),\n",
        "            fontsize=10)\n",
        "\n",
        "# Interpretation note\n",
        "plt.text(0.5, -0.15, 'Note: 2-month lag shows strongest predictive relationship (r=0.39)',\n",
        "        ha='center', va='center', transform=plt.gca().transAxes, fontsize=9, color='gray')\n",
        "\n",
        "plt.tight_layout()\n",
        "plt.savefig('iip_bsi_correlation.png', dpi=300, bbox_inches='tight')\n",
        "plt.show()"
      ],
      "metadata": {
        "id": "tM1Z4DVtVEga"
      },
      "execution_count": null,
      "outputs": []
    },
    {
      "cell_type": "code",
      "execution_count": null,
      "metadata": {
        "id": "_Z5pIb5nHrnc"
      },
      "outputs": [],
      "source": [
        "import matplotlib.pyplot as plt\n",
        "\n",
        "iip_final[['BSI_z_pred', 'IIP_z']].plot(marker='o', figsize=(10,6))\n",
        "plt.title(\"Monthly Business Sentiment Index (BSI) vs Index of Industrial Production (IIP)\")\n",
        "plt.ylabel(\"Indexed Value (Base = 100)\")\n",
        "plt.xlabel(\"Month\")\n",
        "plt.grid(True)\n",
        "plt.show()"
      ]
    },
    {
      "cell_type": "code",
      "source": [
        "import plotly.express as px\n",
        "import pandas as pd\n",
        "stakeholder_df = pd.DataFrame({\n",
        "    'Stakeholder': ['Central Banks', 'Corporates', 'Investors'],\n",
        "    'Primary Use': ['Policy', 'Operations', 'Allocation'],\n",
        "    'BSI Threshold': [1.5, 0.8, 1.0]  # in σ units\n",
        "})\n",
        "fig = px.treemap(stakeholder_df, path=['Primary Use', 'Stakeholder'], values='BSI Threshold',\n",
        "                 title='BSI Utility Across Stakeholders')\n",
        "fig.show()"
      ],
      "metadata": {
        "colab": {
          "base_uri": "https://localhost:8080/",
          "height": 542
        },
        "id": "qMqwYnXgxa5p",
        "outputId": "f0ebde5a-d33a-40bf-ffbd-e6cac7e81ce8"
      },
      "execution_count": null,
      "outputs": [
        {
          "output_type": "display_data",
          "data": {
            "text/html": [
              "<html>\n",
              "<head><meta charset=\"utf-8\" /></head>\n",
              "<body>\n",
              "    <div>            <script src=\"https://cdnjs.cloudflare.com/ajax/libs/mathjax/2.7.5/MathJax.js?config=TeX-AMS-MML_SVG\"></script><script type=\"text/javascript\">if (window.MathJax && window.MathJax.Hub && window.MathJax.Hub.Config) {window.MathJax.Hub.Config({SVG: {font: \"STIX-Web\"}});}</script>                <script type=\"text/javascript\">window.PlotlyConfig = {MathJaxConfig: 'local'};</script>\n",
              "        <script charset=\"utf-8\" src=\"https://cdn.plot.ly/plotly-2.35.2.min.js\"></script>                <div id=\"52846d37-5dbb-4635-b00c-425584239030\" class=\"plotly-graph-div\" style=\"height:525px; width:100%;\"></div>            <script type=\"text/javascript\">                                    window.PLOTLYENV=window.PLOTLYENV || {};                                    if (document.getElementById(\"52846d37-5dbb-4635-b00c-425584239030\")) {                    Plotly.newPlot(                        \"52846d37-5dbb-4635-b00c-425584239030\",                        [{\"branchvalues\":\"total\",\"domain\":{\"x\":[0.0,1.0],\"y\":[0.0,1.0]},\"hovertemplate\":\"labels=%{label}\\u003cbr\\u003eBSI Threshold=%{value}\\u003cbr\\u003eparent=%{parent}\\u003cbr\\u003eid=%{id}\\u003cextra\\u003e\\u003c\\u002fextra\\u003e\",\"ids\":[\"Policy\\u002fCentral Banks\",\"Operations\\u002fCorporates\",\"Allocation\\u002fInvestors\",\"Allocation\",\"Operations\",\"Policy\"],\"labels\":[\"Central Banks\",\"Corporates\",\"Investors\",\"Allocation\",\"Operations\",\"Policy\"],\"name\":\"\",\"parents\":[\"Policy\",\"Operations\",\"Allocation\",\"\",\"\",\"\"],\"values\":[1.5,0.8,1.0,1.0,0.8,1.5],\"type\":\"treemap\"}],                        {\"template\":{\"data\":{\"histogram2dcontour\":[{\"type\":\"histogram2dcontour\",\"colorbar\":{\"outlinewidth\":0,\"ticks\":\"\"},\"colorscale\":[[0.0,\"#0d0887\"],[0.1111111111111111,\"#46039f\"],[0.2222222222222222,\"#7201a8\"],[0.3333333333333333,\"#9c179e\"],[0.4444444444444444,\"#bd3786\"],[0.5555555555555556,\"#d8576b\"],[0.6666666666666666,\"#ed7953\"],[0.7777777777777778,\"#fb9f3a\"],[0.8888888888888888,\"#fdca26\"],[1.0,\"#f0f921\"]]}],\"choropleth\":[{\"type\":\"choropleth\",\"colorbar\":{\"outlinewidth\":0,\"ticks\":\"\"}}],\"histogram2d\":[{\"type\":\"histogram2d\",\"colorbar\":{\"outlinewidth\":0,\"ticks\":\"\"},\"colorscale\":[[0.0,\"#0d0887\"],[0.1111111111111111,\"#46039f\"],[0.2222222222222222,\"#7201a8\"],[0.3333333333333333,\"#9c179e\"],[0.4444444444444444,\"#bd3786\"],[0.5555555555555556,\"#d8576b\"],[0.6666666666666666,\"#ed7953\"],[0.7777777777777778,\"#fb9f3a\"],[0.8888888888888888,\"#fdca26\"],[1.0,\"#f0f921\"]]}],\"heatmap\":[{\"type\":\"heatmap\",\"colorbar\":{\"outlinewidth\":0,\"ticks\":\"\"},\"colorscale\":[[0.0,\"#0d0887\"],[0.1111111111111111,\"#46039f\"],[0.2222222222222222,\"#7201a8\"],[0.3333333333333333,\"#9c179e\"],[0.4444444444444444,\"#bd3786\"],[0.5555555555555556,\"#d8576b\"],[0.6666666666666666,\"#ed7953\"],[0.7777777777777778,\"#fb9f3a\"],[0.8888888888888888,\"#fdca26\"],[1.0,\"#f0f921\"]]}],\"heatmapgl\":[{\"type\":\"heatmapgl\",\"colorbar\":{\"outlinewidth\":0,\"ticks\":\"\"},\"colorscale\":[[0.0,\"#0d0887\"],[0.1111111111111111,\"#46039f\"],[0.2222222222222222,\"#7201a8\"],[0.3333333333333333,\"#9c179e\"],[0.4444444444444444,\"#bd3786\"],[0.5555555555555556,\"#d8576b\"],[0.6666666666666666,\"#ed7953\"],[0.7777777777777778,\"#fb9f3a\"],[0.8888888888888888,\"#fdca26\"],[1.0,\"#f0f921\"]]}],\"contourcarpet\":[{\"type\":\"contourcarpet\",\"colorbar\":{\"outlinewidth\":0,\"ticks\":\"\"}}],\"contour\":[{\"type\":\"contour\",\"colorbar\":{\"outlinewidth\":0,\"ticks\":\"\"},\"colorscale\":[[0.0,\"#0d0887\"],[0.1111111111111111,\"#46039f\"],[0.2222222222222222,\"#7201a8\"],[0.3333333333333333,\"#9c179e\"],[0.4444444444444444,\"#bd3786\"],[0.5555555555555556,\"#d8576b\"],[0.6666666666666666,\"#ed7953\"],[0.7777777777777778,\"#fb9f3a\"],[0.8888888888888888,\"#fdca26\"],[1.0,\"#f0f921\"]]}],\"surface\":[{\"type\":\"surface\",\"colorbar\":{\"outlinewidth\":0,\"ticks\":\"\"},\"colorscale\":[[0.0,\"#0d0887\"],[0.1111111111111111,\"#46039f\"],[0.2222222222222222,\"#7201a8\"],[0.3333333333333333,\"#9c179e\"],[0.4444444444444444,\"#bd3786\"],[0.5555555555555556,\"#d8576b\"],[0.6666666666666666,\"#ed7953\"],[0.7777777777777778,\"#fb9f3a\"],[0.8888888888888888,\"#fdca26\"],[1.0,\"#f0f921\"]]}],\"mesh3d\":[{\"type\":\"mesh3d\",\"colorbar\":{\"outlinewidth\":0,\"ticks\":\"\"}}],\"scatter\":[{\"fillpattern\":{\"fillmode\":\"overlay\",\"size\":10,\"solidity\":0.2},\"type\":\"scatter\"}],\"parcoords\":[{\"type\":\"parcoords\",\"line\":{\"colorbar\":{\"outlinewidth\":0,\"ticks\":\"\"}}}],\"scatterpolargl\":[{\"type\":\"scatterpolargl\",\"marker\":{\"colorbar\":{\"outlinewidth\":0,\"ticks\":\"\"}}}],\"bar\":[{\"error_x\":{\"color\":\"#2a3f5f\"},\"error_y\":{\"color\":\"#2a3f5f\"},\"marker\":{\"line\":{\"color\":\"#E5ECF6\",\"width\":0.5},\"pattern\":{\"fillmode\":\"overlay\",\"size\":10,\"solidity\":0.2}},\"type\":\"bar\"}],\"scattergeo\":[{\"type\":\"scattergeo\",\"marker\":{\"colorbar\":{\"outlinewidth\":0,\"ticks\":\"\"}}}],\"scatterpolar\":[{\"type\":\"scatterpolar\",\"marker\":{\"colorbar\":{\"outlinewidth\":0,\"ticks\":\"\"}}}],\"histogram\":[{\"marker\":{\"pattern\":{\"fillmode\":\"overlay\",\"size\":10,\"solidity\":0.2}},\"type\":\"histogram\"}],\"scattergl\":[{\"type\":\"scattergl\",\"marker\":{\"colorbar\":{\"outlinewidth\":0,\"ticks\":\"\"}}}],\"scatter3d\":[{\"type\":\"scatter3d\",\"line\":{\"colorbar\":{\"outlinewidth\":0,\"ticks\":\"\"}},\"marker\":{\"colorbar\":{\"outlinewidth\":0,\"ticks\":\"\"}}}],\"scattermapbox\":[{\"type\":\"scattermapbox\",\"marker\":{\"colorbar\":{\"outlinewidth\":0,\"ticks\":\"\"}}}],\"scatterternary\":[{\"type\":\"scatterternary\",\"marker\":{\"colorbar\":{\"outlinewidth\":0,\"ticks\":\"\"}}}],\"scattercarpet\":[{\"type\":\"scattercarpet\",\"marker\":{\"colorbar\":{\"outlinewidth\":0,\"ticks\":\"\"}}}],\"carpet\":[{\"aaxis\":{\"endlinecolor\":\"#2a3f5f\",\"gridcolor\":\"white\",\"linecolor\":\"white\",\"minorgridcolor\":\"white\",\"startlinecolor\":\"#2a3f5f\"},\"baxis\":{\"endlinecolor\":\"#2a3f5f\",\"gridcolor\":\"white\",\"linecolor\":\"white\",\"minorgridcolor\":\"white\",\"startlinecolor\":\"#2a3f5f\"},\"type\":\"carpet\"}],\"table\":[{\"cells\":{\"fill\":{\"color\":\"#EBF0F8\"},\"line\":{\"color\":\"white\"}},\"header\":{\"fill\":{\"color\":\"#C8D4E3\"},\"line\":{\"color\":\"white\"}},\"type\":\"table\"}],\"barpolar\":[{\"marker\":{\"line\":{\"color\":\"#E5ECF6\",\"width\":0.5},\"pattern\":{\"fillmode\":\"overlay\",\"size\":10,\"solidity\":0.2}},\"type\":\"barpolar\"}],\"pie\":[{\"automargin\":true,\"type\":\"pie\"}]},\"layout\":{\"autotypenumbers\":\"strict\",\"colorway\":[\"#636efa\",\"#EF553B\",\"#00cc96\",\"#ab63fa\",\"#FFA15A\",\"#19d3f3\",\"#FF6692\",\"#B6E880\",\"#FF97FF\",\"#FECB52\"],\"font\":{\"color\":\"#2a3f5f\"},\"hovermode\":\"closest\",\"hoverlabel\":{\"align\":\"left\"},\"paper_bgcolor\":\"white\",\"plot_bgcolor\":\"#E5ECF6\",\"polar\":{\"bgcolor\":\"#E5ECF6\",\"angularaxis\":{\"gridcolor\":\"white\",\"linecolor\":\"white\",\"ticks\":\"\"},\"radialaxis\":{\"gridcolor\":\"white\",\"linecolor\":\"white\",\"ticks\":\"\"}},\"ternary\":{\"bgcolor\":\"#E5ECF6\",\"aaxis\":{\"gridcolor\":\"white\",\"linecolor\":\"white\",\"ticks\":\"\"},\"baxis\":{\"gridcolor\":\"white\",\"linecolor\":\"white\",\"ticks\":\"\"},\"caxis\":{\"gridcolor\":\"white\",\"linecolor\":\"white\",\"ticks\":\"\"}},\"coloraxis\":{\"colorbar\":{\"outlinewidth\":0,\"ticks\":\"\"}},\"colorscale\":{\"sequential\":[[0.0,\"#0d0887\"],[0.1111111111111111,\"#46039f\"],[0.2222222222222222,\"#7201a8\"],[0.3333333333333333,\"#9c179e\"],[0.4444444444444444,\"#bd3786\"],[0.5555555555555556,\"#d8576b\"],[0.6666666666666666,\"#ed7953\"],[0.7777777777777778,\"#fb9f3a\"],[0.8888888888888888,\"#fdca26\"],[1.0,\"#f0f921\"]],\"sequentialminus\":[[0.0,\"#0d0887\"],[0.1111111111111111,\"#46039f\"],[0.2222222222222222,\"#7201a8\"],[0.3333333333333333,\"#9c179e\"],[0.4444444444444444,\"#bd3786\"],[0.5555555555555556,\"#d8576b\"],[0.6666666666666666,\"#ed7953\"],[0.7777777777777778,\"#fb9f3a\"],[0.8888888888888888,\"#fdca26\"],[1.0,\"#f0f921\"]],\"diverging\":[[0,\"#8e0152\"],[0.1,\"#c51b7d\"],[0.2,\"#de77ae\"],[0.3,\"#f1b6da\"],[0.4,\"#fde0ef\"],[0.5,\"#f7f7f7\"],[0.6,\"#e6f5d0\"],[0.7,\"#b8e186\"],[0.8,\"#7fbc41\"],[0.9,\"#4d9221\"],[1,\"#276419\"]]},\"xaxis\":{\"gridcolor\":\"white\",\"linecolor\":\"white\",\"ticks\":\"\",\"title\":{\"standoff\":15},\"zerolinecolor\":\"white\",\"automargin\":true,\"zerolinewidth\":2},\"yaxis\":{\"gridcolor\":\"white\",\"linecolor\":\"white\",\"ticks\":\"\",\"title\":{\"standoff\":15},\"zerolinecolor\":\"white\",\"automargin\":true,\"zerolinewidth\":2},\"scene\":{\"xaxis\":{\"backgroundcolor\":\"#E5ECF6\",\"gridcolor\":\"white\",\"linecolor\":\"white\",\"showbackground\":true,\"ticks\":\"\",\"zerolinecolor\":\"white\",\"gridwidth\":2},\"yaxis\":{\"backgroundcolor\":\"#E5ECF6\",\"gridcolor\":\"white\",\"linecolor\":\"white\",\"showbackground\":true,\"ticks\":\"\",\"zerolinecolor\":\"white\",\"gridwidth\":2},\"zaxis\":{\"backgroundcolor\":\"#E5ECF6\",\"gridcolor\":\"white\",\"linecolor\":\"white\",\"showbackground\":true,\"ticks\":\"\",\"zerolinecolor\":\"white\",\"gridwidth\":2}},\"shapedefaults\":{\"line\":{\"color\":\"#2a3f5f\"}},\"annotationdefaults\":{\"arrowcolor\":\"#2a3f5f\",\"arrowhead\":0,\"arrowwidth\":1},\"geo\":{\"bgcolor\":\"white\",\"landcolor\":\"#E5ECF6\",\"subunitcolor\":\"white\",\"showland\":true,\"showlakes\":true,\"lakecolor\":\"white\"},\"title\":{\"x\":0.05},\"mapbox\":{\"style\":\"light\"}}},\"legend\":{\"tracegroupgap\":0},\"title\":{\"text\":\"BSI Utility Across Stakeholders\"}},                        {\"responsive\": true}                    ).then(function(){\n",
              "                            \n",
              "var gd = document.getElementById('52846d37-5dbb-4635-b00c-425584239030');\n",
              "var x = new MutationObserver(function (mutations, observer) {{\n",
              "        var display = window.getComputedStyle(gd).display;\n",
              "        if (!display || display === 'none') {{\n",
              "            console.log([gd, 'removed!']);\n",
              "            Plotly.purge(gd);\n",
              "            observer.disconnect();\n",
              "        }}\n",
              "}});\n",
              "\n",
              "// Listen for the removal of the full notebook cells\n",
              "var notebookContainer = gd.closest('#notebook-container');\n",
              "if (notebookContainer) {{\n",
              "    x.observe(notebookContainer, {childList: true});\n",
              "}}\n",
              "\n",
              "// Listen for the clearing of the current output cell\n",
              "var outputEl = gd.closest('.output');\n",
              "if (outputEl) {{\n",
              "    x.observe(outputEl, {childList: true});\n",
              "}}\n",
              "\n",
              "                        })                };                            </script>        </div>\n",
              "</body>\n",
              "</html>"
            ]
          },
          "metadata": {}
        }
      ]
    }
  ],
  "metadata": {
    "colab": {
      "provenance": [],
      "gpuType": "T4",
      "mount_file_id": "1cDKA_6B3hHiAkamyynI9TURJtbWXjmwv",
      "authorship_tag": "ABX9TyMmAe4Jyu8dQbKi/pLMnwLq",
      "include_colab_link": true
    },
    "kernelspec": {
      "display_name": "Python 3",
      "name": "python3"
    },
    "language_info": {
      "name": "python"
    }
  },
  "nbformat": 4,
  "nbformat_minor": 0
}